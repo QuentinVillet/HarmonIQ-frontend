{
 "cells": [
  {
   "cell_type": "markdown",
   "id": "e8b6f382",
   "metadata": {
    "heading_collapsed": true
   },
   "source": [
    "### Import"
   ]
  },
  {
   "cell_type": "code",
   "execution_count": 1,
   "id": "4e161eb6",
   "metadata": {
    "hidden": true
   },
   "outputs": [],
   "source": [
    "import pandas as pd\n",
    "import spotipy\n",
    "from spotipy.oauth2 import SpotifyOAuth, SpotifyClientCredentials\n",
    "from spotipy import Spotify\n",
    "from spotipy.exceptions import SpotifyException\n",
    "\n",
    "import base64\n",
    "import requests\n",
    "from requests import post, get\n",
    "import time"
   ]
  },
  {
   "cell_type": "code",
   "execution_count": 2,
   "id": "07e1c665",
   "metadata": {
    "hidden": true,
    "scrolled": true
   },
   "outputs": [],
   "source": [
    "# Preprocessing\n",
    "from sklearn.preprocessing import StandardScaler, RobustScaler\n",
    "from sklearn.preprocessing import MinMaxScaler\n",
    "from sklearn.preprocessing import OneHotEncoder, LabelEncoder\n",
    "from sklearn.impute import KNNImputer, SimpleImputer\n",
    "\n",
    "# Feature Selection + Dimensionality reduction\n",
    "from sklearn.decomposition import PCA\n",
    "from sklearn.inspection import permutation_importance\n",
    "\n",
    "# Models (estimators)\n",
    "from sklearn.linear_model import LinearRegression, Ridge\n",
    "from sklearn.linear_model import LogisticRegression\n",
    "from sklearn.linear_model import SGDRegressor, SGDClassifier\n",
    "from sklearn.tree import DecisionTreeClassifier, DecisionTreeRegressor\n",
    "from sklearn.ensemble import RandomForestRegressor, RandomForestClassifier\n",
    "from sklearn.ensemble import StackingRegressor, VotingRegressor\n",
    "from sklearn.dummy import DummyRegressor, DummyClassifier\n",
    "from sklearn.neighbors import KNeighborsRegressor, KNeighborsClassifier\n",
    "from sklearn.cluster import KMeans\n",
    "\n",
    "# Evaluate Models\n",
    "from sklearn.model_selection import cross_validate, cross_val_score, cross_val_predict\n",
    "from sklearn.model_selection import learning_curve, StratifiedKFold\n",
    "## Scoring + Metrics\n",
    "from sklearn.metrics import mean_squared_error, mean_absolute_error, r2_score, max_error\n",
    "from sklearn.metrics import accuracy_score, precision_score, recall_score, f1_score\n",
    "from sklearn.metrics import make_scorer\n",
    "from sklearn.metrics import ConfusionMatrixDisplay, PrecisionRecallDisplay #.from_estimator()\n",
    "from sklearn.metrics import confusion_matrix, precision_recall_curve\n",
    "from sklearn.metrics import classification_report\n",
    "\n",
    "# Pipelines\n",
    "from sklearn.pipeline import Pipeline, make_pipeline, FeatureUnion, make_union\n",
    "from sklearn.compose import ColumnTransformer, make_column_transformer, make_column_selector\n",
    "from sklearn.preprocessing import FunctionTransformer\n",
    "from sklearn.model_selection import GridSearchCV,RandomizedSearchCV\n",
    "\n",
    "from sklearn.model_selection import train_test_split\n",
    "from sklearn.datasets import make_regression, make_classification, make_multilabel_classification, make_blobs\n",
    "import pickle"
   ]
  },
  {
   "cell_type": "markdown",
   "id": "7b3537d1",
   "metadata": {
    "jp-MarkdownHeadingCollapsed": true
   },
   "source": [
    "# Dataset"
   ]
  },
  {
   "cell_type": "code",
   "execution_count": 132,
   "id": "81e08e6b",
   "metadata": {},
   "outputs": [],
   "source": [
    "df = pd.read_csv('/home/mellerio/code/moogrocker/HarmonIQ/data/dataset.csv')"
   ]
  },
  {
   "cell_type": "code",
   "execution_count": 133,
   "id": "ccad7376",
   "metadata": {},
   "outputs": [],
   "source": [
    "df = df.drop(columns=['Unnamed: 0'])"
   ]
  },
  {
   "cell_type": "code",
   "execution_count": 134,
   "id": "28ca1a60",
   "metadata": {},
   "outputs": [
    {
     "data": {
      "text/html": [
       "<div>\n",
       "<style scoped>\n",
       "    .dataframe tbody tr th:only-of-type {\n",
       "        vertical-align: middle;\n",
       "    }\n",
       "\n",
       "    .dataframe tbody tr th {\n",
       "        vertical-align: top;\n",
       "    }\n",
       "\n",
       "    .dataframe thead th {\n",
       "        text-align: right;\n",
       "    }\n",
       "</style>\n",
       "<table border=\"1\" class=\"dataframe\">\n",
       "  <thead>\n",
       "    <tr style=\"text-align: right;\">\n",
       "      <th></th>\n",
       "      <th>track_id</th>\n",
       "      <th>artists</th>\n",
       "      <th>album_name</th>\n",
       "      <th>track_name</th>\n",
       "      <th>popularity</th>\n",
       "      <th>duration_ms</th>\n",
       "      <th>explicit</th>\n",
       "      <th>danceability</th>\n",
       "      <th>energy</th>\n",
       "      <th>key</th>\n",
       "      <th>loudness</th>\n",
       "      <th>mode</th>\n",
       "      <th>speechiness</th>\n",
       "      <th>acousticness</th>\n",
       "      <th>instrumentalness</th>\n",
       "      <th>liveness</th>\n",
       "      <th>valence</th>\n",
       "      <th>tempo</th>\n",
       "      <th>time_signature</th>\n",
       "      <th>track_genre</th>\n",
       "    </tr>\n",
       "  </thead>\n",
       "  <tbody>\n",
       "    <tr>\n",
       "      <th>0</th>\n",
       "      <td>5SuOikwiRyPMVoIQDJUgSV</td>\n",
       "      <td>Gen Hoshino</td>\n",
       "      <td>Comedy</td>\n",
       "      <td>Comedy</td>\n",
       "      <td>73</td>\n",
       "      <td>230666</td>\n",
       "      <td>False</td>\n",
       "      <td>0.676</td>\n",
       "      <td>0.4610</td>\n",
       "      <td>1</td>\n",
       "      <td>-6.746</td>\n",
       "      <td>0</td>\n",
       "      <td>0.1430</td>\n",
       "      <td>0.0322</td>\n",
       "      <td>0.000001</td>\n",
       "      <td>0.3580</td>\n",
       "      <td>0.715</td>\n",
       "      <td>87.917</td>\n",
       "      <td>4</td>\n",
       "      <td>acoustic</td>\n",
       "    </tr>\n",
       "    <tr>\n",
       "      <th>1</th>\n",
       "      <td>4qPNDBW1i3p13qLCt0Ki3A</td>\n",
       "      <td>Ben Woodward</td>\n",
       "      <td>Ghost (Acoustic)</td>\n",
       "      <td>Ghost - Acoustic</td>\n",
       "      <td>55</td>\n",
       "      <td>149610</td>\n",
       "      <td>False</td>\n",
       "      <td>0.420</td>\n",
       "      <td>0.1660</td>\n",
       "      <td>1</td>\n",
       "      <td>-17.235</td>\n",
       "      <td>1</td>\n",
       "      <td>0.0763</td>\n",
       "      <td>0.9240</td>\n",
       "      <td>0.000006</td>\n",
       "      <td>0.1010</td>\n",
       "      <td>0.267</td>\n",
       "      <td>77.489</td>\n",
       "      <td>4</td>\n",
       "      <td>acoustic</td>\n",
       "    </tr>\n",
       "    <tr>\n",
       "      <th>2</th>\n",
       "      <td>1iJBSr7s7jYXzM8EGcbK5b</td>\n",
       "      <td>Ingrid Michaelson;ZAYN</td>\n",
       "      <td>To Begin Again</td>\n",
       "      <td>To Begin Again</td>\n",
       "      <td>57</td>\n",
       "      <td>210826</td>\n",
       "      <td>False</td>\n",
       "      <td>0.438</td>\n",
       "      <td>0.3590</td>\n",
       "      <td>0</td>\n",
       "      <td>-9.734</td>\n",
       "      <td>1</td>\n",
       "      <td>0.0557</td>\n",
       "      <td>0.2100</td>\n",
       "      <td>0.000000</td>\n",
       "      <td>0.1170</td>\n",
       "      <td>0.120</td>\n",
       "      <td>76.332</td>\n",
       "      <td>4</td>\n",
       "      <td>acoustic</td>\n",
       "    </tr>\n",
       "    <tr>\n",
       "      <th>3</th>\n",
       "      <td>6lfxq3CG4xtTiEg7opyCyx</td>\n",
       "      <td>Kina Grannis</td>\n",
       "      <td>Crazy Rich Asians (Original Motion Picture Sou...</td>\n",
       "      <td>Can't Help Falling In Love</td>\n",
       "      <td>71</td>\n",
       "      <td>201933</td>\n",
       "      <td>False</td>\n",
       "      <td>0.266</td>\n",
       "      <td>0.0596</td>\n",
       "      <td>0</td>\n",
       "      <td>-18.515</td>\n",
       "      <td>1</td>\n",
       "      <td>0.0363</td>\n",
       "      <td>0.9050</td>\n",
       "      <td>0.000071</td>\n",
       "      <td>0.1320</td>\n",
       "      <td>0.143</td>\n",
       "      <td>181.740</td>\n",
       "      <td>3</td>\n",
       "      <td>acoustic</td>\n",
       "    </tr>\n",
       "    <tr>\n",
       "      <th>4</th>\n",
       "      <td>5vjLSffimiIP26QG5WcN2K</td>\n",
       "      <td>Chord Overstreet</td>\n",
       "      <td>Hold On</td>\n",
       "      <td>Hold On</td>\n",
       "      <td>82</td>\n",
       "      <td>198853</td>\n",
       "      <td>False</td>\n",
       "      <td>0.618</td>\n",
       "      <td>0.4430</td>\n",
       "      <td>2</td>\n",
       "      <td>-9.681</td>\n",
       "      <td>1</td>\n",
       "      <td>0.0526</td>\n",
       "      <td>0.4690</td>\n",
       "      <td>0.000000</td>\n",
       "      <td>0.0829</td>\n",
       "      <td>0.167</td>\n",
       "      <td>119.949</td>\n",
       "      <td>4</td>\n",
       "      <td>acoustic</td>\n",
       "    </tr>\n",
       "  </tbody>\n",
       "</table>\n",
       "</div>"
      ],
      "text/plain": [
       "                 track_id                 artists  \\\n",
       "0  5SuOikwiRyPMVoIQDJUgSV             Gen Hoshino   \n",
       "1  4qPNDBW1i3p13qLCt0Ki3A            Ben Woodward   \n",
       "2  1iJBSr7s7jYXzM8EGcbK5b  Ingrid Michaelson;ZAYN   \n",
       "3  6lfxq3CG4xtTiEg7opyCyx            Kina Grannis   \n",
       "4  5vjLSffimiIP26QG5WcN2K        Chord Overstreet   \n",
       "\n",
       "                                          album_name  \\\n",
       "0                                             Comedy   \n",
       "1                                   Ghost (Acoustic)   \n",
       "2                                     To Begin Again   \n",
       "3  Crazy Rich Asians (Original Motion Picture Sou...   \n",
       "4                                            Hold On   \n",
       "\n",
       "                   track_name  popularity  duration_ms  explicit  \\\n",
       "0                      Comedy          73       230666     False   \n",
       "1            Ghost - Acoustic          55       149610     False   \n",
       "2              To Begin Again          57       210826     False   \n",
       "3  Can't Help Falling In Love          71       201933     False   \n",
       "4                     Hold On          82       198853     False   \n",
       "\n",
       "   danceability  energy  key  loudness  mode  speechiness  acousticness  \\\n",
       "0         0.676  0.4610    1    -6.746     0       0.1430        0.0322   \n",
       "1         0.420  0.1660    1   -17.235     1       0.0763        0.9240   \n",
       "2         0.438  0.3590    0    -9.734     1       0.0557        0.2100   \n",
       "3         0.266  0.0596    0   -18.515     1       0.0363        0.9050   \n",
       "4         0.618  0.4430    2    -9.681     1       0.0526        0.4690   \n",
       "\n",
       "   instrumentalness  liveness  valence    tempo  time_signature track_genre  \n",
       "0          0.000001    0.3580    0.715   87.917               4    acoustic  \n",
       "1          0.000006    0.1010    0.267   77.489               4    acoustic  \n",
       "2          0.000000    0.1170    0.120   76.332               4    acoustic  \n",
       "3          0.000071    0.1320    0.143  181.740               3    acoustic  \n",
       "4          0.000000    0.0829    0.167  119.949               4    acoustic  "
      ]
     },
     "execution_count": 134,
     "metadata": {},
     "output_type": "execute_result"
    }
   ],
   "source": [
    "df.head()"
   ]
  },
  {
   "cell_type": "code",
   "execution_count": 8,
   "id": "21737969",
   "metadata": {},
   "outputs": [],
   "source": [
    "df_gpt = df.describe()"
   ]
  },
  {
   "cell_type": "code",
   "execution_count": 156,
   "id": "c5ba0e88",
   "metadata": {},
   "outputs": [
    {
     "ename": "FileNotFoundError",
     "evalue": "[Errno 2] No such file or directory: '../../raw_data/tracks_features.csv'",
     "output_type": "error",
     "traceback": [
      "\u001b[0;31m---------------------------------------------------------------------------\u001b[0m",
      "\u001b[0;31mFileNotFoundError\u001b[0m                         Traceback (most recent call last)",
      "Cell \u001b[0;32mIn[156], line 1\u001b[0m\n\u001b[0;32m----> 1\u001b[0m df_million \u001b[38;5;241m=\u001b[39m \u001b[43mpd\u001b[49m\u001b[38;5;241;43m.\u001b[39;49m\u001b[43mread_csv\u001b[49m\u001b[43m(\u001b[49m\u001b[38;5;124;43m'\u001b[39;49m\u001b[38;5;124;43m../../raw_data/tracks_features.csv\u001b[39;49m\u001b[38;5;124;43m'\u001b[39;49m\u001b[43m)\u001b[49m\n",
      "File \u001b[0;32m~/.pyenv/versions/3.10.6/envs/HarmonIQ/lib/python3.10/site-packages/pandas/util/_decorators.py:211\u001b[0m, in \u001b[0;36mdeprecate_kwarg.<locals>._deprecate_kwarg.<locals>.wrapper\u001b[0;34m(*args, **kwargs)\u001b[0m\n\u001b[1;32m    209\u001b[0m     \u001b[38;5;28;01melse\u001b[39;00m:\n\u001b[1;32m    210\u001b[0m         kwargs[new_arg_name] \u001b[38;5;241m=\u001b[39m new_arg_value\n\u001b[0;32m--> 211\u001b[0m \u001b[38;5;28;01mreturn\u001b[39;00m \u001b[43mfunc\u001b[49m\u001b[43m(\u001b[49m\u001b[38;5;241;43m*\u001b[39;49m\u001b[43margs\u001b[49m\u001b[43m,\u001b[49m\u001b[43m \u001b[49m\u001b[38;5;241;43m*\u001b[39;49m\u001b[38;5;241;43m*\u001b[39;49m\u001b[43mkwargs\u001b[49m\u001b[43m)\u001b[49m\n",
      "File \u001b[0;32m~/.pyenv/versions/3.10.6/envs/HarmonIQ/lib/python3.10/site-packages/pandas/util/_decorators.py:331\u001b[0m, in \u001b[0;36mdeprecate_nonkeyword_arguments.<locals>.decorate.<locals>.wrapper\u001b[0;34m(*args, **kwargs)\u001b[0m\n\u001b[1;32m    325\u001b[0m \u001b[38;5;28;01mif\u001b[39;00m \u001b[38;5;28mlen\u001b[39m(args) \u001b[38;5;241m>\u001b[39m num_allow_args:\n\u001b[1;32m    326\u001b[0m     warnings\u001b[38;5;241m.\u001b[39mwarn(\n\u001b[1;32m    327\u001b[0m         msg\u001b[38;5;241m.\u001b[39mformat(arguments\u001b[38;5;241m=\u001b[39m_format_argument_list(allow_args)),\n\u001b[1;32m    328\u001b[0m         \u001b[38;5;167;01mFutureWarning\u001b[39;00m,\n\u001b[1;32m    329\u001b[0m         stacklevel\u001b[38;5;241m=\u001b[39mfind_stack_level(),\n\u001b[1;32m    330\u001b[0m     )\n\u001b[0;32m--> 331\u001b[0m \u001b[38;5;28;01mreturn\u001b[39;00m \u001b[43mfunc\u001b[49m\u001b[43m(\u001b[49m\u001b[38;5;241;43m*\u001b[39;49m\u001b[43margs\u001b[49m\u001b[43m,\u001b[49m\u001b[43m \u001b[49m\u001b[38;5;241;43m*\u001b[39;49m\u001b[38;5;241;43m*\u001b[39;49m\u001b[43mkwargs\u001b[49m\u001b[43m)\u001b[49m\n",
      "File \u001b[0;32m~/.pyenv/versions/3.10.6/envs/HarmonIQ/lib/python3.10/site-packages/pandas/io/parsers/readers.py:950\u001b[0m, in \u001b[0;36mread_csv\u001b[0;34m(filepath_or_buffer, sep, delimiter, header, names, index_col, usecols, squeeze, prefix, mangle_dupe_cols, dtype, engine, converters, true_values, false_values, skipinitialspace, skiprows, skipfooter, nrows, na_values, keep_default_na, na_filter, verbose, skip_blank_lines, parse_dates, infer_datetime_format, keep_date_col, date_parser, dayfirst, cache_dates, iterator, chunksize, compression, thousands, decimal, lineterminator, quotechar, quoting, doublequote, escapechar, comment, encoding, encoding_errors, dialect, error_bad_lines, warn_bad_lines, on_bad_lines, delim_whitespace, low_memory, memory_map, float_precision, storage_options)\u001b[0m\n\u001b[1;32m    935\u001b[0m kwds_defaults \u001b[38;5;241m=\u001b[39m _refine_defaults_read(\n\u001b[1;32m    936\u001b[0m     dialect,\n\u001b[1;32m    937\u001b[0m     delimiter,\n\u001b[0;32m   (...)\u001b[0m\n\u001b[1;32m    946\u001b[0m     defaults\u001b[38;5;241m=\u001b[39m{\u001b[38;5;124m\"\u001b[39m\u001b[38;5;124mdelimiter\u001b[39m\u001b[38;5;124m\"\u001b[39m: \u001b[38;5;124m\"\u001b[39m\u001b[38;5;124m,\u001b[39m\u001b[38;5;124m\"\u001b[39m},\n\u001b[1;32m    947\u001b[0m )\n\u001b[1;32m    948\u001b[0m kwds\u001b[38;5;241m.\u001b[39mupdate(kwds_defaults)\n\u001b[0;32m--> 950\u001b[0m \u001b[38;5;28;01mreturn\u001b[39;00m \u001b[43m_read\u001b[49m\u001b[43m(\u001b[49m\u001b[43mfilepath_or_buffer\u001b[49m\u001b[43m,\u001b[49m\u001b[43m \u001b[49m\u001b[43mkwds\u001b[49m\u001b[43m)\u001b[49m\n",
      "File \u001b[0;32m~/.pyenv/versions/3.10.6/envs/HarmonIQ/lib/python3.10/site-packages/pandas/io/parsers/readers.py:605\u001b[0m, in \u001b[0;36m_read\u001b[0;34m(filepath_or_buffer, kwds)\u001b[0m\n\u001b[1;32m    602\u001b[0m _validate_names(kwds\u001b[38;5;241m.\u001b[39mget(\u001b[38;5;124m\"\u001b[39m\u001b[38;5;124mnames\u001b[39m\u001b[38;5;124m\"\u001b[39m, \u001b[38;5;28;01mNone\u001b[39;00m))\n\u001b[1;32m    604\u001b[0m \u001b[38;5;66;03m# Create the parser.\u001b[39;00m\n\u001b[0;32m--> 605\u001b[0m parser \u001b[38;5;241m=\u001b[39m \u001b[43mTextFileReader\u001b[49m\u001b[43m(\u001b[49m\u001b[43mfilepath_or_buffer\u001b[49m\u001b[43m,\u001b[49m\u001b[43m \u001b[49m\u001b[38;5;241;43m*\u001b[39;49m\u001b[38;5;241;43m*\u001b[39;49m\u001b[43mkwds\u001b[49m\u001b[43m)\u001b[49m\n\u001b[1;32m    607\u001b[0m \u001b[38;5;28;01mif\u001b[39;00m chunksize \u001b[38;5;129;01mor\u001b[39;00m iterator:\n\u001b[1;32m    608\u001b[0m     \u001b[38;5;28;01mreturn\u001b[39;00m parser\n",
      "File \u001b[0;32m~/.pyenv/versions/3.10.6/envs/HarmonIQ/lib/python3.10/site-packages/pandas/io/parsers/readers.py:1442\u001b[0m, in \u001b[0;36mTextFileReader.__init__\u001b[0;34m(self, f, engine, **kwds)\u001b[0m\n\u001b[1;32m   1439\u001b[0m     \u001b[38;5;28mself\u001b[39m\u001b[38;5;241m.\u001b[39moptions[\u001b[38;5;124m\"\u001b[39m\u001b[38;5;124mhas_index_names\u001b[39m\u001b[38;5;124m\"\u001b[39m] \u001b[38;5;241m=\u001b[39m kwds[\u001b[38;5;124m\"\u001b[39m\u001b[38;5;124mhas_index_names\u001b[39m\u001b[38;5;124m\"\u001b[39m]\n\u001b[1;32m   1441\u001b[0m \u001b[38;5;28mself\u001b[39m\u001b[38;5;241m.\u001b[39mhandles: IOHandles \u001b[38;5;241m|\u001b[39m \u001b[38;5;28;01mNone\u001b[39;00m \u001b[38;5;241m=\u001b[39m \u001b[38;5;28;01mNone\u001b[39;00m\n\u001b[0;32m-> 1442\u001b[0m \u001b[38;5;28mself\u001b[39m\u001b[38;5;241m.\u001b[39m_engine \u001b[38;5;241m=\u001b[39m \u001b[38;5;28;43mself\u001b[39;49m\u001b[38;5;241;43m.\u001b[39;49m\u001b[43m_make_engine\u001b[49m\u001b[43m(\u001b[49m\u001b[43mf\u001b[49m\u001b[43m,\u001b[49m\u001b[43m \u001b[49m\u001b[38;5;28;43mself\u001b[39;49m\u001b[38;5;241;43m.\u001b[39;49m\u001b[43mengine\u001b[49m\u001b[43m)\u001b[49m\n",
      "File \u001b[0;32m~/.pyenv/versions/3.10.6/envs/HarmonIQ/lib/python3.10/site-packages/pandas/io/parsers/readers.py:1735\u001b[0m, in \u001b[0;36mTextFileReader._make_engine\u001b[0;34m(self, f, engine)\u001b[0m\n\u001b[1;32m   1733\u001b[0m     \u001b[38;5;28;01mif\u001b[39;00m \u001b[38;5;124m\"\u001b[39m\u001b[38;5;124mb\u001b[39m\u001b[38;5;124m\"\u001b[39m \u001b[38;5;129;01mnot\u001b[39;00m \u001b[38;5;129;01min\u001b[39;00m mode:\n\u001b[1;32m   1734\u001b[0m         mode \u001b[38;5;241m+\u001b[39m\u001b[38;5;241m=\u001b[39m \u001b[38;5;124m\"\u001b[39m\u001b[38;5;124mb\u001b[39m\u001b[38;5;124m\"\u001b[39m\n\u001b[0;32m-> 1735\u001b[0m \u001b[38;5;28mself\u001b[39m\u001b[38;5;241m.\u001b[39mhandles \u001b[38;5;241m=\u001b[39m \u001b[43mget_handle\u001b[49m\u001b[43m(\u001b[49m\n\u001b[1;32m   1736\u001b[0m \u001b[43m    \u001b[49m\u001b[43mf\u001b[49m\u001b[43m,\u001b[49m\n\u001b[1;32m   1737\u001b[0m \u001b[43m    \u001b[49m\u001b[43mmode\u001b[49m\u001b[43m,\u001b[49m\n\u001b[1;32m   1738\u001b[0m \u001b[43m    \u001b[49m\u001b[43mencoding\u001b[49m\u001b[38;5;241;43m=\u001b[39;49m\u001b[38;5;28;43mself\u001b[39;49m\u001b[38;5;241;43m.\u001b[39;49m\u001b[43moptions\u001b[49m\u001b[38;5;241;43m.\u001b[39;49m\u001b[43mget\u001b[49m\u001b[43m(\u001b[49m\u001b[38;5;124;43m\"\u001b[39;49m\u001b[38;5;124;43mencoding\u001b[39;49m\u001b[38;5;124;43m\"\u001b[39;49m\u001b[43m,\u001b[49m\u001b[43m \u001b[49m\u001b[38;5;28;43;01mNone\u001b[39;49;00m\u001b[43m)\u001b[49m\u001b[43m,\u001b[49m\n\u001b[1;32m   1739\u001b[0m \u001b[43m    \u001b[49m\u001b[43mcompression\u001b[49m\u001b[38;5;241;43m=\u001b[39;49m\u001b[38;5;28;43mself\u001b[39;49m\u001b[38;5;241;43m.\u001b[39;49m\u001b[43moptions\u001b[49m\u001b[38;5;241;43m.\u001b[39;49m\u001b[43mget\u001b[49m\u001b[43m(\u001b[49m\u001b[38;5;124;43m\"\u001b[39;49m\u001b[38;5;124;43mcompression\u001b[39;49m\u001b[38;5;124;43m\"\u001b[39;49m\u001b[43m,\u001b[49m\u001b[43m \u001b[49m\u001b[38;5;28;43;01mNone\u001b[39;49;00m\u001b[43m)\u001b[49m\u001b[43m,\u001b[49m\n\u001b[1;32m   1740\u001b[0m \u001b[43m    \u001b[49m\u001b[43mmemory_map\u001b[49m\u001b[38;5;241;43m=\u001b[39;49m\u001b[38;5;28;43mself\u001b[39;49m\u001b[38;5;241;43m.\u001b[39;49m\u001b[43moptions\u001b[49m\u001b[38;5;241;43m.\u001b[39;49m\u001b[43mget\u001b[49m\u001b[43m(\u001b[49m\u001b[38;5;124;43m\"\u001b[39;49m\u001b[38;5;124;43mmemory_map\u001b[39;49m\u001b[38;5;124;43m\"\u001b[39;49m\u001b[43m,\u001b[49m\u001b[43m \u001b[49m\u001b[38;5;28;43;01mFalse\u001b[39;49;00m\u001b[43m)\u001b[49m\u001b[43m,\u001b[49m\n\u001b[1;32m   1741\u001b[0m \u001b[43m    \u001b[49m\u001b[43mis_text\u001b[49m\u001b[38;5;241;43m=\u001b[39;49m\u001b[43mis_text\u001b[49m\u001b[43m,\u001b[49m\n\u001b[1;32m   1742\u001b[0m \u001b[43m    \u001b[49m\u001b[43merrors\u001b[49m\u001b[38;5;241;43m=\u001b[39;49m\u001b[38;5;28;43mself\u001b[39;49m\u001b[38;5;241;43m.\u001b[39;49m\u001b[43moptions\u001b[49m\u001b[38;5;241;43m.\u001b[39;49m\u001b[43mget\u001b[49m\u001b[43m(\u001b[49m\u001b[38;5;124;43m\"\u001b[39;49m\u001b[38;5;124;43mencoding_errors\u001b[39;49m\u001b[38;5;124;43m\"\u001b[39;49m\u001b[43m,\u001b[49m\u001b[43m \u001b[49m\u001b[38;5;124;43m\"\u001b[39;49m\u001b[38;5;124;43mstrict\u001b[39;49m\u001b[38;5;124;43m\"\u001b[39;49m\u001b[43m)\u001b[49m\u001b[43m,\u001b[49m\n\u001b[1;32m   1743\u001b[0m \u001b[43m    \u001b[49m\u001b[43mstorage_options\u001b[49m\u001b[38;5;241;43m=\u001b[39;49m\u001b[38;5;28;43mself\u001b[39;49m\u001b[38;5;241;43m.\u001b[39;49m\u001b[43moptions\u001b[49m\u001b[38;5;241;43m.\u001b[39;49m\u001b[43mget\u001b[49m\u001b[43m(\u001b[49m\u001b[38;5;124;43m\"\u001b[39;49m\u001b[38;5;124;43mstorage_options\u001b[39;49m\u001b[38;5;124;43m\"\u001b[39;49m\u001b[43m,\u001b[49m\u001b[43m \u001b[49m\u001b[38;5;28;43;01mNone\u001b[39;49;00m\u001b[43m)\u001b[49m\u001b[43m,\u001b[49m\n\u001b[1;32m   1744\u001b[0m \u001b[43m\u001b[49m\u001b[43m)\u001b[49m\n\u001b[1;32m   1745\u001b[0m \u001b[38;5;28;01massert\u001b[39;00m \u001b[38;5;28mself\u001b[39m\u001b[38;5;241m.\u001b[39mhandles \u001b[38;5;129;01mis\u001b[39;00m \u001b[38;5;129;01mnot\u001b[39;00m \u001b[38;5;28;01mNone\u001b[39;00m\n\u001b[1;32m   1746\u001b[0m f \u001b[38;5;241m=\u001b[39m \u001b[38;5;28mself\u001b[39m\u001b[38;5;241m.\u001b[39mhandles\u001b[38;5;241m.\u001b[39mhandle\n",
      "File \u001b[0;32m~/.pyenv/versions/3.10.6/envs/HarmonIQ/lib/python3.10/site-packages/pandas/io/common.py:856\u001b[0m, in \u001b[0;36mget_handle\u001b[0;34m(path_or_buf, mode, encoding, compression, memory_map, is_text, errors, storage_options)\u001b[0m\n\u001b[1;32m    851\u001b[0m \u001b[38;5;28;01melif\u001b[39;00m \u001b[38;5;28misinstance\u001b[39m(handle, \u001b[38;5;28mstr\u001b[39m):\n\u001b[1;32m    852\u001b[0m     \u001b[38;5;66;03m# Check whether the filename is to be opened in binary mode.\u001b[39;00m\n\u001b[1;32m    853\u001b[0m     \u001b[38;5;66;03m# Binary mode does not support 'encoding' and 'newline'.\u001b[39;00m\n\u001b[1;32m    854\u001b[0m     \u001b[38;5;28;01mif\u001b[39;00m ioargs\u001b[38;5;241m.\u001b[39mencoding \u001b[38;5;129;01mand\u001b[39;00m \u001b[38;5;124m\"\u001b[39m\u001b[38;5;124mb\u001b[39m\u001b[38;5;124m\"\u001b[39m \u001b[38;5;129;01mnot\u001b[39;00m \u001b[38;5;129;01min\u001b[39;00m ioargs\u001b[38;5;241m.\u001b[39mmode:\n\u001b[1;32m    855\u001b[0m         \u001b[38;5;66;03m# Encoding\u001b[39;00m\n\u001b[0;32m--> 856\u001b[0m         handle \u001b[38;5;241m=\u001b[39m \u001b[38;5;28;43mopen\u001b[39;49m\u001b[43m(\u001b[49m\n\u001b[1;32m    857\u001b[0m \u001b[43m            \u001b[49m\u001b[43mhandle\u001b[49m\u001b[43m,\u001b[49m\n\u001b[1;32m    858\u001b[0m \u001b[43m            \u001b[49m\u001b[43mioargs\u001b[49m\u001b[38;5;241;43m.\u001b[39;49m\u001b[43mmode\u001b[49m\u001b[43m,\u001b[49m\n\u001b[1;32m    859\u001b[0m \u001b[43m            \u001b[49m\u001b[43mencoding\u001b[49m\u001b[38;5;241;43m=\u001b[39;49m\u001b[43mioargs\u001b[49m\u001b[38;5;241;43m.\u001b[39;49m\u001b[43mencoding\u001b[49m\u001b[43m,\u001b[49m\n\u001b[1;32m    860\u001b[0m \u001b[43m            \u001b[49m\u001b[43merrors\u001b[49m\u001b[38;5;241;43m=\u001b[39;49m\u001b[43merrors\u001b[49m\u001b[43m,\u001b[49m\n\u001b[1;32m    861\u001b[0m \u001b[43m            \u001b[49m\u001b[43mnewline\u001b[49m\u001b[38;5;241;43m=\u001b[39;49m\u001b[38;5;124;43m\"\u001b[39;49m\u001b[38;5;124;43m\"\u001b[39;49m\u001b[43m,\u001b[49m\n\u001b[1;32m    862\u001b[0m \u001b[43m        \u001b[49m\u001b[43m)\u001b[49m\n\u001b[1;32m    863\u001b[0m     \u001b[38;5;28;01melse\u001b[39;00m:\n\u001b[1;32m    864\u001b[0m         \u001b[38;5;66;03m# Binary mode\u001b[39;00m\n\u001b[1;32m    865\u001b[0m         handle \u001b[38;5;241m=\u001b[39m \u001b[38;5;28mopen\u001b[39m(handle, ioargs\u001b[38;5;241m.\u001b[39mmode)\n",
      "\u001b[0;31mFileNotFoundError\u001b[0m: [Errno 2] No such file or directory: '../../raw_data/tracks_features.csv'"
     ]
    }
   ],
   "source": [
    "df_million = pd.read_csv('../../raw_data/tracks_features.csv')"
   ]
  },
  {
   "cell_type": "markdown",
   "id": "c54b5f48",
   "metadata": {},
   "source": [
    "# Spotify API"
   ]
  },
  {
   "cell_type": "markdown",
   "id": "5d4c8f89",
   "metadata": {},
   "source": [
    "## __init__ & Credential"
   ]
  },
  {
   "cell_type": "code",
   "execution_count": 3,
   "id": "34269f70-1a8a-48cb-9bea-3dda19e79ba5",
   "metadata": {},
   "outputs": [],
   "source": [
    "# scope = \"user-library-modify playlist-read-private user-library-read playlist-modify-private\""
   ]
  },
  {
   "cell_type": "code",
   "execution_count": 4,
   "id": "07450b10",
   "metadata": {},
   "outputs": [],
   "source": [
    "client_id = '4fe38c597d7c41d2a418144a87d7d082'\n",
    "client_secret = '7deaab2f08154a97905868d89919fc55'\n",
    "redirect_uri = 'https://localhost:8888/callback/'\n",
    "scope = \"playlist-modify-private user-library-read playlist-read-private\"\n",
    "# scope = \"user-library-read playlist-read-private playlist-modify-private\""
   ]
  },
  {
   "cell_type": "code",
   "execution_count": 5,
   "id": "2fb2f074",
   "metadata": {},
   "outputs": [],
   "source": [
    "sp = Spotify(auth_manager=SpotifyOAuth(\n",
    "                 client_id=client_id,\n",
    "                 client_secret=client_secret,\n",
    "                 redirect_uri=redirect_uri,\n",
    "                 scope=scope))"
   ]
  },
  {
   "cell_type": "code",
   "execution_count": 6,
   "id": "8a8be105",
   "metadata": {},
   "outputs": [],
   "source": [
    "# auth_manager = SpotifyClientCredentials(client_id=client_id, client_secret=client_secret)\n",
    "# sp = spotipy.Spotify(auth_manager=auth_manager)"
   ]
  },
  {
   "cell_type": "code",
   "execution_count": 7,
   "id": "4d48fb46",
   "metadata": {},
   "outputs": [],
   "source": [
    "# # Combine and encode\n",
    "# credentials = f\"{client_id}:{client_secret}\"\n",
    "# encoded_credentials = base64.b64encode(credentials.encode()).decode()\n",
    "\n",
    "# print(f\"Encoded Credentials: {encoded_credentials}\")\n",
    "\n",
    "# # Spotify token endpoint\n",
    "# url = \"https://accounts.spotify.com/api/token\"\n",
    "\n",
    "# # Request headers and body\n",
    "# headers = {\n",
    "#     \"Authorization\": f\"Basic {encoded_credentials}\"\n",
    "# }\n",
    "# data = {\n",
    "#     \"grant_type\": \"client_credentials\"\n",
    "# }\n",
    "\n",
    "# # Make the request\n",
    "# response = requests.post(url, headers=headers, data=data)\n",
    "\n",
    "# if response.status_code == 200:\n",
    "#     token = response.json()['access_token']\n",
    "#     print(f\"Access Token: {token}\")\n",
    "# else:\n",
    "#     print(f\"Failed to get token: {response.status_code}, {response.text}\")"
   ]
  },
  {
   "cell_type": "code",
   "execution_count": 66,
   "id": "cced85a8",
   "metadata": {},
   "outputs": [],
   "source": [
    "# authorization_token = f\"Bearer {token}\"\n",
    "# url = \"https://api.spotify.com/v1/me\"\n",
    "# headers = {\"Authorization\" : authorization_token}\n",
    "\n",
    "# response = requests.get(url, headers=headers)\n",
    "# user_data = response.json()\n",
    "# # print(f\"Spotify User ID: {user_data['id']}\")\n",
    "# user_data"
   ]
  },
  {
   "cell_type": "code",
   "execution_count": 41,
   "id": "3c9eb2d8",
   "metadata": {},
   "outputs": [],
   "source": [
    "# sp = spotipy.Spotify(auth=token)"
   ]
  },
  {
   "cell_type": "code",
   "execution_count": 80,
   "id": "dc5821e4",
   "metadata": {},
   "outputs": [],
   "source": [
    "# country_codes =  ['AD', 'AR', 'AU', 'AT', 'BE', 'BO', 'BR', 'BG', 'CA', 'CL',\n",
    "#                   'CO', 'CR', 'CY', 'CZ', 'DK', 'DO', 'EC', 'SV', 'EE', 'FI',\n",
    "#                   'FR', 'DE', 'GR', 'GT', 'HN', 'HK', 'HU', 'IS', 'ID', 'IE',\n",
    "#                   'IT', 'JP', 'LV', 'LI', 'LT', 'LU', 'MY', 'MT', 'MX', 'MC',\n",
    "#                   'NL', 'NZ', 'NI', 'NO', 'PA', 'PY', 'PE', 'PH', 'PL', 'PT',\n",
    "#                   'SG', 'ES', 'SK', 'SE', 'CH', 'TW', 'TR', 'GB', 'US', 'UY']\n",
    "\n",
    "# limit = 50\n",
    "# language_code = 'EN'"
   ]
  },
  {
   "cell_type": "markdown",
   "id": "b0724787",
   "metadata": {
    "heading_collapsed": true,
    "jp-MarkdownHeadingCollapsed": true
   },
   "source": [
    "## Data fetching"
   ]
  },
  {
   "cell_type": "code",
   "execution_count": 12,
   "id": "1ca699a0",
   "metadata": {
    "hidden": true
   },
   "outputs": [],
   "source": [
    "def get_playlist_categories(country_code, language_code, limit, offset=0):\n",
    "    categories = []\n",
    "    raw_categories = sp.categories(country=country_code, locale=language_code, limit=limit, offset=offset)\n",
    "    for cat in raw_categories['categories']['items']:\n",
    "        categories.append({'category':cat['name'], 'cat_id':cat['id']})\n",
    "    return categories"
   ]
  },
  {
   "cell_type": "code",
   "execution_count": null,
   "id": "6fa2bc79",
   "metadata": {
    "hidden": true
   },
   "outputs": [],
   "source": [
    "def get_playlists(category, cat_id, limit):\n",
    "\n",
    "    # Get playlists from categories\n",
    "    cat_id = \"dinner\"\n",
    "    cat_playlists = sp.category_playlists(category_id=cat_id, limit=limit)\n",
    "    for playlist in cat_playlists['playlists']['items']:\n",
    "        # Create a temporary DataFrame for the current playlist\n",
    "        temp_df = pd.DataFrame([{\n",
    "            'id': playlist['id'],\n",
    "            'name': playlist['name'],\n",
    "            'description': playlist['description'],\n",
    "            'category': category\n",
    "        }])\n",
    "\n",
    "        # Concatenate the temporary DataFrame with the main DataFrame\n",
    "        playlists = pd.concat([playlists, temp_df], ignore_index=True)\n",
    "\n",
    "    return playlists"
   ]
  },
  {
   "cell_type": "code",
   "execution_count": null,
   "id": "d34bd872",
   "metadata": {
    "hidden": true
   },
   "outputs": [],
   "source": [
    "def get_featured_playlists(country_code, limit, locale):\n",
    "\n",
    "    # Get featured playlists\n",
    "    featured_playlists = sp.featured_playlists(locale=locale, country=country_code, limit=limit)\n",
    "    for playlist in featured_playlists['playlists']['items']:\n",
    "        # Create a temporary DataFrame for the current playlist\n",
    "        temp_df = pd.DataFrame([{\n",
    "            'id': playlist['id'],\n",
    "            'name': playlist['name'],\n",
    "            'description': playlist['description'],\n",
    "            'category': 'featured_playlist'\n",
    "        }])\n",
    "\n",
    "        # Concatenate the temporary DataFrame with the main DataFrame\n",
    "        playlists = pd.concat([playlists, temp_df], ignore_index=True)\n",
    "\n",
    "    return playlists"
   ]
  },
  {
   "cell_type": "code",
   "execution_count": 131,
   "id": "c2b1256c",
   "metadata": {
    "hidden": true
   },
   "outputs": [],
   "source": [
    "def get_playlist_tracks(playlist_id):\n",
    "    track_list = []\n",
    "    playlists_tracks = sp.playlist_tracks(playlist_id=playlist_id)\n",
    "    for track in playlists_tracks['items']:\n",
    "        track_list.append(track['track']['id'])\n",
    "    return track_list"
   ]
  },
  {
   "cell_type": "code",
   "execution_count": 132,
   "id": "62084b3a",
   "metadata": {
    "hidden": true
   },
   "outputs": [],
   "source": [
    "def get_playlist_audio_feat(track_list, playlist_id):\n",
    "    features = pd.DataFrame(sp.audio_features(track_list))\n",
    "    features.drop(columns=['track_href', 'analysis_url', 'uri', 'type'])\n",
    "    return features"
   ]
  },
  {
   "cell_type": "markdown",
   "id": "6073757e",
   "metadata": {},
   "source": [
    "## Data fetching bis"
   ]
  },
  {
   "cell_type": "code",
   "execution_count": 172,
   "id": "29e115c8",
   "metadata": {},
   "outputs": [],
   "source": [
    "def get_user_profile():\n",
    "    user_profile = sp.me()\n",
    "    return user_profile['id']"
   ]
  },
  {
   "cell_type": "code",
   "execution_count": 173,
   "id": "bfd35b71-bc71-4ee2-97c3-bf86740960c1",
   "metadata": {
    "scrolled": true
   },
   "outputs": [
    {
     "data": {
      "text/plain": [
       "'adauchez08'"
      ]
     },
     "execution_count": 173,
     "metadata": {},
     "output_type": "execute_result"
    }
   ],
   "source": [
    "get_user_profile()"
   ]
  },
  {
   "cell_type": "code",
   "execution_count": 174,
   "id": "df88b58e-0b6f-472d-8670-b13cfd61d369",
   "metadata": {},
   "outputs": [
    {
     "data": {
      "text/plain": [
       "{'display_name': 'Nick Roberts',\n",
       " 'external_urls': {'spotify': 'https://open.spotify.com/user/nickroberts'},\n",
       " 'followers': {'href': None, 'total': 16},\n",
       " 'href': 'https://api.spotify.com/v1/users/nickroberts',\n",
       " 'id': 'nickroberts',\n",
       " 'images': [{'url': 'https://platform-lookaside.fbsbx.com/platform/profilepic/?asid=10151961536807142&height=300&width=300&ext=1735477299&hash=Aba2-I2ksQ8ljGo2A20sRLWy',\n",
       "   'height': 300,\n",
       "   'width': 300},\n",
       "  {'url': 'https://platform-lookaside.fbsbx.com/platform/profilepic/?asid=10151961536807142&height=50&width=50&ext=1735477299&hash=AbaQRRgXEOeJ3NOnmF3icOCI',\n",
       "   'height': 64,\n",
       "   'width': 64}],\n",
       " 'type': 'user',\n",
       " 'uri': 'spotify:user:nickroberts'}"
      ]
     },
     "execution_count": 174,
     "metadata": {},
     "output_type": "execute_result"
    }
   ],
   "source": [
    "sp.user('nickroberts')"
   ]
  },
  {
   "cell_type": "code",
   "execution_count": 175,
   "id": "8dc4ab12-b59f-4296-b135-cc74d891328b",
   "metadata": {},
   "outputs": [],
   "source": [
    "saved_tracks = sp.current_user_saved_tracks(limit=20, offset=0, market=None)"
   ]
  },
  {
   "cell_type": "code",
   "execution_count": 176,
   "id": "5eb91bd6-1bb8-481d-a99b-4a437f0d6595",
   "metadata": {},
   "outputs": [
    {
     "data": {
      "text/plain": [
       "8"
      ]
     },
     "execution_count": 176,
     "metadata": {},
     "output_type": "execute_result"
    }
   ],
   "source": [
    "len(saved_tracks['items'])"
   ]
  },
  {
   "cell_type": "code",
   "execution_count": 177,
   "id": "3b2a71c7",
   "metadata": {
    "scrolled": true
   },
   "outputs": [],
   "source": [
    "nick_playlists = sp.user_playlists('113821586')"
   ]
  },
  {
   "cell_type": "code",
   "execution_count": 178,
   "id": "e2d6e760-32a0-4553-a7b7-c477a3002ba2",
   "metadata": {
    "scrolled": true
   },
   "outputs": [],
   "source": [
    "# me_playlists = sp.user_playlists('113821586')\n",
    "playlist_names = []\n",
    "playlist_ids = []\n",
    "\n",
    "for playlist in nick_playlists['items']:\n",
    "    playlist_names.append(playlist['name'])\n",
    "    playlist_ids.append(playlist['id'])\n",
    "\n",
    "playlist_names = pd.Series(playlist_names, name=\"playlist_names\")\n",
    "playlist_ids = pd.Series(playlist_ids, name=\"playlist_ids\")\n",
    "user_playlists_df = pd.DataFrame({playlist_names.name: playlist_names, playlist_ids.name: playlist_ids})"
   ]
  },
  {
   "cell_type": "code",
   "execution_count": 103,
   "id": "8002b22d-8a6e-42b6-bebf-f4ed3601d4d8",
   "metadata": {},
   "outputs": [
    {
     "data": {
      "text/html": [
       "<div>\n",
       "<style scoped>\n",
       "    .dataframe tbody tr th:only-of-type {\n",
       "        vertical-align: middle;\n",
       "    }\n",
       "\n",
       "    .dataframe tbody tr th {\n",
       "        vertical-align: top;\n",
       "    }\n",
       "\n",
       "    .dataframe thead th {\n",
       "        text-align: right;\n",
       "    }\n",
       "</style>\n",
       "<table border=\"1\" class=\"dataframe\">\n",
       "  <thead>\n",
       "    <tr style=\"text-align: right;\">\n",
       "      <th></th>\n",
       "      <th>playlist_names</th>\n",
       "      <th>playlist_ids</th>\n",
       "    </tr>\n",
       "  </thead>\n",
       "  <tbody>\n",
       "    <tr>\n",
       "      <th>0</th>\n",
       "      <td>Top Hits of the 2010s (2)</td>\n",
       "      <td>5cfMUrQ3nXlTZP7JMCqzt7</td>\n",
       "    </tr>\n",
       "    <tr>\n",
       "      <th>1</th>\n",
       "      <td>2010-2020 Top Hits (2010’s)  (2)</td>\n",
       "      <td>6IAYwQ24xn2CD06OjjMkjl</td>\n",
       "    </tr>\n",
       "    <tr>\n",
       "      <th>2</th>\n",
       "      <td>Coding Music UI</td>\n",
       "      <td>3lvjpzXGx67e8QrPFYzJEd</td>\n",
       "    </tr>\n",
       "    <tr>\n",
       "      <th>3</th>\n",
       "      <td>Chutzpah</td>\n",
       "      <td>1HlH4GymkAftVj1IYqzXFI</td>\n",
       "    </tr>\n",
       "    <tr>\n",
       "      <th>4</th>\n",
       "      <td>2024- Change v7.1 nr</td>\n",
       "      <td>70CY7pCmtwBo60Ax66UOSz</td>\n",
       "    </tr>\n",
       "  </tbody>\n",
       "</table>\n",
       "</div>"
      ],
      "text/plain": [
       "                     playlist_names            playlist_ids\n",
       "0         Top Hits of the 2010s (2)  5cfMUrQ3nXlTZP7JMCqzt7\n",
       "1  2010-2020 Top Hits (2010’s)  (2)  6IAYwQ24xn2CD06OjjMkjl\n",
       "2                   Coding Music UI  3lvjpzXGx67e8QrPFYzJEd\n",
       "3                          Chutzpah  1HlH4GymkAftVj1IYqzXFI\n",
       "4              2024- Change v7.1 nr  70CY7pCmtwBo60Ax66UOSz"
      ]
     },
     "execution_count": 103,
     "metadata": {},
     "output_type": "execute_result"
    }
   ],
   "source": [
    "user_playlists_df.head()"
   ]
  },
  {
   "cell_type": "code",
   "execution_count": 37,
   "id": "11668399-e7f3-49ed-91e4-e85334fd2eed",
   "metadata": {},
   "outputs": [],
   "source": [
    "playlist_tracks = sp.playlist('16BdYan33CxHYdQ2lmujvw')['tracks']['items']"
   ]
  },
  {
   "cell_type": "code",
   "execution_count": 38,
   "id": "6d9eb841-e40d-4e12-a827-18f51b710946",
   "metadata": {},
   "outputs": [
    {
     "data": {
      "text/plain": [
       "39"
      ]
     },
     "execution_count": 38,
     "metadata": {},
     "output_type": "execute_result"
    }
   ],
   "source": [
    "len(playlist_tracks)"
   ]
  },
  {
   "cell_type": "code",
   "execution_count": 51,
   "id": "ca1afdf0-f58f-42fc-b675-ab2450704a25",
   "metadata": {
    "scrolled": true
   },
   "outputs": [
    {
     "name": "stdout",
     "output_type": "stream",
     "text": [
      "spotify:track:1LpxY3sL5V2BDwsoILCCFs 1LpxY3sL5V2BDwsoILCCFs\n",
      "spotify:track:4FbetV1hiQIfUm5PgN3Q9D 4FbetV1hiQIfUm5PgN3Q9D\n",
      "spotify:track:34iRFrc96fSVdPlwIwaDoK 34iRFrc96fSVdPlwIwaDoK\n",
      "spotify:track:7poGa2k7wTlEzuML8pdbA2 7poGa2k7wTlEzuML8pdbA2\n",
      "spotify:track:3gVll51uHNVhqm6lBg26pp 3gVll51uHNVhqm6lBg26pp\n",
      "spotify:track:2Ov9dDRvhPHKieyVFam5TM 2Ov9dDRvhPHKieyVFam5TM\n",
      "spotify:track:5WakY70QIvDzwxdJZ0TOMs 5WakY70QIvDzwxdJZ0TOMs\n",
      "spotify:track:14ErDGNe7PzsPjJ21gzwwf 14ErDGNe7PzsPjJ21gzwwf\n",
      "spotify:track:4OUkAm6SgbhK9YnVxFVYs8 4OUkAm6SgbhK9YnVxFVYs8\n",
      "spotify:track:4miF4XSnRS0E7eXoTrzgmP 4miF4XSnRS0E7eXoTrzgmP\n",
      "spotify:track:4nc2N1JCbktTbiahf8tNVw 4nc2N1JCbktTbiahf8tNVw\n",
      "spotify:track:3aYmAoaPgGFm49ZOw2OQxK 3aYmAoaPgGFm49ZOw2OQxK\n",
      "spotify:track:4vIboBMsVk0NziOuyEinkE 4vIboBMsVk0NziOuyEinkE\n",
      "spotify:track:2BUL7sF7y5oBYUQarVCukR 2BUL7sF7y5oBYUQarVCukR\n",
      "spotify:track:4ayNMLOAMbGmZiVquX8n6K 4ayNMLOAMbGmZiVquX8n6K\n",
      "spotify:track:5QAxKBAZ6ohJ4eOUvBslCh 5QAxKBAZ6ohJ4eOUvBslCh\n",
      "spotify:track:3PgPjbTS5XHweYHCMkpNG3 3PgPjbTS5XHweYHCMkpNG3\n",
      "spotify:track:4EbhDVnxwmL5TxigftUj1Q 4EbhDVnxwmL5TxigftUj1Q\n",
      "spotify:track:3rhcwNHW5r0JlVlrsNLyKh 3rhcwNHW5r0JlVlrsNLyKh\n",
      "spotify:track:1fUMVrakjJwNaAj4BunegZ 1fUMVrakjJwNaAj4BunegZ\n",
      "spotify:track:0IGV849WKErrUAYLXkjLn9 0IGV849WKErrUAYLXkjLn9\n",
      "spotify:track:3LsTYwEyvKPl9wuql67O9y 3LsTYwEyvKPl9wuql67O9y\n",
      "spotify:track:67UOBhv3Ak7FUCHLZ4nSeg 67UOBhv3Ak7FUCHLZ4nSeg\n",
      "spotify:track:0mgDr1A0bdv476lCiRwDFm 0mgDr1A0bdv476lCiRwDFm\n",
      "spotify:track:2MhU96JxCW80r4tHSkGSH6 2MhU96JxCW80r4tHSkGSH6\n",
      "spotify:track:4TmXMCBnK9yZv4BlPkUXSm 4TmXMCBnK9yZv4BlPkUXSm\n",
      "spotify:track:5jt7dpy79ReHV5QBZ9V3nl 5jt7dpy79ReHV5QBZ9V3nl\n",
      "spotify:track:7yearlcqzqR7hP8UcIwrJg 7yearlcqzqR7hP8UcIwrJg\n",
      "spotify:track:34PInRTRBcSSJ9KgqavLpF 34PInRTRBcSSJ9KgqavLpF\n",
      "spotify:track:3Jcg5ErcRLK7BrSc4Qkob9 3Jcg5ErcRLK7BrSc4Qkob9\n",
      "spotify:track:2bRYvQGaY3Rj87VqnUDTs8 2bRYvQGaY3Rj87VqnUDTs8\n",
      "spotify:track:1MmE8LRKy3QaNe0OmLGQyg 1MmE8LRKy3QaNe0OmLGQyg\n",
      "spotify:track:0I97z67ZTzpszzH14bKk6r 0I97z67ZTzpszzH14bKk6r\n",
      "spotify:track:3Q1nvyZd83Tr5nxFJWmVYd 3Q1nvyZd83Tr5nxFJWmVYd\n",
      "spotify:track:5UqpZi2icpO3BSAcHJfEiM 5UqpZi2icpO3BSAcHJfEiM\n",
      "spotify:track:4MZZf3YVgMdZZW0Qlagwcy 4MZZf3YVgMdZZW0Qlagwcy\n",
      "spotify:track:52B9bBfIrbzpKyEp4QXJe4 52B9bBfIrbzpKyEp4QXJe4\n",
      "spotify:track:7IoVNornSEeZKaV5gWCOdi 7IoVNornSEeZKaV5gWCOdi\n",
      "spotify:track:2uEDlyfqrns3BANaVz61Gk 2uEDlyfqrns3BANaVz61Gk\n"
     ]
    }
   ],
   "source": [
    "for i in range(len(playlist_tracks)):\n",
    "    print(playlist_tracks[i]['track']['uri'], playlist_tracks[i]['track']['id'])\n",
    "    # print(playlist_tracks[i]['track']['id'])"
   ]
  },
  {
   "cell_type": "code",
   "execution_count": 115,
   "id": "8c7aa695-5221-494c-bec1-e50059137906",
   "metadata": {},
   "outputs": [],
   "source": [
    "tracks = sp.user_playlist_tracks(user='nick roberts', playlist_id='5cfMUrQ3nXlTZP7JMCqzt7')"
   ]
  },
  {
   "cell_type": "code",
   "execution_count": 136,
   "id": "331589b4-f050-4c94-91fe-95de2b5aad9e",
   "metadata": {
    "scrolled": true
   },
   "outputs": [
    {
     "data": {
      "text/plain": [
       "[{'external_urls': {'spotify': 'https://open.spotify.com/artist/3sgFRtyBnxXD5ESfmbK4dl'},\n",
       "  'href': 'https://api.spotify.com/v1/artists/3sgFRtyBnxXD5ESfmbK4dl',\n",
       "  'id': '3sgFRtyBnxXD5ESfmbK4dl',\n",
       "  'name': 'LMFAO',\n",
       "  'type': 'artist',\n",
       "  'uri': 'spotify:artist:3sgFRtyBnxXD5ESfmbK4dl'},\n",
       " {'external_urls': {'spotify': 'https://open.spotify.com/artist/2jLE4BoXHriQ96JagEtiDP'},\n",
       "  'href': 'https://api.spotify.com/v1/artists/2jLE4BoXHriQ96JagEtiDP',\n",
       "  'id': '2jLE4BoXHriQ96JagEtiDP',\n",
       "  'name': 'Lauren Bennett',\n",
       "  'type': 'artist',\n",
       "  'uri': 'spotify:artist:2jLE4BoXHriQ96JagEtiDP'},\n",
       " {'external_urls': {'spotify': 'https://open.spotify.com/artist/53sIBaVjXQhfH89Vu6nEGh'},\n",
       "  'href': 'https://api.spotify.com/v1/artists/53sIBaVjXQhfH89Vu6nEGh',\n",
       "  'id': '53sIBaVjXQhfH89Vu6nEGh',\n",
       "  'name': 'GoonRock',\n",
       "  'type': 'artist',\n",
       "  'uri': 'spotify:artist:53sIBaVjXQhfH89Vu6nEGh'}]"
      ]
     },
     "execution_count": 136,
     "metadata": {},
     "output_type": "execute_result"
    }
   ],
   "source": [
    "tracks['items'][1]['track']['artists']"
   ]
  },
  {
   "cell_type": "code",
   "execution_count": 165,
   "id": "4f927795",
   "metadata": {
    "scrolled": true
   },
   "outputs": [],
   "source": [
    "new_playlist = sp.user_playlist_create('adauchez08', 'arthur_test1', public=False, collaborative=False, description='')"
   ]
  },
  {
   "cell_type": "code",
   "execution_count": 166,
   "id": "db0c36f6-1624-4a25-9701-16414df63bfc",
   "metadata": {},
   "outputs": [],
   "source": [
    "items_2_add = ['spotify:track:1LpxY3sL5V2BDwsoILCCFs', 'spotify:track:4FbetV1hiQIfUm5PgN3Q9D', 'spotify:track:3aYmAoaPgGFm49ZOw2OQxK']"
   ]
  },
  {
   "cell_type": "code",
   "execution_count": 167,
   "id": "a65fcaf2",
   "metadata": {},
   "outputs": [],
   "source": [
    "new_playlist = sp.playlist_add_items(new_playlist['id'], items=items_2_add, position=None)"
   ]
  },
  {
   "cell_type": "code",
   "execution_count": null,
   "id": "ce791744",
   "metadata": {},
   "outputs": [],
   "source": []
  },
  {
   "cell_type": "code",
   "execution_count": null,
   "id": "13927de7",
   "metadata": {},
   "outputs": [],
   "source": []
  },
  {
   "cell_type": "code",
   "execution_count": 112,
   "id": "6e4d970c",
   "metadata": {},
   "outputs": [],
   "source": [
    "import pandas as pd\n",
    "import spotipy\n",
    "from spotipy import Spotify\n",
    "from spotipy.oauth2 import SpotifyClientCredentials\n",
    "\n",
    "client_id = '4fe38c597d7c41d2a418144a87d7d082'\n",
    "client_secret = '7deaab2f08154a97905868d89919fc55'\n",
    "\n",
    "auth_manager = SpotifyClientCredentials(client_id=client_id, client_secret=client_secret)\n",
    "sp = spotipy.Spotify(auth_manager=auth_manager)"
   ]
  },
  {
   "cell_type": "code",
   "execution_count": null,
   "id": "7edfb11d-46d2-4127-bc70-1fc8ef6b9e8b",
   "metadata": {},
   "outputs": [],
   "source": [
    "def get_artist_genres(artists_lst:list):\n",
    "\n",
    "    artist_genres = {}\n",
    "    chunks = len(artists_lst) // 50 # 97800 unique artists\n",
    "    last_chunks = len(artists_lst) % 50\n",
    "    chunk_size = 50\n",
    "    start = 0\n",
    "    finish = chunk_size + 1\n",
    "\n",
    "    for chunk in range(chunks):\n",
    "        artists = sp.artists(artists_lst[start:finish])\n",
    "        for artist in artists['artists']:\n",
    "            artist_genres[artist['id']] = artist['genres'][0]\n",
    "        print(f'chunk {chunck}/{chunks+last_chunks} done.')\n",
    "        start = finish - 1(\n",
    "        finish = finish + chunk_size\n",
    "\n",
    "    if last_chunks > 0:\n",
    "        for chunk in range(last_chunks):\n",
    "            artists = sp.artists(artists_lst[len(artist_genres):(len(artists_lst)+1)])\n",
    "            for artist in artists['artists']:\n",
    "                artist_genres[artist['id']] = artist['genres'][0]\n",
    "            print(f'chunk {chunks+chunk}/{chunks+last_chunks} done.')\n",
    "            start = finish - 1\n",
    "            finish = finish + chunk_size\n",
    "\n",
    "    return artist_genres"
   ]
  },
  {
   "cell_type": "code",
   "execution_count": 137,
   "id": "5e0f5f5f",
   "metadata": {},
   "outputs": [],
   "source": [
    "artists_test = sp.artists(['3sgFRtyBnxXD5ESfmbK4dl', '2jLE4BoXHriQ96JagEtiDP', '53sIBaVjXQhfH89Vu6nEGh'])"
   ]
  },
  {
   "cell_type": "code",
   "execution_count": 143,
   "id": "0c167b67-76b5-4749-bb8b-2d60f6b71c75",
   "metadata": {},
   "outputs": [
    {
     "data": {
      "text/plain": [
       "{'external_urls': {'spotify': 'https://open.spotify.com/artist/53sIBaVjXQhfH89Vu6nEGh'},\n",
       " 'followers': {'href': None, 'total': 7521},\n",
       " 'genres': [],\n",
       " 'href': 'https://api.spotify.com/v1/artists/53sIBaVjXQhfH89Vu6nEGh',\n",
       " 'id': '53sIBaVjXQhfH89Vu6nEGh',\n",
       " 'images': [{'url': 'https://i.scdn.co/image/ab67616d0000b2737e8f3011d91e0b8970466085',\n",
       "   'height': 640,\n",
       "   'width': 640},\n",
       "  {'url': 'https://i.scdn.co/image/ab67616d00001e027e8f3011d91e0b8970466085',\n",
       "   'height': 300,\n",
       "   'width': 300},\n",
       "  {'url': 'https://i.scdn.co/image/ab67616d000048517e8f3011d91e0b8970466085',\n",
       "   'height': 64,\n",
       "   'width': 64}],\n",
       " 'name': 'GoonRock',\n",
       " 'popularity': 63,\n",
       " 'type': 'artist',\n",
       " 'uri': 'spotify:artist:53sIBaVjXQhfH89Vu6nEGh'}"
      ]
     },
     "execution_count": 143,
     "metadata": {},
     "output_type": "execute_result"
    }
   ],
   "source": [
    "artists_test['artists'][2]"
   ]
  },
  {
   "cell_type": "code",
   "execution_count": null,
   "id": "721e3507-b49c-487d-b518-b3394a90ba4c",
   "metadata": {},
   "outputs": [],
   "source": []
  },
  {
   "cell_type": "markdown",
   "id": "0bc1c823",
   "metadata": {
    "heading_collapsed": true,
    "jp-MarkdownHeadingCollapsed": true
   },
   "source": [
    "## Preproc"
   ]
  },
  {
   "cell_type": "code",
   "execution_count": null,
   "id": "eda1136c",
   "metadata": {
    "hidden": true
   },
   "outputs": [],
   "source": [
    " def preprocess_data(data):\n",
    "#     \"\"\"Cleans and preprocesses the data.\"\"\"\n",
    "#     # Drop unnecessary columns\n",
    "#     columns_to_drop = ['Unnamed: 0', 'track_id', 'artists', 'album_name', 'track_name']\n",
    "#     data = data.drop(columns=columns_to_drop)\n",
    "\n",
    "#     # Handle missing values\n",
    "#     data = data.dropna()\n",
    "\n",
    "#     # Separate features and target\n",
    "#     X = data.drop(columns=['popularity'])\n",
    "#     y = data['popularity']\n",
    "\n",
    "#     # Convert `explicit` column to numeric\n",
    "#     X['explicit'] = X['explicit'].astype(int)\n",
    "\n",
    "#     # One-hot encode categorical features\n",
    "#     categorical_features = ['track_genre']\n",
    "#     numeric_features = X.select_dtypes(include=['int64', 'float64']).columns.difference(categorical_features)\n",
    "\n",
    "#     # Preprocessing pipeline\n",
    "#     preprocessor = ColumnTransformer(\n",
    "#         transformers=[\n",
    "#             ('num', StandardScaler(), numeric_features),\n",
    "#             ('cat', OneHotEncoder(drop='first'), categorical_features)\n",
    "#         ]\n",
    "#     )\n",
    "\n",
    "#     return X, y, preprocessor\n",
    "\n",
    "# def split_data(X, y, test_size=0.2, random_state=42):\n",
    "#     \"\"\"Splits the data into training and testing sets.\"\"\"\n",
    "#     return train_test_split(X, y, test_size=test_size, random_state=random_state)\n"
   ]
  },
  {
   "cell_type": "code",
   "execution_count": null,
   "id": "e1a69828",
   "metadata": {
    "hidden": true
   },
   "outputs": [],
   "source": []
  },
  {
   "cell_type": "markdown",
   "id": "3eb0ac81",
   "metadata": {
    "heading_collapsed": true,
    "jp-MarkdownHeadingCollapsed": true
   },
   "source": [
    "## Test "
   ]
  },
  {
   "cell_type": "code",
   "execution_count": 8,
   "id": "b91bfda7",
   "metadata": {
    "hidden": true
   },
   "outputs": [],
   "source": [
    "track_info = sp.track('5SuOikwiRyPMVoIQDJUgSV')"
   ]
  },
  {
   "cell_type": "code",
   "execution_count": 13,
   "id": "303e83c3",
   "metadata": {
    "hidden": true
   },
   "outputs": [
    {
     "data": {
      "text/plain": [
       "'JPVI02200563'"
      ]
     },
     "execution_count": 13,
     "metadata": {},
     "output_type": "execute_result"
    }
   ],
   "source": [
    "track_info['external_ids']['isrc']"
   ]
  },
  {
   "cell_type": "code",
   "execution_count": 174,
   "id": "d99c2cf1",
   "metadata": {
    "hidden": true
   },
   "outputs": [],
   "source": [
    "limit=50\n",
    "language_code = 'EN'\n",
    "country_code = 'US'"
   ]
  },
  {
   "cell_type": "code",
   "execution_count": 175,
   "id": "b55c129a",
   "metadata": {
    "hidden": true
   },
   "outputs": [
    {
     "data": {
      "text/plain": [
       "[{'category': 'Blues', 'cat_id': '0JQ5DAqbMKFQiK2EHwyjcU'},\n",
       " {'category': 'Cooking & Dining', 'cat_id': '0JQ5DAqbMKFRY5ok2pxXJ0'},\n",
       " {'category': 'Travel', 'cat_id': '0JQ5DAqbMKFAQy4HL4XU2D'},\n",
       " {'category': 'Songwriters', 'cat_id': '0JQ5DAqbMKFSCjnQr8QZ3O'},\n",
       " {'category': 'Nature & Noise', 'cat_id': '0JQ5DAqbMKFI3pNLtYMD9S'},\n",
       " {'category': 'Funk & Disco', 'cat_id': '0JQ5DAqbMKFFsW9N8maB6z'},\n",
       " {'category': 'Latin', 'cat_id': '0JQ5DAqbMKFxXaXKP7zcDp'},\n",
       " {'category': 'Spotify Singles', 'cat_id': '0JQ5DAqbMKFDBgllo2cUIN'},\n",
       " {'category': 'Arab', 'cat_id': '0JQ5DAqbMKFQ1UFISXj59F'},\n",
       " {'category': 'Christian & Gospel', 'cat_id': '0JQ5DAqbMKFy0OenPG51Av'},\n",
       " {'category': 'Fresh Finds', 'cat_id': '0JQ5DAqbMKFImHYGo3eTSg'},\n",
       " {'category': 'Music + Talk', 'cat_id': '0JQ5DAqbMKFRNXsIvgZF9A'},\n",
       " {'category': 'Tastemakers', 'cat_id': '0JQ5DAqbMKFRKBHIxJ5hMm'}]"
      ]
     },
     "execution_count": 175,
     "metadata": {},
     "output_type": "execute_result"
    }
   ],
   "source": [
    "categories = get_playlist_categories(country_code=country_code, language_code=language_code, limit=limit, offset=50)\n",
    "categories"
   ]
  },
  {
   "cell_type": "code",
   "execution_count": 178,
   "id": "2b60e466",
   "metadata": {
    "collapsed": true,
    "hidden": true,
    "jupyter": {
     "outputs_hidden": true
    }
   },
   "outputs": [
    {
     "name": "stderr",
     "output_type": "stream",
     "text": [
      "HTTP Error for GET to https://api.spotify.com/v1/browse/categories/dinner/playlists with Params: {'country': None, 'limit': 50, 'offset': 0} returned 404 due to Not Found\n"
     ]
    },
    {
     "ename": "SpotifyException",
     "evalue": "http status: 404, code:-1 - https://api.spotify.com/v1/browse/categories/dinner/playlists?limit=50&offset=0:\n Not Found, reason: None",
     "output_type": "error",
     "traceback": [
      "\u001b[0;31m---------------------------------------------------------------------------\u001b[0m",
      "\u001b[0;31mHTTPError\u001b[0m                                 Traceback (most recent call last)",
      "File \u001b[0;32m~/.pyenv/versions/3.10.6/envs/lewagon/lib/python3.10/site-packages/spotipy/client.py:275\u001b[0m, in \u001b[0;36mSpotify._internal_call\u001b[0;34m(self, method, url, payload, params)\u001b[0m\n\u001b[1;32m    270\u001b[0m response \u001b[38;5;241m=\u001b[39m \u001b[38;5;28mself\u001b[39m\u001b[38;5;241m.\u001b[39m_session\u001b[38;5;241m.\u001b[39mrequest(\n\u001b[1;32m    271\u001b[0m     method, url, headers\u001b[38;5;241m=\u001b[39mheaders, proxies\u001b[38;5;241m=\u001b[39m\u001b[38;5;28mself\u001b[39m\u001b[38;5;241m.\u001b[39mproxies,\n\u001b[1;32m    272\u001b[0m     timeout\u001b[38;5;241m=\u001b[39m\u001b[38;5;28mself\u001b[39m\u001b[38;5;241m.\u001b[39mrequests_timeout, \u001b[38;5;241m*\u001b[39m\u001b[38;5;241m*\u001b[39margs\n\u001b[1;32m    273\u001b[0m )\n\u001b[0;32m--> 275\u001b[0m \u001b[43mresponse\u001b[49m\u001b[38;5;241;43m.\u001b[39;49m\u001b[43mraise_for_status\u001b[49m\u001b[43m(\u001b[49m\u001b[43m)\u001b[49m\n\u001b[1;32m    276\u001b[0m results \u001b[38;5;241m=\u001b[39m response\u001b[38;5;241m.\u001b[39mjson()\n",
      "File \u001b[0;32m~/.pyenv/versions/3.10.6/envs/lewagon/lib/python3.10/site-packages/requests/models.py:1021\u001b[0m, in \u001b[0;36mResponse.raise_for_status\u001b[0;34m(self)\u001b[0m\n\u001b[1;32m   1020\u001b[0m \u001b[38;5;28;01mif\u001b[39;00m http_error_msg:\n\u001b[0;32m-> 1021\u001b[0m     \u001b[38;5;28;01mraise\u001b[39;00m HTTPError(http_error_msg, response\u001b[38;5;241m=\u001b[39m\u001b[38;5;28mself\u001b[39m)\n",
      "\u001b[0;31mHTTPError\u001b[0m: 404 Client Error: Not Found for url: https://api.spotify.com/v1/browse/categories/dinner/playlists?limit=50&offset=0",
      "\nDuring handling of the above exception, another exception occurred:\n",
      "\u001b[0;31mSpotifyException\u001b[0m                          Traceback (most recent call last)",
      "Cell \u001b[0;32mIn [178], line 4\u001b[0m\n\u001b[1;32m      1\u001b[0m categories \u001b[38;5;241m=\u001b[39m get_playlist_categories(country_code\u001b[38;5;241m=\u001b[39mcountry_code, language_code\u001b[38;5;241m=\u001b[39mlanguage_code, limit\u001b[38;5;241m=\u001b[39mlimit)\n\u001b[1;32m      3\u001b[0m \u001b[38;5;28;01mfor\u001b[39;00m cat \u001b[38;5;129;01min\u001b[39;00m categories:\n\u001b[0;32m----> 4\u001b[0m     cat_playlists \u001b[38;5;241m=\u001b[39m \u001b[43mget_playlists\u001b[49m\u001b[43m(\u001b[49m\u001b[43mcategory\u001b[49m\u001b[38;5;241;43m=\u001b[39;49m\u001b[43mcat\u001b[49m\u001b[43m[\u001b[49m\u001b[38;5;124;43m'\u001b[39;49m\u001b[38;5;124;43mcategory\u001b[39;49m\u001b[38;5;124;43m'\u001b[39;49m\u001b[43m]\u001b[49m\u001b[43m,\u001b[49m\u001b[43m \u001b[49m\u001b[43mcat_id\u001b[49m\u001b[38;5;241;43m=\u001b[39;49m\u001b[43mcat\u001b[49m\u001b[43m[\u001b[49m\u001b[38;5;124;43m'\u001b[39;49m\u001b[38;5;124;43mcat_id\u001b[39;49m\u001b[38;5;124;43m'\u001b[39;49m\u001b[43m]\u001b[49m\u001b[43m,\u001b[49m\u001b[43m \u001b[49m\u001b[43mlimit\u001b[49m\u001b[38;5;241;43m=\u001b[39;49m\u001b[43mlimit\u001b[49m\u001b[43m)\u001b[49m\n",
      "Cell \u001b[0;32mIn [177], line 5\u001b[0m, in \u001b[0;36mget_playlists\u001b[0;34m(category, cat_id, limit)\u001b[0m\n\u001b[1;32m      1\u001b[0m \u001b[38;5;28;01mdef\u001b[39;00m \u001b[38;5;21mget_playlists\u001b[39m(category, cat_id, limit):\n\u001b[1;32m      2\u001b[0m \n\u001b[1;32m      3\u001b[0m     \u001b[38;5;66;03m# Get playlists from categories\u001b[39;00m\n\u001b[1;32m      4\u001b[0m     cat_id \u001b[38;5;241m=\u001b[39m \u001b[38;5;124m\"\u001b[39m\u001b[38;5;124mdinner\u001b[39m\u001b[38;5;124m\"\u001b[39m\n\u001b[0;32m----> 5\u001b[0m     cat_playlists \u001b[38;5;241m=\u001b[39m \u001b[43msp\u001b[49m\u001b[38;5;241;43m.\u001b[39;49m\u001b[43mcategory_playlists\u001b[49m\u001b[43m(\u001b[49m\u001b[43mcategory_id\u001b[49m\u001b[38;5;241;43m=\u001b[39;49m\u001b[43mcat_id\u001b[49m\u001b[43m,\u001b[49m\u001b[43m \u001b[49m\u001b[43mlimit\u001b[49m\u001b[38;5;241;43m=\u001b[39;49m\u001b[43mlimit\u001b[49m\u001b[43m)\u001b[49m\n\u001b[1;32m      6\u001b[0m     \u001b[38;5;28;01mfor\u001b[39;00m playlist \u001b[38;5;129;01min\u001b[39;00m cat_playlists[\u001b[38;5;124m'\u001b[39m\u001b[38;5;124mplaylists\u001b[39m\u001b[38;5;124m'\u001b[39m][\u001b[38;5;124m'\u001b[39m\u001b[38;5;124mitems\u001b[39m\u001b[38;5;124m'\u001b[39m]:\n\u001b[1;32m      7\u001b[0m         \u001b[38;5;66;03m# Create a temporary DataFrame for the current playlist\u001b[39;00m\n\u001b[1;32m      8\u001b[0m         temp_df \u001b[38;5;241m=\u001b[39m pd\u001b[38;5;241m.\u001b[39mDataFrame([{\n\u001b[1;32m      9\u001b[0m             \u001b[38;5;124m'\u001b[39m\u001b[38;5;124mid\u001b[39m\u001b[38;5;124m'\u001b[39m: playlist[\u001b[38;5;124m'\u001b[39m\u001b[38;5;124mid\u001b[39m\u001b[38;5;124m'\u001b[39m],\n\u001b[1;32m     10\u001b[0m             \u001b[38;5;124m'\u001b[39m\u001b[38;5;124mname\u001b[39m\u001b[38;5;124m'\u001b[39m: playlist[\u001b[38;5;124m'\u001b[39m\u001b[38;5;124mname\u001b[39m\u001b[38;5;124m'\u001b[39m],\n\u001b[1;32m     11\u001b[0m             \u001b[38;5;124m'\u001b[39m\u001b[38;5;124mdescription\u001b[39m\u001b[38;5;124m'\u001b[39m: playlist[\u001b[38;5;124m'\u001b[39m\u001b[38;5;124mdescription\u001b[39m\u001b[38;5;124m'\u001b[39m],\n\u001b[1;32m     12\u001b[0m             \u001b[38;5;124m'\u001b[39m\u001b[38;5;124mcategory\u001b[39m\u001b[38;5;124m'\u001b[39m: category\n\u001b[1;32m     13\u001b[0m         }])\n",
      "File \u001b[0;32m~/.pyenv/versions/3.10.6/envs/lewagon/lib/python3.10/site-packages/spotipy/client.py:1657\u001b[0m, in \u001b[0;36mSpotify.category_playlists\u001b[0;34m(self, category_id, country, limit, offset)\u001b[0m\n\u001b[1;32m   1640\u001b[0m \u001b[38;5;28;01mdef\u001b[39;00m \u001b[38;5;21mcategory_playlists\u001b[39m(\n\u001b[1;32m   1641\u001b[0m     \u001b[38;5;28mself\u001b[39m, category_id\u001b[38;5;241m=\u001b[39m\u001b[38;5;28;01mNone\u001b[39;00m, country\u001b[38;5;241m=\u001b[39m\u001b[38;5;28;01mNone\u001b[39;00m, limit\u001b[38;5;241m=\u001b[39m\u001b[38;5;241m20\u001b[39m, offset\u001b[38;5;241m=\u001b[39m\u001b[38;5;241m0\u001b[39m\n\u001b[1;32m   1642\u001b[0m ):\n\u001b[1;32m   1643\u001b[0m     \u001b[38;5;124;03m\"\"\" Get a list of playlists for a specific Spotify category\u001b[39;00m\n\u001b[1;32m   1644\u001b[0m \n\u001b[1;32m   1645\u001b[0m \u001b[38;5;124;03m        Parameters:\u001b[39;00m\n\u001b[0;32m   (...)\u001b[0m\n\u001b[1;32m   1655\u001b[0m \u001b[38;5;124;03m              items.\u001b[39;00m\n\u001b[1;32m   1656\u001b[0m \u001b[38;5;124;03m    \"\"\"\u001b[39;00m\n\u001b[0;32m-> 1657\u001b[0m     \u001b[38;5;28;01mreturn\u001b[39;00m \u001b[38;5;28;43mself\u001b[39;49m\u001b[38;5;241;43m.\u001b[39;49m\u001b[43m_get\u001b[49m\u001b[43m(\u001b[49m\n\u001b[1;32m   1658\u001b[0m \u001b[43m        \u001b[49m\u001b[38;5;124;43m\"\u001b[39;49m\u001b[38;5;124;43mbrowse/categories/\u001b[39;49m\u001b[38;5;124;43m\"\u001b[39;49m\u001b[43m \u001b[49m\u001b[38;5;241;43m+\u001b[39;49m\u001b[43m \u001b[49m\u001b[43mcategory_id\u001b[49m\u001b[43m \u001b[49m\u001b[38;5;241;43m+\u001b[39;49m\u001b[43m \u001b[49m\u001b[38;5;124;43m\"\u001b[39;49m\u001b[38;5;124;43m/playlists\u001b[39;49m\u001b[38;5;124;43m\"\u001b[39;49m\u001b[43m,\u001b[49m\n\u001b[1;32m   1659\u001b[0m \u001b[43m        \u001b[49m\u001b[43mcountry\u001b[49m\u001b[38;5;241;43m=\u001b[39;49m\u001b[43mcountry\u001b[49m\u001b[43m,\u001b[49m\n\u001b[1;32m   1660\u001b[0m \u001b[43m        \u001b[49m\u001b[43mlimit\u001b[49m\u001b[38;5;241;43m=\u001b[39;49m\u001b[43mlimit\u001b[49m\u001b[43m,\u001b[49m\n\u001b[1;32m   1661\u001b[0m \u001b[43m        \u001b[49m\u001b[43moffset\u001b[49m\u001b[38;5;241;43m=\u001b[39;49m\u001b[43moffset\u001b[49m\u001b[43m,\u001b[49m\n\u001b[1;32m   1662\u001b[0m \u001b[43m    \u001b[49m\u001b[43m)\u001b[49m\n",
      "File \u001b[0;32m~/.pyenv/versions/3.10.6/envs/lewagon/lib/python3.10/site-packages/spotipy/client.py:327\u001b[0m, in \u001b[0;36mSpotify._get\u001b[0;34m(self, url, args, payload, **kwargs)\u001b[0m\n\u001b[1;32m    324\u001b[0m \u001b[38;5;28;01mif\u001b[39;00m args:\n\u001b[1;32m    325\u001b[0m     kwargs\u001b[38;5;241m.\u001b[39mupdate(args)\n\u001b[0;32m--> 327\u001b[0m \u001b[38;5;28;01mreturn\u001b[39;00m \u001b[38;5;28;43mself\u001b[39;49m\u001b[38;5;241;43m.\u001b[39;49m\u001b[43m_internal_call\u001b[49m\u001b[43m(\u001b[49m\u001b[38;5;124;43m\"\u001b[39;49m\u001b[38;5;124;43mGET\u001b[39;49m\u001b[38;5;124;43m\"\u001b[39;49m\u001b[43m,\u001b[49m\u001b[43m \u001b[49m\u001b[43murl\u001b[49m\u001b[43m,\u001b[49m\u001b[43m \u001b[49m\u001b[43mpayload\u001b[49m\u001b[43m,\u001b[49m\u001b[43m \u001b[49m\u001b[43mkwargs\u001b[49m\u001b[43m)\u001b[49m\n",
      "File \u001b[0;32m~/.pyenv/versions/3.10.6/envs/lewagon/lib/python3.10/site-packages/spotipy/client.py:297\u001b[0m, in \u001b[0;36mSpotify._internal_call\u001b[0;34m(self, method, url, payload, params)\u001b[0m\n\u001b[1;32m    290\u001b[0m         reason \u001b[38;5;241m=\u001b[39m \u001b[38;5;28;01mNone\u001b[39;00m\n\u001b[1;32m    292\u001b[0m     logger\u001b[38;5;241m.\u001b[39merror(\n\u001b[1;32m    293\u001b[0m         \u001b[38;5;124m'\u001b[39m\u001b[38;5;124mHTTP Error for \u001b[39m\u001b[38;5;132;01m%s\u001b[39;00m\u001b[38;5;124m to \u001b[39m\u001b[38;5;132;01m%s\u001b[39;00m\u001b[38;5;124m with Params: \u001b[39m\u001b[38;5;132;01m%s\u001b[39;00m\u001b[38;5;124m returned \u001b[39m\u001b[38;5;132;01m%s\u001b[39;00m\u001b[38;5;124m due to \u001b[39m\u001b[38;5;132;01m%s\u001b[39;00m\u001b[38;5;124m'\u001b[39m,\n\u001b[1;32m    294\u001b[0m         method, url, args\u001b[38;5;241m.\u001b[39mget(\u001b[38;5;124m\"\u001b[39m\u001b[38;5;124mparams\u001b[39m\u001b[38;5;124m\"\u001b[39m), response\u001b[38;5;241m.\u001b[39mstatus_code, msg\n\u001b[1;32m    295\u001b[0m     )\n\u001b[0;32m--> 297\u001b[0m     \u001b[38;5;28;01mraise\u001b[39;00m SpotifyException(\n\u001b[1;32m    298\u001b[0m         response\u001b[38;5;241m.\u001b[39mstatus_code,\n\u001b[1;32m    299\u001b[0m         \u001b[38;5;241m-\u001b[39m\u001b[38;5;241m1\u001b[39m,\n\u001b[1;32m    300\u001b[0m         \u001b[38;5;124mf\u001b[39m\u001b[38;5;124m\"\u001b[39m\u001b[38;5;132;01m{\u001b[39;00mresponse\u001b[38;5;241m.\u001b[39murl\u001b[38;5;132;01m}\u001b[39;00m\u001b[38;5;124m:\u001b[39m\u001b[38;5;130;01m\\n\u001b[39;00m\u001b[38;5;124m \u001b[39m\u001b[38;5;132;01m{\u001b[39;00mmsg\u001b[38;5;132;01m}\u001b[39;00m\u001b[38;5;124m\"\u001b[39m,\n\u001b[1;32m    301\u001b[0m         reason\u001b[38;5;241m=\u001b[39mreason,\n\u001b[1;32m    302\u001b[0m         headers\u001b[38;5;241m=\u001b[39mresponse\u001b[38;5;241m.\u001b[39mheaders,\n\u001b[1;32m    303\u001b[0m     )\n\u001b[1;32m    304\u001b[0m \u001b[38;5;28;01mexcept\u001b[39;00m requests\u001b[38;5;241m.\u001b[39mexceptions\u001b[38;5;241m.\u001b[39mRetryError \u001b[38;5;28;01mas\u001b[39;00m retry_error:\n\u001b[1;32m    305\u001b[0m     request \u001b[38;5;241m=\u001b[39m retry_error\u001b[38;5;241m.\u001b[39mrequest\n",
      "\u001b[0;31mSpotifyException\u001b[0m: http status: 404, code:-1 - https://api.spotify.com/v1/browse/categories/dinner/playlists?limit=50&offset=0:\n Not Found, reason: None"
     ]
    }
   ],
   "source": [
    "categories = get_playlist_categories(country_code=country_code, language_code=language_code, limit=limit)\n",
    "\n",
    "for cat in categories:\n",
    "    cat_playlists = get_playlists(category=cat['category'], cat_id=cat['cat_id'], limit=limit)"
   ]
  },
  {
   "cell_type": "code",
   "execution_count": 146,
   "id": "78477400",
   "metadata": {
    "collapsed": true,
    "hidden": true,
    "jupyter": {
     "outputs_hidden": true
    }
   },
   "outputs": [
    {
     "name": "stderr",
     "output_type": "stream",
     "text": [
      "HTTP Error for GET to https://api.spotify.com/v1/browse/categories/0JQ5DAqbMKFzHmL4tf05da/playlists with Params: {'country': None, 'limit': 50, 'offset': 0} returned 404 due to Not Found\n"
     ]
    },
    {
     "ename": "SpotifyException",
     "evalue": "http status: 404, code:-1 - https://api.spotify.com/v1/browse/categories/0JQ5DAqbMKFzHmL4tf05da/playlists?limit=50&offset=0:\n Not Found, reason: None",
     "output_type": "error",
     "traceback": [
      "\u001b[0;31m---------------------------------------------------------------------------\u001b[0m",
      "\u001b[0;31mHTTPError\u001b[0m                                 Traceback (most recent call last)",
      "File \u001b[0;32m~/.pyenv/versions/3.10.6/envs/lewagon/lib/python3.10/site-packages/spotipy/client.py:275\u001b[0m, in \u001b[0;36mSpotify._internal_call\u001b[0;34m(self, method, url, payload, params)\u001b[0m\n\u001b[1;32m    270\u001b[0m response \u001b[38;5;241m=\u001b[39m \u001b[38;5;28mself\u001b[39m\u001b[38;5;241m.\u001b[39m_session\u001b[38;5;241m.\u001b[39mrequest(\n\u001b[1;32m    271\u001b[0m     method, url, headers\u001b[38;5;241m=\u001b[39mheaders, proxies\u001b[38;5;241m=\u001b[39m\u001b[38;5;28mself\u001b[39m\u001b[38;5;241m.\u001b[39mproxies,\n\u001b[1;32m    272\u001b[0m     timeout\u001b[38;5;241m=\u001b[39m\u001b[38;5;28mself\u001b[39m\u001b[38;5;241m.\u001b[39mrequests_timeout, \u001b[38;5;241m*\u001b[39m\u001b[38;5;241m*\u001b[39margs\n\u001b[1;32m    273\u001b[0m )\n\u001b[0;32m--> 275\u001b[0m \u001b[43mresponse\u001b[49m\u001b[38;5;241;43m.\u001b[39;49m\u001b[43mraise_for_status\u001b[49m\u001b[43m(\u001b[49m\u001b[43m)\u001b[49m\n\u001b[1;32m    276\u001b[0m results \u001b[38;5;241m=\u001b[39m response\u001b[38;5;241m.\u001b[39mjson()\n",
      "File \u001b[0;32m~/.pyenv/versions/3.10.6/envs/lewagon/lib/python3.10/site-packages/requests/models.py:1021\u001b[0m, in \u001b[0;36mResponse.raise_for_status\u001b[0;34m(self)\u001b[0m\n\u001b[1;32m   1020\u001b[0m \u001b[38;5;28;01mif\u001b[39;00m http_error_msg:\n\u001b[0;32m-> 1021\u001b[0m     \u001b[38;5;28;01mraise\u001b[39;00m HTTPError(http_error_msg, response\u001b[38;5;241m=\u001b[39m\u001b[38;5;28mself\u001b[39m)\n",
      "\u001b[0;31mHTTPError\u001b[0m: 404 Client Error: Not Found for url: https://api.spotify.com/v1/browse/categories/0JQ5DAqbMKFzHmL4tf05da/playlists?limit=50&offset=0",
      "\nDuring handling of the above exception, another exception occurred:\n",
      "\u001b[0;31mSpotifyException\u001b[0m                          Traceback (most recent call last)",
      "Cell \u001b[0;32mIn [146], line 1\u001b[0m\n\u001b[0;32m----> 1\u001b[0m \u001b[43mget_playlists\u001b[49m\u001b[43m(\u001b[49m\u001b[43mcategory\u001b[49m\u001b[38;5;241;43m=\u001b[39;49m\u001b[38;5;124;43m'\u001b[39;49m\u001b[38;5;124;43mMood\u001b[39;49m\u001b[38;5;124;43m'\u001b[39;49m\u001b[43m,\u001b[49m\u001b[43m \u001b[49m\u001b[43mcat_id\u001b[49m\u001b[38;5;241;43m=\u001b[39;49m\u001b[38;5;124;43m'\u001b[39;49m\u001b[38;5;124;43m0JQ5DAqbMKFzHmL4tf05da\u001b[39;49m\u001b[38;5;124;43m'\u001b[39;49m\u001b[43m,\u001b[49m\u001b[43m \u001b[49m\u001b[43mlimit\u001b[49m\u001b[38;5;241;43m=\u001b[39;49m\u001b[38;5;241;43m50\u001b[39;49m\u001b[43m)\u001b[49m\n",
      "Cell \u001b[0;32mIn [129], line 4\u001b[0m, in \u001b[0;36mget_playlists\u001b[0;34m(category, cat_id, limit)\u001b[0m\n\u001b[1;32m      1\u001b[0m \u001b[38;5;28;01mdef\u001b[39;00m \u001b[38;5;21mget_playlists\u001b[39m(category, cat_id, limit):\n\u001b[1;32m      2\u001b[0m \n\u001b[1;32m      3\u001b[0m     \u001b[38;5;66;03m# Get playlists from categories\u001b[39;00m\n\u001b[0;32m----> 4\u001b[0m     cat_playlists \u001b[38;5;241m=\u001b[39m \u001b[43msp\u001b[49m\u001b[38;5;241;43m.\u001b[39;49m\u001b[43mcategory_playlists\u001b[49m\u001b[43m(\u001b[49m\u001b[43mcategory_id\u001b[49m\u001b[38;5;241;43m=\u001b[39;49m\u001b[43mcat_id\u001b[49m\u001b[43m,\u001b[49m\u001b[43m \u001b[49m\u001b[43mlimit\u001b[49m\u001b[38;5;241;43m=\u001b[39;49m\u001b[43mlimit\u001b[49m\u001b[43m)\u001b[49m\n\u001b[1;32m      5\u001b[0m     \u001b[38;5;28;01mfor\u001b[39;00m playlist \u001b[38;5;129;01min\u001b[39;00m cat_playlists[\u001b[38;5;124m'\u001b[39m\u001b[38;5;124mplaylists\u001b[39m\u001b[38;5;124m'\u001b[39m][\u001b[38;5;124m'\u001b[39m\u001b[38;5;124mitems\u001b[39m\u001b[38;5;124m'\u001b[39m]:\n\u001b[1;32m      6\u001b[0m         \u001b[38;5;66;03m# Create a temporary DataFrame for the current playlist\u001b[39;00m\n\u001b[1;32m      7\u001b[0m         temp_df \u001b[38;5;241m=\u001b[39m pd\u001b[38;5;241m.\u001b[39mDataFrame([{\n\u001b[1;32m      8\u001b[0m             \u001b[38;5;124m'\u001b[39m\u001b[38;5;124mid\u001b[39m\u001b[38;5;124m'\u001b[39m: playlist[\u001b[38;5;124m'\u001b[39m\u001b[38;5;124mid\u001b[39m\u001b[38;5;124m'\u001b[39m],\n\u001b[1;32m      9\u001b[0m             \u001b[38;5;124m'\u001b[39m\u001b[38;5;124mname\u001b[39m\u001b[38;5;124m'\u001b[39m: playlist[\u001b[38;5;124m'\u001b[39m\u001b[38;5;124mname\u001b[39m\u001b[38;5;124m'\u001b[39m],\n\u001b[1;32m     10\u001b[0m             \u001b[38;5;124m'\u001b[39m\u001b[38;5;124mdescription\u001b[39m\u001b[38;5;124m'\u001b[39m: playlist[\u001b[38;5;124m'\u001b[39m\u001b[38;5;124mdescription\u001b[39m\u001b[38;5;124m'\u001b[39m],\n\u001b[1;32m     11\u001b[0m             \u001b[38;5;124m'\u001b[39m\u001b[38;5;124mcategory\u001b[39m\u001b[38;5;124m'\u001b[39m: category\n\u001b[1;32m     12\u001b[0m         }])\n",
      "File \u001b[0;32m~/.pyenv/versions/3.10.6/envs/lewagon/lib/python3.10/site-packages/spotipy/client.py:1657\u001b[0m, in \u001b[0;36mSpotify.category_playlists\u001b[0;34m(self, category_id, country, limit, offset)\u001b[0m\n\u001b[1;32m   1640\u001b[0m \u001b[38;5;28;01mdef\u001b[39;00m \u001b[38;5;21mcategory_playlists\u001b[39m(\n\u001b[1;32m   1641\u001b[0m     \u001b[38;5;28mself\u001b[39m, category_id\u001b[38;5;241m=\u001b[39m\u001b[38;5;28;01mNone\u001b[39;00m, country\u001b[38;5;241m=\u001b[39m\u001b[38;5;28;01mNone\u001b[39;00m, limit\u001b[38;5;241m=\u001b[39m\u001b[38;5;241m20\u001b[39m, offset\u001b[38;5;241m=\u001b[39m\u001b[38;5;241m0\u001b[39m\n\u001b[1;32m   1642\u001b[0m ):\n\u001b[1;32m   1643\u001b[0m     \u001b[38;5;124;03m\"\"\" Get a list of playlists for a specific Spotify category\u001b[39;00m\n\u001b[1;32m   1644\u001b[0m \n\u001b[1;32m   1645\u001b[0m \u001b[38;5;124;03m        Parameters:\u001b[39;00m\n\u001b[0;32m   (...)\u001b[0m\n\u001b[1;32m   1655\u001b[0m \u001b[38;5;124;03m              items.\u001b[39;00m\n\u001b[1;32m   1656\u001b[0m \u001b[38;5;124;03m    \"\"\"\u001b[39;00m\n\u001b[0;32m-> 1657\u001b[0m     \u001b[38;5;28;01mreturn\u001b[39;00m \u001b[38;5;28;43mself\u001b[39;49m\u001b[38;5;241;43m.\u001b[39;49m\u001b[43m_get\u001b[49m\u001b[43m(\u001b[49m\n\u001b[1;32m   1658\u001b[0m \u001b[43m        \u001b[49m\u001b[38;5;124;43m\"\u001b[39;49m\u001b[38;5;124;43mbrowse/categories/\u001b[39;49m\u001b[38;5;124;43m\"\u001b[39;49m\u001b[43m \u001b[49m\u001b[38;5;241;43m+\u001b[39;49m\u001b[43m \u001b[49m\u001b[43mcategory_id\u001b[49m\u001b[43m \u001b[49m\u001b[38;5;241;43m+\u001b[39;49m\u001b[43m \u001b[49m\u001b[38;5;124;43m\"\u001b[39;49m\u001b[38;5;124;43m/playlists\u001b[39;49m\u001b[38;5;124;43m\"\u001b[39;49m\u001b[43m,\u001b[49m\n\u001b[1;32m   1659\u001b[0m \u001b[43m        \u001b[49m\u001b[43mcountry\u001b[49m\u001b[38;5;241;43m=\u001b[39;49m\u001b[43mcountry\u001b[49m\u001b[43m,\u001b[49m\n\u001b[1;32m   1660\u001b[0m \u001b[43m        \u001b[49m\u001b[43mlimit\u001b[49m\u001b[38;5;241;43m=\u001b[39;49m\u001b[43mlimit\u001b[49m\u001b[43m,\u001b[49m\n\u001b[1;32m   1661\u001b[0m \u001b[43m        \u001b[49m\u001b[43moffset\u001b[49m\u001b[38;5;241;43m=\u001b[39;49m\u001b[43moffset\u001b[49m\u001b[43m,\u001b[49m\n\u001b[1;32m   1662\u001b[0m \u001b[43m    \u001b[49m\u001b[43m)\u001b[49m\n",
      "File \u001b[0;32m~/.pyenv/versions/3.10.6/envs/lewagon/lib/python3.10/site-packages/spotipy/client.py:327\u001b[0m, in \u001b[0;36mSpotify._get\u001b[0;34m(self, url, args, payload, **kwargs)\u001b[0m\n\u001b[1;32m    324\u001b[0m \u001b[38;5;28;01mif\u001b[39;00m args:\n\u001b[1;32m    325\u001b[0m     kwargs\u001b[38;5;241m.\u001b[39mupdate(args)\n\u001b[0;32m--> 327\u001b[0m \u001b[38;5;28;01mreturn\u001b[39;00m \u001b[38;5;28;43mself\u001b[39;49m\u001b[38;5;241;43m.\u001b[39;49m\u001b[43m_internal_call\u001b[49m\u001b[43m(\u001b[49m\u001b[38;5;124;43m\"\u001b[39;49m\u001b[38;5;124;43mGET\u001b[39;49m\u001b[38;5;124;43m\"\u001b[39;49m\u001b[43m,\u001b[49m\u001b[43m \u001b[49m\u001b[43murl\u001b[49m\u001b[43m,\u001b[49m\u001b[43m \u001b[49m\u001b[43mpayload\u001b[49m\u001b[43m,\u001b[49m\u001b[43m \u001b[49m\u001b[43mkwargs\u001b[49m\u001b[43m)\u001b[49m\n",
      "File \u001b[0;32m~/.pyenv/versions/3.10.6/envs/lewagon/lib/python3.10/site-packages/spotipy/client.py:297\u001b[0m, in \u001b[0;36mSpotify._internal_call\u001b[0;34m(self, method, url, payload, params)\u001b[0m\n\u001b[1;32m    290\u001b[0m         reason \u001b[38;5;241m=\u001b[39m \u001b[38;5;28;01mNone\u001b[39;00m\n\u001b[1;32m    292\u001b[0m     logger\u001b[38;5;241m.\u001b[39merror(\n\u001b[1;32m    293\u001b[0m         \u001b[38;5;124m'\u001b[39m\u001b[38;5;124mHTTP Error for \u001b[39m\u001b[38;5;132;01m%s\u001b[39;00m\u001b[38;5;124m to \u001b[39m\u001b[38;5;132;01m%s\u001b[39;00m\u001b[38;5;124m with Params: \u001b[39m\u001b[38;5;132;01m%s\u001b[39;00m\u001b[38;5;124m returned \u001b[39m\u001b[38;5;132;01m%s\u001b[39;00m\u001b[38;5;124m due to \u001b[39m\u001b[38;5;132;01m%s\u001b[39;00m\u001b[38;5;124m'\u001b[39m,\n\u001b[1;32m    294\u001b[0m         method, url, args\u001b[38;5;241m.\u001b[39mget(\u001b[38;5;124m\"\u001b[39m\u001b[38;5;124mparams\u001b[39m\u001b[38;5;124m\"\u001b[39m), response\u001b[38;5;241m.\u001b[39mstatus_code, msg\n\u001b[1;32m    295\u001b[0m     )\n\u001b[0;32m--> 297\u001b[0m     \u001b[38;5;28;01mraise\u001b[39;00m SpotifyException(\n\u001b[1;32m    298\u001b[0m         response\u001b[38;5;241m.\u001b[39mstatus_code,\n\u001b[1;32m    299\u001b[0m         \u001b[38;5;241m-\u001b[39m\u001b[38;5;241m1\u001b[39m,\n\u001b[1;32m    300\u001b[0m         \u001b[38;5;124mf\u001b[39m\u001b[38;5;124m\"\u001b[39m\u001b[38;5;132;01m{\u001b[39;00mresponse\u001b[38;5;241m.\u001b[39murl\u001b[38;5;132;01m}\u001b[39;00m\u001b[38;5;124m:\u001b[39m\u001b[38;5;130;01m\\n\u001b[39;00m\u001b[38;5;124m \u001b[39m\u001b[38;5;132;01m{\u001b[39;00mmsg\u001b[38;5;132;01m}\u001b[39;00m\u001b[38;5;124m\"\u001b[39m,\n\u001b[1;32m    301\u001b[0m         reason\u001b[38;5;241m=\u001b[39mreason,\n\u001b[1;32m    302\u001b[0m         headers\u001b[38;5;241m=\u001b[39mresponse\u001b[38;5;241m.\u001b[39mheaders,\n\u001b[1;32m    303\u001b[0m     )\n\u001b[1;32m    304\u001b[0m \u001b[38;5;28;01mexcept\u001b[39;00m requests\u001b[38;5;241m.\u001b[39mexceptions\u001b[38;5;241m.\u001b[39mRetryError \u001b[38;5;28;01mas\u001b[39;00m retry_error:\n\u001b[1;32m    305\u001b[0m     request \u001b[38;5;241m=\u001b[39m retry_error\u001b[38;5;241m.\u001b[39mrequest\n",
      "\u001b[0;31mSpotifyException\u001b[0m: http status: 404, code:-1 - https://api.spotify.com/v1/browse/categories/0JQ5DAqbMKFzHmL4tf05da/playlists?limit=50&offset=0:\n Not Found, reason: None"
     ]
    }
   ],
   "source": [
    "get_playlists(category='Mood', cat_id='0JQ5DAqbMKFzHmL4tf05da', limit=50)"
   ]
  },
  {
   "cell_type": "code",
   "execution_count": 170,
   "id": "9e76ce50",
   "metadata": {
    "collapsed": true,
    "hidden": true,
    "jupyter": {
     "outputs_hidden": true
    }
   },
   "outputs": [
    {
     "name": "stderr",
     "output_type": "stream",
     "text": [
      "HTTP Error for GET to https://api.spotify.com/v1/browse/categories/dinner/playlists with Params: {'country': None, 'limit': 50, 'offset': 0} returned 404 due to Not Found\n"
     ]
    },
    {
     "ename": "SpotifyException",
     "evalue": "http status: 404, code:-1 - https://api.spotify.com/v1/browse/categories/dinner/playlists?limit=50&offset=0:\n Not Found, reason: None",
     "output_type": "error",
     "traceback": [
      "\u001b[0;31m---------------------------------------------------------------------------\u001b[0m",
      "\u001b[0;31mHTTPError\u001b[0m                                 Traceback (most recent call last)",
      "File \u001b[0;32m~/.pyenv/versions/3.10.6/envs/lewagon/lib/python3.10/site-packages/spotipy/client.py:275\u001b[0m, in \u001b[0;36mSpotify._internal_call\u001b[0;34m(self, method, url, payload, params)\u001b[0m\n\u001b[1;32m    270\u001b[0m response \u001b[38;5;241m=\u001b[39m \u001b[38;5;28mself\u001b[39m\u001b[38;5;241m.\u001b[39m_session\u001b[38;5;241m.\u001b[39mrequest(\n\u001b[1;32m    271\u001b[0m     method, url, headers\u001b[38;5;241m=\u001b[39mheaders, proxies\u001b[38;5;241m=\u001b[39m\u001b[38;5;28mself\u001b[39m\u001b[38;5;241m.\u001b[39mproxies,\n\u001b[1;32m    272\u001b[0m     timeout\u001b[38;5;241m=\u001b[39m\u001b[38;5;28mself\u001b[39m\u001b[38;5;241m.\u001b[39mrequests_timeout, \u001b[38;5;241m*\u001b[39m\u001b[38;5;241m*\u001b[39margs\n\u001b[1;32m    273\u001b[0m )\n\u001b[0;32m--> 275\u001b[0m \u001b[43mresponse\u001b[49m\u001b[38;5;241;43m.\u001b[39;49m\u001b[43mraise_for_status\u001b[49m\u001b[43m(\u001b[49m\u001b[43m)\u001b[49m\n\u001b[1;32m    276\u001b[0m results \u001b[38;5;241m=\u001b[39m response\u001b[38;5;241m.\u001b[39mjson()\n",
      "File \u001b[0;32m~/.pyenv/versions/3.10.6/envs/lewagon/lib/python3.10/site-packages/requests/models.py:1021\u001b[0m, in \u001b[0;36mResponse.raise_for_status\u001b[0;34m(self)\u001b[0m\n\u001b[1;32m   1020\u001b[0m \u001b[38;5;28;01mif\u001b[39;00m http_error_msg:\n\u001b[0;32m-> 1021\u001b[0m     \u001b[38;5;28;01mraise\u001b[39;00m HTTPError(http_error_msg, response\u001b[38;5;241m=\u001b[39m\u001b[38;5;28mself\u001b[39m)\n",
      "\u001b[0;31mHTTPError\u001b[0m: 404 Client Error: Not Found for url: https://api.spotify.com/v1/browse/categories/dinner/playlists?limit=50&offset=0",
      "\nDuring handling of the above exception, another exception occurred:\n",
      "\u001b[0;31mSpotifyException\u001b[0m                          Traceback (most recent call last)",
      "Cell \u001b[0;32mIn [170], line 1\u001b[0m\n\u001b[0;32m----> 1\u001b[0m \u001b[43msp\u001b[49m\u001b[38;5;241;43m.\u001b[39;49m\u001b[43mcategory_playlists\u001b[49m\u001b[43m(\u001b[49m\u001b[43mcategory_id\u001b[49m\u001b[38;5;241;43m=\u001b[39;49m\u001b[38;5;124;43m'\u001b[39;49m\u001b[38;5;124;43mdinner\u001b[39;49m\u001b[38;5;124;43m'\u001b[39;49m\u001b[43m,\u001b[49m\u001b[43m \u001b[49m\u001b[43mlimit\u001b[49m\u001b[38;5;241;43m=\u001b[39;49m\u001b[38;5;241;43m50\u001b[39;49m\u001b[43m)\u001b[49m\n",
      "File \u001b[0;32m~/.pyenv/versions/3.10.6/envs/lewagon/lib/python3.10/site-packages/spotipy/client.py:1657\u001b[0m, in \u001b[0;36mSpotify.category_playlists\u001b[0;34m(self, category_id, country, limit, offset)\u001b[0m\n\u001b[1;32m   1640\u001b[0m \u001b[38;5;28;01mdef\u001b[39;00m \u001b[38;5;21mcategory_playlists\u001b[39m(\n\u001b[1;32m   1641\u001b[0m     \u001b[38;5;28mself\u001b[39m, category_id\u001b[38;5;241m=\u001b[39m\u001b[38;5;28;01mNone\u001b[39;00m, country\u001b[38;5;241m=\u001b[39m\u001b[38;5;28;01mNone\u001b[39;00m, limit\u001b[38;5;241m=\u001b[39m\u001b[38;5;241m20\u001b[39m, offset\u001b[38;5;241m=\u001b[39m\u001b[38;5;241m0\u001b[39m\n\u001b[1;32m   1642\u001b[0m ):\n\u001b[1;32m   1643\u001b[0m     \u001b[38;5;124;03m\"\"\" Get a list of playlists for a specific Spotify category\u001b[39;00m\n\u001b[1;32m   1644\u001b[0m \n\u001b[1;32m   1645\u001b[0m \u001b[38;5;124;03m        Parameters:\u001b[39;00m\n\u001b[0;32m   (...)\u001b[0m\n\u001b[1;32m   1655\u001b[0m \u001b[38;5;124;03m              items.\u001b[39;00m\n\u001b[1;32m   1656\u001b[0m \u001b[38;5;124;03m    \"\"\"\u001b[39;00m\n\u001b[0;32m-> 1657\u001b[0m     \u001b[38;5;28;01mreturn\u001b[39;00m \u001b[38;5;28;43mself\u001b[39;49m\u001b[38;5;241;43m.\u001b[39;49m\u001b[43m_get\u001b[49m\u001b[43m(\u001b[49m\n\u001b[1;32m   1658\u001b[0m \u001b[43m        \u001b[49m\u001b[38;5;124;43m\"\u001b[39;49m\u001b[38;5;124;43mbrowse/categories/\u001b[39;49m\u001b[38;5;124;43m\"\u001b[39;49m\u001b[43m \u001b[49m\u001b[38;5;241;43m+\u001b[39;49m\u001b[43m \u001b[49m\u001b[43mcategory_id\u001b[49m\u001b[43m \u001b[49m\u001b[38;5;241;43m+\u001b[39;49m\u001b[43m \u001b[49m\u001b[38;5;124;43m\"\u001b[39;49m\u001b[38;5;124;43m/playlists\u001b[39;49m\u001b[38;5;124;43m\"\u001b[39;49m\u001b[43m,\u001b[49m\n\u001b[1;32m   1659\u001b[0m \u001b[43m        \u001b[49m\u001b[43mcountry\u001b[49m\u001b[38;5;241;43m=\u001b[39;49m\u001b[43mcountry\u001b[49m\u001b[43m,\u001b[49m\n\u001b[1;32m   1660\u001b[0m \u001b[43m        \u001b[49m\u001b[43mlimit\u001b[49m\u001b[38;5;241;43m=\u001b[39;49m\u001b[43mlimit\u001b[49m\u001b[43m,\u001b[49m\n\u001b[1;32m   1661\u001b[0m \u001b[43m        \u001b[49m\u001b[43moffset\u001b[49m\u001b[38;5;241;43m=\u001b[39;49m\u001b[43moffset\u001b[49m\u001b[43m,\u001b[49m\n\u001b[1;32m   1662\u001b[0m \u001b[43m    \u001b[49m\u001b[43m)\u001b[49m\n",
      "File \u001b[0;32m~/.pyenv/versions/3.10.6/envs/lewagon/lib/python3.10/site-packages/spotipy/client.py:327\u001b[0m, in \u001b[0;36mSpotify._get\u001b[0;34m(self, url, args, payload, **kwargs)\u001b[0m\n\u001b[1;32m    324\u001b[0m \u001b[38;5;28;01mif\u001b[39;00m args:\n\u001b[1;32m    325\u001b[0m     kwargs\u001b[38;5;241m.\u001b[39mupdate(args)\n\u001b[0;32m--> 327\u001b[0m \u001b[38;5;28;01mreturn\u001b[39;00m \u001b[38;5;28;43mself\u001b[39;49m\u001b[38;5;241;43m.\u001b[39;49m\u001b[43m_internal_call\u001b[49m\u001b[43m(\u001b[49m\u001b[38;5;124;43m\"\u001b[39;49m\u001b[38;5;124;43mGET\u001b[39;49m\u001b[38;5;124;43m\"\u001b[39;49m\u001b[43m,\u001b[49m\u001b[43m \u001b[49m\u001b[43murl\u001b[49m\u001b[43m,\u001b[49m\u001b[43m \u001b[49m\u001b[43mpayload\u001b[49m\u001b[43m,\u001b[49m\u001b[43m \u001b[49m\u001b[43mkwargs\u001b[49m\u001b[43m)\u001b[49m\n",
      "File \u001b[0;32m~/.pyenv/versions/3.10.6/envs/lewagon/lib/python3.10/site-packages/spotipy/client.py:297\u001b[0m, in \u001b[0;36mSpotify._internal_call\u001b[0;34m(self, method, url, payload, params)\u001b[0m\n\u001b[1;32m    290\u001b[0m         reason \u001b[38;5;241m=\u001b[39m \u001b[38;5;28;01mNone\u001b[39;00m\n\u001b[1;32m    292\u001b[0m     logger\u001b[38;5;241m.\u001b[39merror(\n\u001b[1;32m    293\u001b[0m         \u001b[38;5;124m'\u001b[39m\u001b[38;5;124mHTTP Error for \u001b[39m\u001b[38;5;132;01m%s\u001b[39;00m\u001b[38;5;124m to \u001b[39m\u001b[38;5;132;01m%s\u001b[39;00m\u001b[38;5;124m with Params: \u001b[39m\u001b[38;5;132;01m%s\u001b[39;00m\u001b[38;5;124m returned \u001b[39m\u001b[38;5;132;01m%s\u001b[39;00m\u001b[38;5;124m due to \u001b[39m\u001b[38;5;132;01m%s\u001b[39;00m\u001b[38;5;124m'\u001b[39m,\n\u001b[1;32m    294\u001b[0m         method, url, args\u001b[38;5;241m.\u001b[39mget(\u001b[38;5;124m\"\u001b[39m\u001b[38;5;124mparams\u001b[39m\u001b[38;5;124m\"\u001b[39m), response\u001b[38;5;241m.\u001b[39mstatus_code, msg\n\u001b[1;32m    295\u001b[0m     )\n\u001b[0;32m--> 297\u001b[0m     \u001b[38;5;28;01mraise\u001b[39;00m SpotifyException(\n\u001b[1;32m    298\u001b[0m         response\u001b[38;5;241m.\u001b[39mstatus_code,\n\u001b[1;32m    299\u001b[0m         \u001b[38;5;241m-\u001b[39m\u001b[38;5;241m1\u001b[39m,\n\u001b[1;32m    300\u001b[0m         \u001b[38;5;124mf\u001b[39m\u001b[38;5;124m\"\u001b[39m\u001b[38;5;132;01m{\u001b[39;00mresponse\u001b[38;5;241m.\u001b[39murl\u001b[38;5;132;01m}\u001b[39;00m\u001b[38;5;124m:\u001b[39m\u001b[38;5;130;01m\\n\u001b[39;00m\u001b[38;5;124m \u001b[39m\u001b[38;5;132;01m{\u001b[39;00mmsg\u001b[38;5;132;01m}\u001b[39;00m\u001b[38;5;124m\"\u001b[39m,\n\u001b[1;32m    301\u001b[0m         reason\u001b[38;5;241m=\u001b[39mreason,\n\u001b[1;32m    302\u001b[0m         headers\u001b[38;5;241m=\u001b[39mresponse\u001b[38;5;241m.\u001b[39mheaders,\n\u001b[1;32m    303\u001b[0m     )\n\u001b[1;32m    304\u001b[0m \u001b[38;5;28;01mexcept\u001b[39;00m requests\u001b[38;5;241m.\u001b[39mexceptions\u001b[38;5;241m.\u001b[39mRetryError \u001b[38;5;28;01mas\u001b[39;00m retry_error:\n\u001b[1;32m    305\u001b[0m     request \u001b[38;5;241m=\u001b[39m retry_error\u001b[38;5;241m.\u001b[39mrequest\n",
      "\u001b[0;31mSpotifyException\u001b[0m: http status: 404, code:-1 - https://api.spotify.com/v1/browse/categories/dinner/playlists?limit=50&offset=0:\n Not Found, reason: None"
     ]
    }
   ],
   "source": [
    "sp.category_playlists(category_id='dinner', limit=50)"
   ]
  },
  {
   "cell_type": "code",
   "execution_count": 105,
   "id": "832c2e8a",
   "metadata": {
    "collapsed": true,
    "hidden": true,
    "jupyter": {
     "outputs_hidden": true
    }
   },
   "outputs": [
    {
     "name": "stderr",
     "output_type": "stream",
     "text": [
      "HTTP Error for GET to https://api.spotify.com/v1/browse/categories/0JQ5DAqbMKFzHmL4tf05da/playlists with Params: {'country': 'US', 'limit': 50, 'offset': 0} returned 404 due to Not Found\n"
     ]
    },
    {
     "ename": "NameError",
     "evalue": "name 'SpotifyException' is not defined",
     "output_type": "error",
     "traceback": [
      "\u001b[0;31m---------------------------------------------------------------------------\u001b[0m",
      "\u001b[0;31mHTTPError\u001b[0m                                 Traceback (most recent call last)",
      "File \u001b[0;32m~/.pyenv/versions/3.10.6/envs/lewagon/lib/python3.10/site-packages/spotipy/client.py:275\u001b[0m, in \u001b[0;36mSpotify._internal_call\u001b[0;34m(self, method, url, payload, params)\u001b[0m\n\u001b[1;32m    270\u001b[0m response \u001b[38;5;241m=\u001b[39m \u001b[38;5;28mself\u001b[39m\u001b[38;5;241m.\u001b[39m_session\u001b[38;5;241m.\u001b[39mrequest(\n\u001b[1;32m    271\u001b[0m     method, url, headers\u001b[38;5;241m=\u001b[39mheaders, proxies\u001b[38;5;241m=\u001b[39m\u001b[38;5;28mself\u001b[39m\u001b[38;5;241m.\u001b[39mproxies,\n\u001b[1;32m    272\u001b[0m     timeout\u001b[38;5;241m=\u001b[39m\u001b[38;5;28mself\u001b[39m\u001b[38;5;241m.\u001b[39mrequests_timeout, \u001b[38;5;241m*\u001b[39m\u001b[38;5;241m*\u001b[39margs\n\u001b[1;32m    273\u001b[0m )\n\u001b[0;32m--> 275\u001b[0m \u001b[43mresponse\u001b[49m\u001b[38;5;241;43m.\u001b[39;49m\u001b[43mraise_for_status\u001b[49m\u001b[43m(\u001b[49m\u001b[43m)\u001b[49m\n\u001b[1;32m    276\u001b[0m results \u001b[38;5;241m=\u001b[39m response\u001b[38;5;241m.\u001b[39mjson()\n",
      "File \u001b[0;32m~/.pyenv/versions/3.10.6/envs/lewagon/lib/python3.10/site-packages/requests/models.py:1021\u001b[0m, in \u001b[0;36mResponse.raise_for_status\u001b[0;34m(self)\u001b[0m\n\u001b[1;32m   1020\u001b[0m \u001b[38;5;28;01mif\u001b[39;00m http_error_msg:\n\u001b[0;32m-> 1021\u001b[0m     \u001b[38;5;28;01mraise\u001b[39;00m HTTPError(http_error_msg, response\u001b[38;5;241m=\u001b[39m\u001b[38;5;28mself\u001b[39m)\n",
      "\u001b[0;31mHTTPError\u001b[0m: 404 Client Error: Not Found for url: https://api.spotify.com/v1/browse/categories/0JQ5DAqbMKFzHmL4tf05da/playlists?country=US&limit=50&offset=0",
      "\nDuring handling of the above exception, another exception occurred:\n",
      "\u001b[0;31mSpotifyException\u001b[0m                          Traceback (most recent call last)",
      "Cell \u001b[0;32mIn [104], line 4\u001b[0m, in \u001b[0;36mget_playlists\u001b[0;34m(category, cat_id, limit)\u001b[0m\n\u001b[1;32m      2\u001b[0m \u001b[38;5;28;01mtry\u001b[39;00m:\n\u001b[1;32m      3\u001b[0m     \u001b[38;5;66;03m# Get playlists from categories\u001b[39;00m\n\u001b[0;32m----> 4\u001b[0m     cat_playlists \u001b[38;5;241m=\u001b[39m \u001b[43msp\u001b[49m\u001b[38;5;241;43m.\u001b[39;49m\u001b[43mcategory_playlists\u001b[49m\u001b[43m(\u001b[49m\u001b[43mcategory_id\u001b[49m\u001b[38;5;241;43m=\u001b[39;49m\u001b[43mcat_id\u001b[49m\u001b[43m,\u001b[49m\u001b[43m \u001b[49m\u001b[43mcountry\u001b[49m\u001b[38;5;241;43m=\u001b[39;49m\u001b[38;5;124;43m'\u001b[39;49m\u001b[38;5;124;43mUS\u001b[39;49m\u001b[38;5;124;43m'\u001b[39;49m\u001b[43m,\u001b[49m\u001b[43m \u001b[49m\u001b[43mlimit\u001b[49m\u001b[38;5;241;43m=\u001b[39;49m\u001b[43mlimit\u001b[49m\u001b[43m)\u001b[49m\n\u001b[1;32m      5\u001b[0m     playlists \u001b[38;5;241m=\u001b[39m []\n",
      "File \u001b[0;32m~/.pyenv/versions/3.10.6/envs/lewagon/lib/python3.10/site-packages/spotipy/client.py:1657\u001b[0m, in \u001b[0;36mSpotify.category_playlists\u001b[0;34m(self, category_id, country, limit, offset)\u001b[0m\n\u001b[1;32m   1643\u001b[0m \u001b[38;5;124;03m\"\"\" Get a list of playlists for a specific Spotify category\u001b[39;00m\n\u001b[1;32m   1644\u001b[0m \n\u001b[1;32m   1645\u001b[0m \u001b[38;5;124;03m    Parameters:\u001b[39;00m\n\u001b[0;32m   (...)\u001b[0m\n\u001b[1;32m   1655\u001b[0m \u001b[38;5;124;03m          items.\u001b[39;00m\n\u001b[1;32m   1656\u001b[0m \u001b[38;5;124;03m\"\"\"\u001b[39;00m\n\u001b[0;32m-> 1657\u001b[0m \u001b[38;5;28;01mreturn\u001b[39;00m \u001b[38;5;28;43mself\u001b[39;49m\u001b[38;5;241;43m.\u001b[39;49m\u001b[43m_get\u001b[49m\u001b[43m(\u001b[49m\n\u001b[1;32m   1658\u001b[0m \u001b[43m    \u001b[49m\u001b[38;5;124;43m\"\u001b[39;49m\u001b[38;5;124;43mbrowse/categories/\u001b[39;49m\u001b[38;5;124;43m\"\u001b[39;49m\u001b[43m \u001b[49m\u001b[38;5;241;43m+\u001b[39;49m\u001b[43m \u001b[49m\u001b[43mcategory_id\u001b[49m\u001b[43m \u001b[49m\u001b[38;5;241;43m+\u001b[39;49m\u001b[43m \u001b[49m\u001b[38;5;124;43m\"\u001b[39;49m\u001b[38;5;124;43m/playlists\u001b[39;49m\u001b[38;5;124;43m\"\u001b[39;49m\u001b[43m,\u001b[49m\n\u001b[1;32m   1659\u001b[0m \u001b[43m    \u001b[49m\u001b[43mcountry\u001b[49m\u001b[38;5;241;43m=\u001b[39;49m\u001b[43mcountry\u001b[49m\u001b[43m,\u001b[49m\n\u001b[1;32m   1660\u001b[0m \u001b[43m    \u001b[49m\u001b[43mlimit\u001b[49m\u001b[38;5;241;43m=\u001b[39;49m\u001b[43mlimit\u001b[49m\u001b[43m,\u001b[49m\n\u001b[1;32m   1661\u001b[0m \u001b[43m    \u001b[49m\u001b[43moffset\u001b[49m\u001b[38;5;241;43m=\u001b[39;49m\u001b[43moffset\u001b[49m\u001b[43m,\u001b[49m\n\u001b[1;32m   1662\u001b[0m \u001b[43m\u001b[49m\u001b[43m)\u001b[49m\n",
      "File \u001b[0;32m~/.pyenv/versions/3.10.6/envs/lewagon/lib/python3.10/site-packages/spotipy/client.py:327\u001b[0m, in \u001b[0;36mSpotify._get\u001b[0;34m(self, url, args, payload, **kwargs)\u001b[0m\n\u001b[1;32m    325\u001b[0m     kwargs\u001b[38;5;241m.\u001b[39mupdate(args)\n\u001b[0;32m--> 327\u001b[0m \u001b[38;5;28;01mreturn\u001b[39;00m \u001b[38;5;28;43mself\u001b[39;49m\u001b[38;5;241;43m.\u001b[39;49m\u001b[43m_internal_call\u001b[49m\u001b[43m(\u001b[49m\u001b[38;5;124;43m\"\u001b[39;49m\u001b[38;5;124;43mGET\u001b[39;49m\u001b[38;5;124;43m\"\u001b[39;49m\u001b[43m,\u001b[49m\u001b[43m \u001b[49m\u001b[43murl\u001b[49m\u001b[43m,\u001b[49m\u001b[43m \u001b[49m\u001b[43mpayload\u001b[49m\u001b[43m,\u001b[49m\u001b[43m \u001b[49m\u001b[43mkwargs\u001b[49m\u001b[43m)\u001b[49m\n",
      "File \u001b[0;32m~/.pyenv/versions/3.10.6/envs/lewagon/lib/python3.10/site-packages/spotipy/client.py:297\u001b[0m, in \u001b[0;36mSpotify._internal_call\u001b[0;34m(self, method, url, payload, params)\u001b[0m\n\u001b[1;32m    292\u001b[0m     logger\u001b[38;5;241m.\u001b[39merror(\n\u001b[1;32m    293\u001b[0m         \u001b[38;5;124m'\u001b[39m\u001b[38;5;124mHTTP Error for \u001b[39m\u001b[38;5;132;01m%s\u001b[39;00m\u001b[38;5;124m to \u001b[39m\u001b[38;5;132;01m%s\u001b[39;00m\u001b[38;5;124m with Params: \u001b[39m\u001b[38;5;132;01m%s\u001b[39;00m\u001b[38;5;124m returned \u001b[39m\u001b[38;5;132;01m%s\u001b[39;00m\u001b[38;5;124m due to \u001b[39m\u001b[38;5;132;01m%s\u001b[39;00m\u001b[38;5;124m'\u001b[39m,\n\u001b[1;32m    294\u001b[0m         method, url, args\u001b[38;5;241m.\u001b[39mget(\u001b[38;5;124m\"\u001b[39m\u001b[38;5;124mparams\u001b[39m\u001b[38;5;124m\"\u001b[39m), response\u001b[38;5;241m.\u001b[39mstatus_code, msg\n\u001b[1;32m    295\u001b[0m     )\n\u001b[0;32m--> 297\u001b[0m     \u001b[38;5;28;01mraise\u001b[39;00m SpotifyException(\n\u001b[1;32m    298\u001b[0m         response\u001b[38;5;241m.\u001b[39mstatus_code,\n\u001b[1;32m    299\u001b[0m         \u001b[38;5;241m-\u001b[39m\u001b[38;5;241m1\u001b[39m,\n\u001b[1;32m    300\u001b[0m         \u001b[38;5;124mf\u001b[39m\u001b[38;5;124m\"\u001b[39m\u001b[38;5;132;01m{\u001b[39;00mresponse\u001b[38;5;241m.\u001b[39murl\u001b[38;5;132;01m}\u001b[39;00m\u001b[38;5;124m:\u001b[39m\u001b[38;5;130;01m\\n\u001b[39;00m\u001b[38;5;124m \u001b[39m\u001b[38;5;132;01m{\u001b[39;00mmsg\u001b[38;5;132;01m}\u001b[39;00m\u001b[38;5;124m\"\u001b[39m,\n\u001b[1;32m    301\u001b[0m         reason\u001b[38;5;241m=\u001b[39mreason,\n\u001b[1;32m    302\u001b[0m         headers\u001b[38;5;241m=\u001b[39mresponse\u001b[38;5;241m.\u001b[39mheaders,\n\u001b[1;32m    303\u001b[0m     )\n\u001b[1;32m    304\u001b[0m \u001b[38;5;28;01mexcept\u001b[39;00m requests\u001b[38;5;241m.\u001b[39mexceptions\u001b[38;5;241m.\u001b[39mRetryError \u001b[38;5;28;01mas\u001b[39;00m retry_error:\n",
      "\u001b[0;31mSpotifyException\u001b[0m: http status: 404, code:-1 - https://api.spotify.com/v1/browse/categories/0JQ5DAqbMKFzHmL4tf05da/playlists?country=US&limit=50&offset=0:\n Not Found, reason: None",
      "\nDuring handling of the above exception, another exception occurred:\n",
      "\u001b[0;31mNameError\u001b[0m                                 Traceback (most recent call last)",
      "Cell \u001b[0;32mIn [105], line 1\u001b[0m\n\u001b[0;32m----> 1\u001b[0m \u001b[43mget_playlists\u001b[49m\u001b[43m(\u001b[49m\u001b[43mcategory\u001b[49m\u001b[38;5;241;43m=\u001b[39;49m\u001b[38;5;124;43m'\u001b[39;49m\u001b[38;5;124;43mMood\u001b[39;49m\u001b[38;5;124;43m'\u001b[39;49m\u001b[43m,\u001b[49m\u001b[43m \u001b[49m\u001b[43mcat_id\u001b[49m\u001b[38;5;241;43m=\u001b[39;49m\u001b[38;5;124;43m'\u001b[39;49m\u001b[38;5;124;43m0JQ5DAqbMKFzHmL4tf05da\u001b[39;49m\u001b[38;5;124;43m'\u001b[39;49m\u001b[43m,\u001b[49m\u001b[43m \u001b[49m\u001b[43mlimit\u001b[49m\u001b[38;5;241;43m=\u001b[39;49m\u001b[38;5;241;43m50\u001b[39;49m\u001b[43m)\u001b[49m\n",
      "Cell \u001b[0;32mIn [104], line 14\u001b[0m, in \u001b[0;36mget_playlists\u001b[0;34m(category, cat_id, limit)\u001b[0m\n\u001b[1;32m      7\u001b[0m         playlists\u001b[38;5;241m.\u001b[39mappend({\n\u001b[1;32m      8\u001b[0m             \u001b[38;5;124m'\u001b[39m\u001b[38;5;124mid\u001b[39m\u001b[38;5;124m'\u001b[39m: playlist[\u001b[38;5;124m'\u001b[39m\u001b[38;5;124mid\u001b[39m\u001b[38;5;124m'\u001b[39m],\n\u001b[1;32m      9\u001b[0m             \u001b[38;5;124m'\u001b[39m\u001b[38;5;124mname\u001b[39m\u001b[38;5;124m'\u001b[39m: playlist[\u001b[38;5;124m'\u001b[39m\u001b[38;5;124mname\u001b[39m\u001b[38;5;124m'\u001b[39m],\n\u001b[1;32m     10\u001b[0m             \u001b[38;5;124m'\u001b[39m\u001b[38;5;124mdescription\u001b[39m\u001b[38;5;124m'\u001b[39m: playlist[\u001b[38;5;124m'\u001b[39m\u001b[38;5;124mdescription\u001b[39m\u001b[38;5;124m'\u001b[39m],\n\u001b[1;32m     11\u001b[0m             \u001b[38;5;124m'\u001b[39m\u001b[38;5;124mcategory\u001b[39m\u001b[38;5;124m'\u001b[39m: category\n\u001b[1;32m     12\u001b[0m         })\n\u001b[1;32m     13\u001b[0m     \u001b[38;5;28;01mreturn\u001b[39;00m pd\u001b[38;5;241m.\u001b[39mDataFrame(playlists)\n\u001b[0;32m---> 14\u001b[0m \u001b[38;5;28;01mexcept\u001b[39;00m \u001b[43mSpotifyException\u001b[49m \u001b[38;5;28;01mas\u001b[39;00m e:\n\u001b[1;32m     15\u001b[0m     \u001b[38;5;28mprint\u001b[39m(\u001b[38;5;124mf\u001b[39m\u001b[38;5;124m\"\u001b[39m\u001b[38;5;124mError fetching playlists for category \u001b[39m\u001b[38;5;132;01m{\u001b[39;00mcategory\u001b[38;5;132;01m}\u001b[39;00m\u001b[38;5;124m: \u001b[39m\u001b[38;5;132;01m{\u001b[39;00me\u001b[38;5;132;01m}\u001b[39;00m\u001b[38;5;124m\"\u001b[39m)\n\u001b[1;32m     16\u001b[0m     \u001b[38;5;28;01mreturn\u001b[39;00m pd\u001b[38;5;241m.\u001b[39mDataFrame()\n",
      "\u001b[0;31mNameError\u001b[0m: name 'SpotifyException' is not defined"
     ]
    }
   ],
   "source": [
    "get_playlists(category='Mood', cat_id='0JQ5DAqbMKFzHmL4tf05da', limit=50)"
   ]
  },
  {
   "cell_type": "code",
   "execution_count": 155,
   "id": "99cba621",
   "metadata": {
    "collapsed": true,
    "hidden": true,
    "jupyter": {
     "outputs_hidden": true
    }
   },
   "outputs": [
    {
     "name": "stderr",
     "output_type": "stream",
     "text": [
      "HTTP Error for GET to https://api.spotify.com/v1/browse/featured-playlists with Params: {'locale': 'en_US', 'country': 'US', 'timestamp': None, 'limit': 50, 'offset': 0} returned 404 due to Not Found\n"
     ]
    },
    {
     "ename": "SpotifyException",
     "evalue": "http status: 404, code:-1 - https://api.spotify.com/v1/browse/featured-playlists?locale=en_US&country=US&limit=50&offset=0:\n Not Found, reason: None",
     "output_type": "error",
     "traceback": [
      "\u001b[0;31m---------------------------------------------------------------------------\u001b[0m",
      "\u001b[0;31mHTTPError\u001b[0m                                 Traceback (most recent call last)",
      "File \u001b[0;32m~/.pyenv/versions/3.10.6/envs/lewagon/lib/python3.10/site-packages/spotipy/client.py:275\u001b[0m, in \u001b[0;36mSpotify._internal_call\u001b[0;34m(self, method, url, payload, params)\u001b[0m\n\u001b[1;32m    270\u001b[0m response \u001b[38;5;241m=\u001b[39m \u001b[38;5;28mself\u001b[39m\u001b[38;5;241m.\u001b[39m_session\u001b[38;5;241m.\u001b[39mrequest(\n\u001b[1;32m    271\u001b[0m     method, url, headers\u001b[38;5;241m=\u001b[39mheaders, proxies\u001b[38;5;241m=\u001b[39m\u001b[38;5;28mself\u001b[39m\u001b[38;5;241m.\u001b[39mproxies,\n\u001b[1;32m    272\u001b[0m     timeout\u001b[38;5;241m=\u001b[39m\u001b[38;5;28mself\u001b[39m\u001b[38;5;241m.\u001b[39mrequests_timeout, \u001b[38;5;241m*\u001b[39m\u001b[38;5;241m*\u001b[39margs\n\u001b[1;32m    273\u001b[0m )\n\u001b[0;32m--> 275\u001b[0m \u001b[43mresponse\u001b[49m\u001b[38;5;241;43m.\u001b[39;49m\u001b[43mraise_for_status\u001b[49m\u001b[43m(\u001b[49m\u001b[43m)\u001b[49m\n\u001b[1;32m    276\u001b[0m results \u001b[38;5;241m=\u001b[39m response\u001b[38;5;241m.\u001b[39mjson()\n",
      "File \u001b[0;32m~/.pyenv/versions/3.10.6/envs/lewagon/lib/python3.10/site-packages/requests/models.py:1021\u001b[0m, in \u001b[0;36mResponse.raise_for_status\u001b[0;34m(self)\u001b[0m\n\u001b[1;32m   1020\u001b[0m \u001b[38;5;28;01mif\u001b[39;00m http_error_msg:\n\u001b[0;32m-> 1021\u001b[0m     \u001b[38;5;28;01mraise\u001b[39;00m HTTPError(http_error_msg, response\u001b[38;5;241m=\u001b[39m\u001b[38;5;28mself\u001b[39m)\n",
      "\u001b[0;31mHTTPError\u001b[0m: 404 Client Error: Not Found for url: https://api.spotify.com/v1/browse/featured-playlists?locale=en_US&country=US&limit=50&offset=0",
      "\nDuring handling of the above exception, another exception occurred:\n",
      "\u001b[0;31mSpotifyException\u001b[0m                          Traceback (most recent call last)",
      "Cell \u001b[0;32mIn [155], line 1\u001b[0m\n\u001b[0;32m----> 1\u001b[0m \u001b[43mget_featured_playlists\u001b[49m\u001b[43m(\u001b[49m\u001b[43mlocale\u001b[49m\u001b[38;5;241;43m=\u001b[39;49m\u001b[43m \u001b[49m\u001b[38;5;124;43m'\u001b[39;49m\u001b[38;5;124;43men_US\u001b[39;49m\u001b[38;5;124;43m'\u001b[39;49m\u001b[43m,\u001b[49m\u001b[43m \u001b[49m\u001b[43mcountry_code\u001b[49m\u001b[38;5;241;43m=\u001b[39;49m\u001b[43mcountry_code\u001b[49m\u001b[43m,\u001b[49m\u001b[43m \u001b[49m\u001b[43mlimit\u001b[49m\u001b[38;5;241;43m=\u001b[39;49m\u001b[43mlimit\u001b[49m\u001b[43m)\u001b[49m\n",
      "Cell \u001b[0;32mIn [153], line 4\u001b[0m, in \u001b[0;36mget_featured_playlists\u001b[0;34m(country_code, limit, locale)\u001b[0m\n\u001b[1;32m      1\u001b[0m \u001b[38;5;28;01mdef\u001b[39;00m \u001b[38;5;21mget_featured_playlists\u001b[39m(country_code, limit, locale):\n\u001b[1;32m      2\u001b[0m \n\u001b[1;32m      3\u001b[0m     \u001b[38;5;66;03m# Get featured playlists\u001b[39;00m\n\u001b[0;32m----> 4\u001b[0m     featured_playlists \u001b[38;5;241m=\u001b[39m \u001b[43msp\u001b[49m\u001b[38;5;241;43m.\u001b[39;49m\u001b[43mfeatured_playlists\u001b[49m\u001b[43m(\u001b[49m\u001b[43mlocale\u001b[49m\u001b[38;5;241;43m=\u001b[39;49m\u001b[43mlocale\u001b[49m\u001b[43m,\u001b[49m\u001b[43m \u001b[49m\u001b[43mcountry\u001b[49m\u001b[38;5;241;43m=\u001b[39;49m\u001b[43mcountry_code\u001b[49m\u001b[43m,\u001b[49m\u001b[43m \u001b[49m\u001b[43mlimit\u001b[49m\u001b[38;5;241;43m=\u001b[39;49m\u001b[43mlimit\u001b[49m\u001b[43m)\u001b[49m\n\u001b[1;32m      5\u001b[0m     \u001b[38;5;28;01mfor\u001b[39;00m playlist \u001b[38;5;129;01min\u001b[39;00m featured_playlists[\u001b[38;5;124m'\u001b[39m\u001b[38;5;124mplaylists\u001b[39m\u001b[38;5;124m'\u001b[39m][\u001b[38;5;124m'\u001b[39m\u001b[38;5;124mitems\u001b[39m\u001b[38;5;124m'\u001b[39m]:\n\u001b[1;32m      6\u001b[0m         \u001b[38;5;66;03m# Create a temporary DataFrame for the current playlist\u001b[39;00m\n\u001b[1;32m      7\u001b[0m         temp_df \u001b[38;5;241m=\u001b[39m pd\u001b[38;5;241m.\u001b[39mDataFrame([{\n\u001b[1;32m      8\u001b[0m             \u001b[38;5;124m'\u001b[39m\u001b[38;5;124mid\u001b[39m\u001b[38;5;124m'\u001b[39m: playlist[\u001b[38;5;124m'\u001b[39m\u001b[38;5;124mid\u001b[39m\u001b[38;5;124m'\u001b[39m],\n\u001b[1;32m      9\u001b[0m             \u001b[38;5;124m'\u001b[39m\u001b[38;5;124mname\u001b[39m\u001b[38;5;124m'\u001b[39m: playlist[\u001b[38;5;124m'\u001b[39m\u001b[38;5;124mname\u001b[39m\u001b[38;5;124m'\u001b[39m],\n\u001b[1;32m     10\u001b[0m             \u001b[38;5;124m'\u001b[39m\u001b[38;5;124mdescription\u001b[39m\u001b[38;5;124m'\u001b[39m: playlist[\u001b[38;5;124m'\u001b[39m\u001b[38;5;124mdescription\u001b[39m\u001b[38;5;124m'\u001b[39m],\n\u001b[1;32m     11\u001b[0m             \u001b[38;5;124m'\u001b[39m\u001b[38;5;124mcategory\u001b[39m\u001b[38;5;124m'\u001b[39m: \u001b[38;5;124m'\u001b[39m\u001b[38;5;124mfeatured_playlist\u001b[39m\u001b[38;5;124m'\u001b[39m\n\u001b[1;32m     12\u001b[0m         }])\n",
      "File \u001b[0;32m~/.pyenv/versions/3.10.6/envs/lewagon/lib/python3.10/site-packages/spotipy/client.py:1573\u001b[0m, in \u001b[0;36mSpotify.featured_playlists\u001b[0;34m(self, locale, country, timestamp, limit, offset)\u001b[0m\n\u001b[1;32m   1549\u001b[0m \u001b[38;5;28;01mdef\u001b[39;00m \u001b[38;5;21mfeatured_playlists\u001b[39m(\n\u001b[1;32m   1550\u001b[0m     \u001b[38;5;28mself\u001b[39m, locale\u001b[38;5;241m=\u001b[39m\u001b[38;5;28;01mNone\u001b[39;00m, country\u001b[38;5;241m=\u001b[39m\u001b[38;5;28;01mNone\u001b[39;00m, timestamp\u001b[38;5;241m=\u001b[39m\u001b[38;5;28;01mNone\u001b[39;00m, limit\u001b[38;5;241m=\u001b[39m\u001b[38;5;241m20\u001b[39m, offset\u001b[38;5;241m=\u001b[39m\u001b[38;5;241m0\u001b[39m\n\u001b[1;32m   1551\u001b[0m ):\n\u001b[1;32m   1552\u001b[0m     \u001b[38;5;124;03m\"\"\" Get a list of Spotify featured playlists\u001b[39;00m\n\u001b[1;32m   1553\u001b[0m \n\u001b[1;32m   1554\u001b[0m \u001b[38;5;124;03m        Parameters:\u001b[39;00m\n\u001b[0;32m   (...)\u001b[0m\n\u001b[1;32m   1571\u001b[0m \u001b[38;5;124;03m              items.\u001b[39;00m\n\u001b[1;32m   1572\u001b[0m \u001b[38;5;124;03m    \"\"\"\u001b[39;00m\n\u001b[0;32m-> 1573\u001b[0m     \u001b[38;5;28;01mreturn\u001b[39;00m \u001b[38;5;28;43mself\u001b[39;49m\u001b[38;5;241;43m.\u001b[39;49m\u001b[43m_get\u001b[49m\u001b[43m(\u001b[49m\n\u001b[1;32m   1574\u001b[0m \u001b[43m        \u001b[49m\u001b[38;5;124;43m\"\u001b[39;49m\u001b[38;5;124;43mbrowse/featured-playlists\u001b[39;49m\u001b[38;5;124;43m\"\u001b[39;49m\u001b[43m,\u001b[49m\n\u001b[1;32m   1575\u001b[0m \u001b[43m        \u001b[49m\u001b[43mlocale\u001b[49m\u001b[38;5;241;43m=\u001b[39;49m\u001b[43mlocale\u001b[49m\u001b[43m,\u001b[49m\n\u001b[1;32m   1576\u001b[0m \u001b[43m        \u001b[49m\u001b[43mcountry\u001b[49m\u001b[38;5;241;43m=\u001b[39;49m\u001b[43mcountry\u001b[49m\u001b[43m,\u001b[49m\n\u001b[1;32m   1577\u001b[0m \u001b[43m        \u001b[49m\u001b[43mtimestamp\u001b[49m\u001b[38;5;241;43m=\u001b[39;49m\u001b[43mtimestamp\u001b[49m\u001b[43m,\u001b[49m\n\u001b[1;32m   1578\u001b[0m \u001b[43m        \u001b[49m\u001b[43mlimit\u001b[49m\u001b[38;5;241;43m=\u001b[39;49m\u001b[43mlimit\u001b[49m\u001b[43m,\u001b[49m\n\u001b[1;32m   1579\u001b[0m \u001b[43m        \u001b[49m\u001b[43moffset\u001b[49m\u001b[38;5;241;43m=\u001b[39;49m\u001b[43moffset\u001b[49m\u001b[43m,\u001b[49m\n\u001b[1;32m   1580\u001b[0m \u001b[43m    \u001b[49m\u001b[43m)\u001b[49m\n",
      "File \u001b[0;32m~/.pyenv/versions/3.10.6/envs/lewagon/lib/python3.10/site-packages/spotipy/client.py:327\u001b[0m, in \u001b[0;36mSpotify._get\u001b[0;34m(self, url, args, payload, **kwargs)\u001b[0m\n\u001b[1;32m    324\u001b[0m \u001b[38;5;28;01mif\u001b[39;00m args:\n\u001b[1;32m    325\u001b[0m     kwargs\u001b[38;5;241m.\u001b[39mupdate(args)\n\u001b[0;32m--> 327\u001b[0m \u001b[38;5;28;01mreturn\u001b[39;00m \u001b[38;5;28;43mself\u001b[39;49m\u001b[38;5;241;43m.\u001b[39;49m\u001b[43m_internal_call\u001b[49m\u001b[43m(\u001b[49m\u001b[38;5;124;43m\"\u001b[39;49m\u001b[38;5;124;43mGET\u001b[39;49m\u001b[38;5;124;43m\"\u001b[39;49m\u001b[43m,\u001b[49m\u001b[43m \u001b[49m\u001b[43murl\u001b[49m\u001b[43m,\u001b[49m\u001b[43m \u001b[49m\u001b[43mpayload\u001b[49m\u001b[43m,\u001b[49m\u001b[43m \u001b[49m\u001b[43mkwargs\u001b[49m\u001b[43m)\u001b[49m\n",
      "File \u001b[0;32m~/.pyenv/versions/3.10.6/envs/lewagon/lib/python3.10/site-packages/spotipy/client.py:297\u001b[0m, in \u001b[0;36mSpotify._internal_call\u001b[0;34m(self, method, url, payload, params)\u001b[0m\n\u001b[1;32m    290\u001b[0m         reason \u001b[38;5;241m=\u001b[39m \u001b[38;5;28;01mNone\u001b[39;00m\n\u001b[1;32m    292\u001b[0m     logger\u001b[38;5;241m.\u001b[39merror(\n\u001b[1;32m    293\u001b[0m         \u001b[38;5;124m'\u001b[39m\u001b[38;5;124mHTTP Error for \u001b[39m\u001b[38;5;132;01m%s\u001b[39;00m\u001b[38;5;124m to \u001b[39m\u001b[38;5;132;01m%s\u001b[39;00m\u001b[38;5;124m with Params: \u001b[39m\u001b[38;5;132;01m%s\u001b[39;00m\u001b[38;5;124m returned \u001b[39m\u001b[38;5;132;01m%s\u001b[39;00m\u001b[38;5;124m due to \u001b[39m\u001b[38;5;132;01m%s\u001b[39;00m\u001b[38;5;124m'\u001b[39m,\n\u001b[1;32m    294\u001b[0m         method, url, args\u001b[38;5;241m.\u001b[39mget(\u001b[38;5;124m\"\u001b[39m\u001b[38;5;124mparams\u001b[39m\u001b[38;5;124m\"\u001b[39m), response\u001b[38;5;241m.\u001b[39mstatus_code, msg\n\u001b[1;32m    295\u001b[0m     )\n\u001b[0;32m--> 297\u001b[0m     \u001b[38;5;28;01mraise\u001b[39;00m SpotifyException(\n\u001b[1;32m    298\u001b[0m         response\u001b[38;5;241m.\u001b[39mstatus_code,\n\u001b[1;32m    299\u001b[0m         \u001b[38;5;241m-\u001b[39m\u001b[38;5;241m1\u001b[39m,\n\u001b[1;32m    300\u001b[0m         \u001b[38;5;124mf\u001b[39m\u001b[38;5;124m\"\u001b[39m\u001b[38;5;132;01m{\u001b[39;00mresponse\u001b[38;5;241m.\u001b[39murl\u001b[38;5;132;01m}\u001b[39;00m\u001b[38;5;124m:\u001b[39m\u001b[38;5;130;01m\\n\u001b[39;00m\u001b[38;5;124m \u001b[39m\u001b[38;5;132;01m{\u001b[39;00mmsg\u001b[38;5;132;01m}\u001b[39;00m\u001b[38;5;124m\"\u001b[39m,\n\u001b[1;32m    301\u001b[0m         reason\u001b[38;5;241m=\u001b[39mreason,\n\u001b[1;32m    302\u001b[0m         headers\u001b[38;5;241m=\u001b[39mresponse\u001b[38;5;241m.\u001b[39mheaders,\n\u001b[1;32m    303\u001b[0m     )\n\u001b[1;32m    304\u001b[0m \u001b[38;5;28;01mexcept\u001b[39;00m requests\u001b[38;5;241m.\u001b[39mexceptions\u001b[38;5;241m.\u001b[39mRetryError \u001b[38;5;28;01mas\u001b[39;00m retry_error:\n\u001b[1;32m    305\u001b[0m     request \u001b[38;5;241m=\u001b[39m retry_error\u001b[38;5;241m.\u001b[39mrequest\n",
      "\u001b[0;31mSpotifyException\u001b[0m: http status: 404, code:-1 - https://api.spotify.com/v1/browse/featured-playlists?locale=en_US&country=US&limit=50&offset=0:\n Not Found, reason: None"
     ]
    }
   ],
   "source": [
    "get_featured_playlists(locale= 'en_US', country_code=country_code, limit=limit)"
   ]
  },
  {
   "cell_type": "code",
   "execution_count": 156,
   "id": "9435a15a",
   "metadata": {
    "hidden": true
   },
   "outputs": [
    {
     "name": "stderr",
     "output_type": "stream",
     "text": [
      "HTTP Error for GET to https://api.spotify.com/v1/browse/featured-playlists with Params: {'locale': None, 'country': 'US', 'timestamp': None, 'limit': 20, 'offset': 0} returned 404 due to Not Found\n"
     ]
    },
    {
     "name": "stdout",
     "output_type": "stream",
     "text": [
      "Error: http status: 404, code:-1 - https://api.spotify.com/v1/browse/featured-playlists?country=US&limit=20&offset=0:\n",
      " Not Found, reason: None\n"
     ]
    }
   ],
   "source": [
    "try:\n",
    "    response = sp.featured_playlists(country='US')\n",
    "    print(response)\n",
    "except Exception as e:\n",
    "    print(f\"Error: {e}\")"
   ]
  },
  {
   "cell_type": "markdown",
   "id": "332896d8",
   "metadata": {
    "jp-MarkdownHeadingCollapsed": true
   },
   "source": [
    "# MusicBrainz music API"
   ]
  },
  {
   "cell_type": "markdown",
   "id": "8fd7ad59",
   "metadata": {
    "heading_collapsed": true,
    "jp-MarkdownHeadingCollapsed": true
   },
   "source": [
    "## __init__ and credentials"
   ]
  },
  {
   "cell_type": "code",
   "execution_count": 35,
   "id": "ede24189",
   "metadata": {
    "collapsed": true,
    "hidden": true,
    "jupyter": {
     "outputs_hidden": true
    }
   },
   "outputs": [
    {
     "name": "stdout",
     "output_type": "stream",
     "text": [
      "Collecting ytmusicapi\n",
      "  Downloading ytmusicapi-1.8.2-py3-none-any.whl.metadata (5.5 kB)\n",
      "Requirement already satisfied: requests>=2.22 in /home/mellerio/.pyenv/versions/3.10.6/envs/lewagon/lib/python3.10/site-packages (from ytmusicapi) (2.31.0)\n",
      "Requirement already satisfied: charset-normalizer<4,>=2 in /home/mellerio/.pyenv/versions/3.10.6/envs/lewagon/lib/python3.10/site-packages (from requests>=2.22->ytmusicapi) (3.2.0)\n",
      "Requirement already satisfied: idna<4,>=2.5 in /home/mellerio/.pyenv/versions/3.10.6/envs/lewagon/lib/python3.10/site-packages (from requests>=2.22->ytmusicapi) (3.4)\n",
      "Requirement already satisfied: urllib3<3,>=1.21.1 in /home/mellerio/.pyenv/versions/3.10.6/envs/lewagon/lib/python3.10/site-packages (from requests>=2.22->ytmusicapi) (2.0.7)\n",
      "Requirement already satisfied: certifi>=2017.4.17 in /home/mellerio/.pyenv/versions/3.10.6/envs/lewagon/lib/python3.10/site-packages (from requests>=2.22->ytmusicapi) (2023.7.22)\n",
      "Downloading ytmusicapi-1.8.2-py3-none-any.whl (87 kB)\n",
      "Installing collected packages: ytmusicapi\n",
      "Successfully installed ytmusicapi-1.8.2\n"
     ]
    }
   ],
   "source": [
    "! pip install ytmusicapi"
   ]
  },
  {
   "cell_type": "code",
   "execution_count": 36,
   "id": "d919d9f8",
   "metadata": {
    "hidden": true
   },
   "outputs": [],
   "source": [
    "from ytmusicapi import YTMusic\n",
    "\n",
    "ytmusic = YTMusic()"
   ]
  },
  {
   "cell_type": "code",
   "execution_count": null,
   "id": "f589cdd0",
   "metadata": {
    "hidden": true
   },
   "outputs": [],
   "source": [
    "! ytmusicapi oauth"
   ]
  },
  {
   "cell_type": "markdown",
   "id": "e66b5a44",
   "metadata": {},
   "source": [
    "## New test"
   ]
  },
  {
   "cell_type": "code",
   "execution_count": 45,
   "id": "62dd08ba",
   "metadata": {
    "collapsed": true,
    "jupyter": {
     "outputs_hidden": true
    }
   },
   "outputs": [
    {
     "ename": "KeyboardInterrupt",
     "evalue": "",
     "output_type": "error",
     "traceback": [
      "\u001b[0;31m---------------------------------------------------------------------------\u001b[0m",
      "\u001b[0;31mKeyboardInterrupt\u001b[0m                         Traceback (most recent call last)",
      "Cell \u001b[0;32mIn [45], line 1\u001b[0m\n\u001b[0;32m----> 1\u001b[0m track_info \u001b[38;5;241m=\u001b[39m \u001b[43msp\u001b[49m\u001b[38;5;241;43m.\u001b[39;49m\u001b[43mtrack\u001b[49m\u001b[43m(\u001b[49m\u001b[38;5;124;43m'\u001b[39;49m\u001b[38;5;124;43m6lfxq3CG4xtTiEg7opyCyx\u001b[39;49m\u001b[38;5;124;43m'\u001b[39;49m\u001b[43m)\u001b[49m\n",
      "File \u001b[0;32m~/.pyenv/versions/3.10.6/envs/lewagon/lib/python3.10/site-packages/spotipy/client.py:375\u001b[0m, in \u001b[0;36mSpotify.track\u001b[0;34m(self, track_id, market)\u001b[0m\n\u001b[1;32m    367\u001b[0m \u001b[38;5;124;03m\"\"\" returns a single track given the track's ID, URI or URL\u001b[39;00m\n\u001b[1;32m    368\u001b[0m \n\u001b[1;32m    369\u001b[0m \u001b[38;5;124;03m    Parameters:\u001b[39;00m\n\u001b[1;32m    370\u001b[0m \u001b[38;5;124;03m        - track_id - a spotify URI, URL or ID\u001b[39;00m\n\u001b[1;32m    371\u001b[0m \u001b[38;5;124;03m        - market - an ISO 3166-1 alpha-2 country code.\u001b[39;00m\n\u001b[1;32m    372\u001b[0m \u001b[38;5;124;03m\"\"\"\u001b[39;00m\n\u001b[1;32m    374\u001b[0m trid \u001b[38;5;241m=\u001b[39m \u001b[38;5;28mself\u001b[39m\u001b[38;5;241m.\u001b[39m_get_id(\u001b[38;5;124m\"\u001b[39m\u001b[38;5;124mtrack\u001b[39m\u001b[38;5;124m\"\u001b[39m, track_id)\n\u001b[0;32m--> 375\u001b[0m \u001b[38;5;28;01mreturn\u001b[39;00m \u001b[38;5;28;43mself\u001b[39;49m\u001b[38;5;241;43m.\u001b[39;49m\u001b[43m_get\u001b[49m\u001b[43m(\u001b[49m\u001b[38;5;124;43m\"\u001b[39;49m\u001b[38;5;124;43mtracks/\u001b[39;49m\u001b[38;5;124;43m\"\u001b[39;49m\u001b[43m \u001b[49m\u001b[38;5;241;43m+\u001b[39;49m\u001b[43m \u001b[49m\u001b[43mtrid\u001b[49m\u001b[43m,\u001b[49m\u001b[43m \u001b[49m\u001b[43mmarket\u001b[49m\u001b[38;5;241;43m=\u001b[39;49m\u001b[43mmarket\u001b[49m\u001b[43m)\u001b[49m\n",
      "File \u001b[0;32m~/.pyenv/versions/3.10.6/envs/lewagon/lib/python3.10/site-packages/spotipy/client.py:327\u001b[0m, in \u001b[0;36mSpotify._get\u001b[0;34m(self, url, args, payload, **kwargs)\u001b[0m\n\u001b[1;32m    324\u001b[0m \u001b[38;5;28;01mif\u001b[39;00m args:\n\u001b[1;32m    325\u001b[0m     kwargs\u001b[38;5;241m.\u001b[39mupdate(args)\n\u001b[0;32m--> 327\u001b[0m \u001b[38;5;28;01mreturn\u001b[39;00m \u001b[38;5;28;43mself\u001b[39;49m\u001b[38;5;241;43m.\u001b[39;49m\u001b[43m_internal_call\u001b[49m\u001b[43m(\u001b[49m\u001b[38;5;124;43m\"\u001b[39;49m\u001b[38;5;124;43mGET\u001b[39;49m\u001b[38;5;124;43m\"\u001b[39;49m\u001b[43m,\u001b[49m\u001b[43m \u001b[49m\u001b[43murl\u001b[49m\u001b[43m,\u001b[49m\u001b[43m \u001b[49m\u001b[43mpayload\u001b[49m\u001b[43m,\u001b[49m\u001b[43m \u001b[49m\u001b[43mkwargs\u001b[49m\u001b[43m)\u001b[49m\n",
      "File \u001b[0;32m~/.pyenv/versions/3.10.6/envs/lewagon/lib/python3.10/site-packages/spotipy/client.py:270\u001b[0m, in \u001b[0;36mSpotify._internal_call\u001b[0;34m(self, method, url, payload, params)\u001b[0m\n\u001b[1;32m    266\u001b[0m logger\u001b[38;5;241m.\u001b[39mdebug(\u001b[38;5;124m'\u001b[39m\u001b[38;5;124mSending \u001b[39m\u001b[38;5;132;01m%s\u001b[39;00m\u001b[38;5;124m to \u001b[39m\u001b[38;5;132;01m%s\u001b[39;00m\u001b[38;5;124m with Params: \u001b[39m\u001b[38;5;132;01m%s\u001b[39;00m\u001b[38;5;124m Headers: \u001b[39m\u001b[38;5;132;01m%s\u001b[39;00m\u001b[38;5;124m and Body: \u001b[39m\u001b[38;5;132;01m%r\u001b[39;00m\u001b[38;5;124m \u001b[39m\u001b[38;5;124m'\u001b[39m,\n\u001b[1;32m    267\u001b[0m              method, url, args\u001b[38;5;241m.\u001b[39mget(\u001b[38;5;124m\"\u001b[39m\u001b[38;5;124mparams\u001b[39m\u001b[38;5;124m\"\u001b[39m), headers, args\u001b[38;5;241m.\u001b[39mget(\u001b[38;5;124m'\u001b[39m\u001b[38;5;124mdata\u001b[39m\u001b[38;5;124m'\u001b[39m))\n\u001b[1;32m    269\u001b[0m \u001b[38;5;28;01mtry\u001b[39;00m:\n\u001b[0;32m--> 270\u001b[0m     response \u001b[38;5;241m=\u001b[39m \u001b[38;5;28;43mself\u001b[39;49m\u001b[38;5;241;43m.\u001b[39;49m\u001b[43m_session\u001b[49m\u001b[38;5;241;43m.\u001b[39;49m\u001b[43mrequest\u001b[49m\u001b[43m(\u001b[49m\n\u001b[1;32m    271\u001b[0m \u001b[43m        \u001b[49m\u001b[43mmethod\u001b[49m\u001b[43m,\u001b[49m\u001b[43m \u001b[49m\u001b[43murl\u001b[49m\u001b[43m,\u001b[49m\u001b[43m \u001b[49m\u001b[43mheaders\u001b[49m\u001b[38;5;241;43m=\u001b[39;49m\u001b[43mheaders\u001b[49m\u001b[43m,\u001b[49m\u001b[43m \u001b[49m\u001b[43mproxies\u001b[49m\u001b[38;5;241;43m=\u001b[39;49m\u001b[38;5;28;43mself\u001b[39;49m\u001b[38;5;241;43m.\u001b[39;49m\u001b[43mproxies\u001b[49m\u001b[43m,\u001b[49m\n\u001b[1;32m    272\u001b[0m \u001b[43m        \u001b[49m\u001b[43mtimeout\u001b[49m\u001b[38;5;241;43m=\u001b[39;49m\u001b[38;5;28;43mself\u001b[39;49m\u001b[38;5;241;43m.\u001b[39;49m\u001b[43mrequests_timeout\u001b[49m\u001b[43m,\u001b[49m\u001b[43m \u001b[49m\u001b[38;5;241;43m*\u001b[39;49m\u001b[38;5;241;43m*\u001b[39;49m\u001b[43margs\u001b[49m\n\u001b[1;32m    273\u001b[0m \u001b[43m    \u001b[49m\u001b[43m)\u001b[49m\n\u001b[1;32m    275\u001b[0m     response\u001b[38;5;241m.\u001b[39mraise_for_status()\n\u001b[1;32m    276\u001b[0m     results \u001b[38;5;241m=\u001b[39m response\u001b[38;5;241m.\u001b[39mjson()\n",
      "File \u001b[0;32m~/.pyenv/versions/3.10.6/envs/lewagon/lib/python3.10/site-packages/requests/sessions.py:589\u001b[0m, in \u001b[0;36mSession.request\u001b[0;34m(self, method, url, params, data, headers, cookies, files, auth, timeout, allow_redirects, proxies, hooks, stream, verify, cert, json)\u001b[0m\n\u001b[1;32m    584\u001b[0m send_kwargs \u001b[38;5;241m=\u001b[39m {\n\u001b[1;32m    585\u001b[0m     \u001b[38;5;124m\"\u001b[39m\u001b[38;5;124mtimeout\u001b[39m\u001b[38;5;124m\"\u001b[39m: timeout,\n\u001b[1;32m    586\u001b[0m     \u001b[38;5;124m\"\u001b[39m\u001b[38;5;124mallow_redirects\u001b[39m\u001b[38;5;124m\"\u001b[39m: allow_redirects,\n\u001b[1;32m    587\u001b[0m }\n\u001b[1;32m    588\u001b[0m send_kwargs\u001b[38;5;241m.\u001b[39mupdate(settings)\n\u001b[0;32m--> 589\u001b[0m resp \u001b[38;5;241m=\u001b[39m \u001b[38;5;28;43mself\u001b[39;49m\u001b[38;5;241;43m.\u001b[39;49m\u001b[43msend\u001b[49m\u001b[43m(\u001b[49m\u001b[43mprep\u001b[49m\u001b[43m,\u001b[49m\u001b[43m \u001b[49m\u001b[38;5;241;43m*\u001b[39;49m\u001b[38;5;241;43m*\u001b[39;49m\u001b[43msend_kwargs\u001b[49m\u001b[43m)\u001b[49m\n\u001b[1;32m    591\u001b[0m \u001b[38;5;28;01mreturn\u001b[39;00m resp\n",
      "File \u001b[0;32m~/.pyenv/versions/3.10.6/envs/lewagon/lib/python3.10/site-packages/requests/sessions.py:703\u001b[0m, in \u001b[0;36mSession.send\u001b[0;34m(self, request, **kwargs)\u001b[0m\n\u001b[1;32m    700\u001b[0m start \u001b[38;5;241m=\u001b[39m preferred_clock()\n\u001b[1;32m    702\u001b[0m \u001b[38;5;66;03m# Send the request\u001b[39;00m\n\u001b[0;32m--> 703\u001b[0m r \u001b[38;5;241m=\u001b[39m \u001b[43madapter\u001b[49m\u001b[38;5;241;43m.\u001b[39;49m\u001b[43msend\u001b[49m\u001b[43m(\u001b[49m\u001b[43mrequest\u001b[49m\u001b[43m,\u001b[49m\u001b[43m \u001b[49m\u001b[38;5;241;43m*\u001b[39;49m\u001b[38;5;241;43m*\u001b[39;49m\u001b[43mkwargs\u001b[49m\u001b[43m)\u001b[49m\n\u001b[1;32m    705\u001b[0m \u001b[38;5;66;03m# Total elapsed time of the request (approximately)\u001b[39;00m\n\u001b[1;32m    706\u001b[0m elapsed \u001b[38;5;241m=\u001b[39m preferred_clock() \u001b[38;5;241m-\u001b[39m start\n",
      "File \u001b[0;32m~/.pyenv/versions/3.10.6/envs/lewagon/lib/python3.10/site-packages/requests/adapters.py:486\u001b[0m, in \u001b[0;36mHTTPAdapter.send\u001b[0;34m(self, request, stream, timeout, verify, cert, proxies)\u001b[0m\n\u001b[1;32m    483\u001b[0m     timeout \u001b[38;5;241m=\u001b[39m TimeoutSauce(connect\u001b[38;5;241m=\u001b[39mtimeout, read\u001b[38;5;241m=\u001b[39mtimeout)\n\u001b[1;32m    485\u001b[0m \u001b[38;5;28;01mtry\u001b[39;00m:\n\u001b[0;32m--> 486\u001b[0m     resp \u001b[38;5;241m=\u001b[39m \u001b[43mconn\u001b[49m\u001b[38;5;241;43m.\u001b[39;49m\u001b[43murlopen\u001b[49m\u001b[43m(\u001b[49m\n\u001b[1;32m    487\u001b[0m \u001b[43m        \u001b[49m\u001b[43mmethod\u001b[49m\u001b[38;5;241;43m=\u001b[39;49m\u001b[43mrequest\u001b[49m\u001b[38;5;241;43m.\u001b[39;49m\u001b[43mmethod\u001b[49m\u001b[43m,\u001b[49m\n\u001b[1;32m    488\u001b[0m \u001b[43m        \u001b[49m\u001b[43murl\u001b[49m\u001b[38;5;241;43m=\u001b[39;49m\u001b[43murl\u001b[49m\u001b[43m,\u001b[49m\n\u001b[1;32m    489\u001b[0m \u001b[43m        \u001b[49m\u001b[43mbody\u001b[49m\u001b[38;5;241;43m=\u001b[39;49m\u001b[43mrequest\u001b[49m\u001b[38;5;241;43m.\u001b[39;49m\u001b[43mbody\u001b[49m\u001b[43m,\u001b[49m\n\u001b[1;32m    490\u001b[0m \u001b[43m        \u001b[49m\u001b[43mheaders\u001b[49m\u001b[38;5;241;43m=\u001b[39;49m\u001b[43mrequest\u001b[49m\u001b[38;5;241;43m.\u001b[39;49m\u001b[43mheaders\u001b[49m\u001b[43m,\u001b[49m\n\u001b[1;32m    491\u001b[0m \u001b[43m        \u001b[49m\u001b[43mredirect\u001b[49m\u001b[38;5;241;43m=\u001b[39;49m\u001b[38;5;28;43;01mFalse\u001b[39;49;00m\u001b[43m,\u001b[49m\n\u001b[1;32m    492\u001b[0m \u001b[43m        \u001b[49m\u001b[43massert_same_host\u001b[49m\u001b[38;5;241;43m=\u001b[39;49m\u001b[38;5;28;43;01mFalse\u001b[39;49;00m\u001b[43m,\u001b[49m\n\u001b[1;32m    493\u001b[0m \u001b[43m        \u001b[49m\u001b[43mpreload_content\u001b[49m\u001b[38;5;241;43m=\u001b[39;49m\u001b[38;5;28;43;01mFalse\u001b[39;49;00m\u001b[43m,\u001b[49m\n\u001b[1;32m    494\u001b[0m \u001b[43m        \u001b[49m\u001b[43mdecode_content\u001b[49m\u001b[38;5;241;43m=\u001b[39;49m\u001b[38;5;28;43;01mFalse\u001b[39;49;00m\u001b[43m,\u001b[49m\n\u001b[1;32m    495\u001b[0m \u001b[43m        \u001b[49m\u001b[43mretries\u001b[49m\u001b[38;5;241;43m=\u001b[39;49m\u001b[38;5;28;43mself\u001b[39;49m\u001b[38;5;241;43m.\u001b[39;49m\u001b[43mmax_retries\u001b[49m\u001b[43m,\u001b[49m\n\u001b[1;32m    496\u001b[0m \u001b[43m        \u001b[49m\u001b[43mtimeout\u001b[49m\u001b[38;5;241;43m=\u001b[39;49m\u001b[43mtimeout\u001b[49m\u001b[43m,\u001b[49m\n\u001b[1;32m    497\u001b[0m \u001b[43m        \u001b[49m\u001b[43mchunked\u001b[49m\u001b[38;5;241;43m=\u001b[39;49m\u001b[43mchunked\u001b[49m\u001b[43m,\u001b[49m\n\u001b[1;32m    498\u001b[0m \u001b[43m    \u001b[49m\u001b[43m)\u001b[49m\n\u001b[1;32m    500\u001b[0m \u001b[38;5;28;01mexcept\u001b[39;00m (ProtocolError, \u001b[38;5;167;01mOSError\u001b[39;00m) \u001b[38;5;28;01mas\u001b[39;00m err:\n\u001b[1;32m    501\u001b[0m     \u001b[38;5;28;01mraise\u001b[39;00m \u001b[38;5;167;01mConnectionError\u001b[39;00m(err, request\u001b[38;5;241m=\u001b[39mrequest)\n",
      "File \u001b[0;32m~/.pyenv/versions/3.10.6/envs/lewagon/lib/python3.10/site-packages/urllib3/connectionpool.py:944\u001b[0m, in \u001b[0;36mHTTPConnectionPool.urlopen\u001b[0;34m(self, method, url, body, headers, retries, redirect, assert_same_host, timeout, pool_timeout, release_conn, chunked, body_pos, preload_content, decode_content, **response_kw)\u001b[0m\n\u001b[1;32m    941\u001b[0m     \u001b[38;5;28;01mreturn\u001b[39;00m response\n\u001b[1;32m    943\u001b[0m response\u001b[38;5;241m.\u001b[39mdrain_conn()\n\u001b[0;32m--> 944\u001b[0m \u001b[43mretries\u001b[49m\u001b[38;5;241;43m.\u001b[39;49m\u001b[43msleep\u001b[49m\u001b[43m(\u001b[49m\u001b[43mresponse\u001b[49m\u001b[43m)\u001b[49m\n\u001b[1;32m    945\u001b[0m log\u001b[38;5;241m.\u001b[39mdebug(\u001b[38;5;124m\"\u001b[39m\u001b[38;5;124mRetry: \u001b[39m\u001b[38;5;132;01m%s\u001b[39;00m\u001b[38;5;124m\"\u001b[39m, url)\n\u001b[1;32m    946\u001b[0m \u001b[38;5;28;01mreturn\u001b[39;00m \u001b[38;5;28mself\u001b[39m\u001b[38;5;241m.\u001b[39murlopen(\n\u001b[1;32m    947\u001b[0m     method,\n\u001b[1;32m    948\u001b[0m     url,\n\u001b[0;32m   (...)\u001b[0m\n\u001b[1;32m    961\u001b[0m     \u001b[38;5;241m*\u001b[39m\u001b[38;5;241m*\u001b[39mresponse_kw,\n\u001b[1;32m    962\u001b[0m )\n",
      "File \u001b[0;32m~/.pyenv/versions/3.10.6/envs/lewagon/lib/python3.10/site-packages/urllib3/util/retry.py:355\u001b[0m, in \u001b[0;36mRetry.sleep\u001b[0;34m(self, response)\u001b[0m\n\u001b[1;32m    346\u001b[0m \u001b[38;5;124;03m\"\"\"Sleep between retry attempts.\u001b[39;00m\n\u001b[1;32m    347\u001b[0m \n\u001b[1;32m    348\u001b[0m \u001b[38;5;124;03mThis method will respect a server's ``Retry-After`` response header\u001b[39;00m\n\u001b[0;32m   (...)\u001b[0m\n\u001b[1;32m    351\u001b[0m \u001b[38;5;124;03mthis method will return immediately.\u001b[39;00m\n\u001b[1;32m    352\u001b[0m \u001b[38;5;124;03m\"\"\"\u001b[39;00m\n\u001b[1;32m    354\u001b[0m \u001b[38;5;28;01mif\u001b[39;00m \u001b[38;5;28mself\u001b[39m\u001b[38;5;241m.\u001b[39mrespect_retry_after_header \u001b[38;5;129;01mand\u001b[39;00m response:\n\u001b[0;32m--> 355\u001b[0m     slept \u001b[38;5;241m=\u001b[39m \u001b[38;5;28;43mself\u001b[39;49m\u001b[38;5;241;43m.\u001b[39;49m\u001b[43msleep_for_retry\u001b[49m\u001b[43m(\u001b[49m\u001b[43mresponse\u001b[49m\u001b[43m)\u001b[49m\n\u001b[1;32m    356\u001b[0m     \u001b[38;5;28;01mif\u001b[39;00m slept:\n\u001b[1;32m    357\u001b[0m         \u001b[38;5;28;01mreturn\u001b[39;00m\n",
      "File \u001b[0;32m~/.pyenv/versions/3.10.6/envs/lewagon/lib/python3.10/site-packages/urllib3/util/retry.py:334\u001b[0m, in \u001b[0;36mRetry.sleep_for_retry\u001b[0;34m(self, response)\u001b[0m\n\u001b[1;32m    332\u001b[0m retry_after \u001b[38;5;241m=\u001b[39m \u001b[38;5;28mself\u001b[39m\u001b[38;5;241m.\u001b[39mget_retry_after(response)\n\u001b[1;32m    333\u001b[0m \u001b[38;5;28;01mif\u001b[39;00m retry_after:\n\u001b[0;32m--> 334\u001b[0m     \u001b[43mtime\u001b[49m\u001b[38;5;241;43m.\u001b[39;49m\u001b[43msleep\u001b[49m\u001b[43m(\u001b[49m\u001b[43mretry_after\u001b[49m\u001b[43m)\u001b[49m\n\u001b[1;32m    335\u001b[0m     \u001b[38;5;28;01mreturn\u001b[39;00m \u001b[38;5;28;01mTrue\u001b[39;00m\n\u001b[1;32m    337\u001b[0m \u001b[38;5;28;01mreturn\u001b[39;00m \u001b[38;5;28;01mFalse\u001b[39;00m\n",
      "\u001b[0;31mKeyboardInterrupt\u001b[0m: "
     ]
    }
   ],
   "source": [
    "track_info = sp.track('6lfxq3CG4xtTiEg7opyCyx')"
   ]
  },
  {
   "cell_type": "code",
   "execution_count": null,
   "id": "fc3ae60c",
   "metadata": {},
   "outputs": [],
   "source": [
    "track_info['external_ids']['isrc']"
   ]
  },
  {
   "cell_type": "code",
   "execution_count": 17,
   "id": "69da3f5c",
   "metadata": {},
   "outputs": [
    {
     "data": {
      "text/plain": [
       "114000"
      ]
     },
     "execution_count": 17,
     "metadata": {},
     "output_type": "execute_result"
    }
   ],
   "source": [
    "df.shape[0]"
   ]
  },
  {
   "cell_type": "code",
   "execution_count": null,
   "id": "2b64f134",
   "metadata": {},
   "outputs": [],
   "source": [
    "df_isrc = []\n",
    "chunks = 1\n",
    "chunk_size = int(df.shape[0]/100)\n",
    "start = 0\n",
    "finish = chunk_size + 1"
   ]
  },
  {
   "cell_type": "code",
   "execution_count": null,
   "id": "9703afa8",
   "metadata": {
    "collapsed": true,
    "jupyter": {
     "outputs_hidden": true
    }
   },
   "outputs": [
    {
     "ename": "KeyboardInterrupt",
     "evalue": "",
     "output_type": "error",
     "traceback": [
      "\u001b[0;31m---------------------------------------------------------------------------\u001b[0m",
      "\u001b[0;31mKeyboardInterrupt\u001b[0m                         Traceback (most recent call last)",
      "Cell \u001b[0;32mIn [35], line 4\u001b[0m\n\u001b[1;32m      1\u001b[0m \u001b[38;5;28;01mfor\u001b[39;00m chunck \u001b[38;5;129;01min\u001b[39;00m \u001b[38;5;28mrange\u001b[39m(chunks):\n\u001b[1;32m      3\u001b[0m     \u001b[38;5;28;01mfor\u001b[39;00m index \u001b[38;5;129;01min\u001b[39;00m \u001b[38;5;28mrange\u001b[39m(start,finish):\n\u001b[0;32m----> 4\u001b[0m         isrc \u001b[38;5;241m=\u001b[39m \u001b[43msp\u001b[49m\u001b[38;5;241;43m.\u001b[39;49m\u001b[43mtrack\u001b[49m\u001b[43m(\u001b[49m\u001b[43mdf\u001b[49m\u001b[38;5;241;43m.\u001b[39;49m\u001b[43miloc\u001b[49m\u001b[43m[\u001b[49m\u001b[43mindex\u001b[49m\u001b[43m]\u001b[49m\u001b[43m[\u001b[49m\u001b[38;5;124;43m'\u001b[39;49m\u001b[38;5;124;43mtrack_id\u001b[39;49m\u001b[38;5;124;43m'\u001b[39;49m\u001b[43m]\u001b[49m\u001b[43m)\u001b[49m[\u001b[38;5;124m'\u001b[39m\u001b[38;5;124mexternal_ids\u001b[39m\u001b[38;5;124m'\u001b[39m][\u001b[38;5;124m'\u001b[39m\u001b[38;5;124misrc\u001b[39m\u001b[38;5;124m'\u001b[39m]\n\u001b[1;32m      5\u001b[0m         \u001b[38;5;28mprint\u001b[39m(index)\n\u001b[1;32m      6\u001b[0m         df_isrc\u001b[38;5;241m.\u001b[39mappend(isrc)\n",
      "File \u001b[0;32m~/.pyenv/versions/3.10.6/envs/lewagon/lib/python3.10/site-packages/spotipy/client.py:375\u001b[0m, in \u001b[0;36mSpotify.track\u001b[0;34m(self, track_id, market)\u001b[0m\n\u001b[1;32m    367\u001b[0m \u001b[38;5;124;03m\"\"\" returns a single track given the track's ID, URI or URL\u001b[39;00m\n\u001b[1;32m    368\u001b[0m \n\u001b[1;32m    369\u001b[0m \u001b[38;5;124;03m    Parameters:\u001b[39;00m\n\u001b[1;32m    370\u001b[0m \u001b[38;5;124;03m        - track_id - a spotify URI, URL or ID\u001b[39;00m\n\u001b[1;32m    371\u001b[0m \u001b[38;5;124;03m        - market - an ISO 3166-1 alpha-2 country code.\u001b[39;00m\n\u001b[1;32m    372\u001b[0m \u001b[38;5;124;03m\"\"\"\u001b[39;00m\n\u001b[1;32m    374\u001b[0m trid \u001b[38;5;241m=\u001b[39m \u001b[38;5;28mself\u001b[39m\u001b[38;5;241m.\u001b[39m_get_id(\u001b[38;5;124m\"\u001b[39m\u001b[38;5;124mtrack\u001b[39m\u001b[38;5;124m\"\u001b[39m, track_id)\n\u001b[0;32m--> 375\u001b[0m \u001b[38;5;28;01mreturn\u001b[39;00m \u001b[38;5;28;43mself\u001b[39;49m\u001b[38;5;241;43m.\u001b[39;49m\u001b[43m_get\u001b[49m\u001b[43m(\u001b[49m\u001b[38;5;124;43m\"\u001b[39;49m\u001b[38;5;124;43mtracks/\u001b[39;49m\u001b[38;5;124;43m\"\u001b[39;49m\u001b[43m \u001b[49m\u001b[38;5;241;43m+\u001b[39;49m\u001b[43m \u001b[49m\u001b[43mtrid\u001b[49m\u001b[43m,\u001b[49m\u001b[43m \u001b[49m\u001b[43mmarket\u001b[49m\u001b[38;5;241;43m=\u001b[39;49m\u001b[43mmarket\u001b[49m\u001b[43m)\u001b[49m\n",
      "File \u001b[0;32m~/.pyenv/versions/3.10.6/envs/lewagon/lib/python3.10/site-packages/spotipy/client.py:327\u001b[0m, in \u001b[0;36mSpotify._get\u001b[0;34m(self, url, args, payload, **kwargs)\u001b[0m\n\u001b[1;32m    324\u001b[0m \u001b[38;5;28;01mif\u001b[39;00m args:\n\u001b[1;32m    325\u001b[0m     kwargs\u001b[38;5;241m.\u001b[39mupdate(args)\n\u001b[0;32m--> 327\u001b[0m \u001b[38;5;28;01mreturn\u001b[39;00m \u001b[38;5;28;43mself\u001b[39;49m\u001b[38;5;241;43m.\u001b[39;49m\u001b[43m_internal_call\u001b[49m\u001b[43m(\u001b[49m\u001b[38;5;124;43m\"\u001b[39;49m\u001b[38;5;124;43mGET\u001b[39;49m\u001b[38;5;124;43m\"\u001b[39;49m\u001b[43m,\u001b[49m\u001b[43m \u001b[49m\u001b[43murl\u001b[49m\u001b[43m,\u001b[49m\u001b[43m \u001b[49m\u001b[43mpayload\u001b[49m\u001b[43m,\u001b[49m\u001b[43m \u001b[49m\u001b[43mkwargs\u001b[49m\u001b[43m)\u001b[49m\n",
      "File \u001b[0;32m~/.pyenv/versions/3.10.6/envs/lewagon/lib/python3.10/site-packages/spotipy/client.py:270\u001b[0m, in \u001b[0;36mSpotify._internal_call\u001b[0;34m(self, method, url, payload, params)\u001b[0m\n\u001b[1;32m    266\u001b[0m logger\u001b[38;5;241m.\u001b[39mdebug(\u001b[38;5;124m'\u001b[39m\u001b[38;5;124mSending \u001b[39m\u001b[38;5;132;01m%s\u001b[39;00m\u001b[38;5;124m to \u001b[39m\u001b[38;5;132;01m%s\u001b[39;00m\u001b[38;5;124m with Params: \u001b[39m\u001b[38;5;132;01m%s\u001b[39;00m\u001b[38;5;124m Headers: \u001b[39m\u001b[38;5;132;01m%s\u001b[39;00m\u001b[38;5;124m and Body: \u001b[39m\u001b[38;5;132;01m%r\u001b[39;00m\u001b[38;5;124m \u001b[39m\u001b[38;5;124m'\u001b[39m,\n\u001b[1;32m    267\u001b[0m              method, url, args\u001b[38;5;241m.\u001b[39mget(\u001b[38;5;124m\"\u001b[39m\u001b[38;5;124mparams\u001b[39m\u001b[38;5;124m\"\u001b[39m), headers, args\u001b[38;5;241m.\u001b[39mget(\u001b[38;5;124m'\u001b[39m\u001b[38;5;124mdata\u001b[39m\u001b[38;5;124m'\u001b[39m))\n\u001b[1;32m    269\u001b[0m \u001b[38;5;28;01mtry\u001b[39;00m:\n\u001b[0;32m--> 270\u001b[0m     response \u001b[38;5;241m=\u001b[39m \u001b[38;5;28;43mself\u001b[39;49m\u001b[38;5;241;43m.\u001b[39;49m\u001b[43m_session\u001b[49m\u001b[38;5;241;43m.\u001b[39;49m\u001b[43mrequest\u001b[49m\u001b[43m(\u001b[49m\n\u001b[1;32m    271\u001b[0m \u001b[43m        \u001b[49m\u001b[43mmethod\u001b[49m\u001b[43m,\u001b[49m\u001b[43m \u001b[49m\u001b[43murl\u001b[49m\u001b[43m,\u001b[49m\u001b[43m \u001b[49m\u001b[43mheaders\u001b[49m\u001b[38;5;241;43m=\u001b[39;49m\u001b[43mheaders\u001b[49m\u001b[43m,\u001b[49m\u001b[43m \u001b[49m\u001b[43mproxies\u001b[49m\u001b[38;5;241;43m=\u001b[39;49m\u001b[38;5;28;43mself\u001b[39;49m\u001b[38;5;241;43m.\u001b[39;49m\u001b[43mproxies\u001b[49m\u001b[43m,\u001b[49m\n\u001b[1;32m    272\u001b[0m \u001b[43m        \u001b[49m\u001b[43mtimeout\u001b[49m\u001b[38;5;241;43m=\u001b[39;49m\u001b[38;5;28;43mself\u001b[39;49m\u001b[38;5;241;43m.\u001b[39;49m\u001b[43mrequests_timeout\u001b[49m\u001b[43m,\u001b[49m\u001b[43m \u001b[49m\u001b[38;5;241;43m*\u001b[39;49m\u001b[38;5;241;43m*\u001b[39;49m\u001b[43margs\u001b[49m\n\u001b[1;32m    273\u001b[0m \u001b[43m    \u001b[49m\u001b[43m)\u001b[49m\n\u001b[1;32m    275\u001b[0m     response\u001b[38;5;241m.\u001b[39mraise_for_status()\n\u001b[1;32m    276\u001b[0m     results \u001b[38;5;241m=\u001b[39m response\u001b[38;5;241m.\u001b[39mjson()\n",
      "File \u001b[0;32m~/.pyenv/versions/3.10.6/envs/lewagon/lib/python3.10/site-packages/requests/sessions.py:589\u001b[0m, in \u001b[0;36mSession.request\u001b[0;34m(self, method, url, params, data, headers, cookies, files, auth, timeout, allow_redirects, proxies, hooks, stream, verify, cert, json)\u001b[0m\n\u001b[1;32m    584\u001b[0m send_kwargs \u001b[38;5;241m=\u001b[39m {\n\u001b[1;32m    585\u001b[0m     \u001b[38;5;124m\"\u001b[39m\u001b[38;5;124mtimeout\u001b[39m\u001b[38;5;124m\"\u001b[39m: timeout,\n\u001b[1;32m    586\u001b[0m     \u001b[38;5;124m\"\u001b[39m\u001b[38;5;124mallow_redirects\u001b[39m\u001b[38;5;124m\"\u001b[39m: allow_redirects,\n\u001b[1;32m    587\u001b[0m }\n\u001b[1;32m    588\u001b[0m send_kwargs\u001b[38;5;241m.\u001b[39mupdate(settings)\n\u001b[0;32m--> 589\u001b[0m resp \u001b[38;5;241m=\u001b[39m \u001b[38;5;28;43mself\u001b[39;49m\u001b[38;5;241;43m.\u001b[39;49m\u001b[43msend\u001b[49m\u001b[43m(\u001b[49m\u001b[43mprep\u001b[49m\u001b[43m,\u001b[49m\u001b[43m \u001b[49m\u001b[38;5;241;43m*\u001b[39;49m\u001b[38;5;241;43m*\u001b[39;49m\u001b[43msend_kwargs\u001b[49m\u001b[43m)\u001b[49m\n\u001b[1;32m    591\u001b[0m \u001b[38;5;28;01mreturn\u001b[39;00m resp\n",
      "File \u001b[0;32m~/.pyenv/versions/3.10.6/envs/lewagon/lib/python3.10/site-packages/requests/sessions.py:703\u001b[0m, in \u001b[0;36mSession.send\u001b[0;34m(self, request, **kwargs)\u001b[0m\n\u001b[1;32m    700\u001b[0m start \u001b[38;5;241m=\u001b[39m preferred_clock()\n\u001b[1;32m    702\u001b[0m \u001b[38;5;66;03m# Send the request\u001b[39;00m\n\u001b[0;32m--> 703\u001b[0m r \u001b[38;5;241m=\u001b[39m \u001b[43madapter\u001b[49m\u001b[38;5;241;43m.\u001b[39;49m\u001b[43msend\u001b[49m\u001b[43m(\u001b[49m\u001b[43mrequest\u001b[49m\u001b[43m,\u001b[49m\u001b[43m \u001b[49m\u001b[38;5;241;43m*\u001b[39;49m\u001b[38;5;241;43m*\u001b[39;49m\u001b[43mkwargs\u001b[49m\u001b[43m)\u001b[49m\n\u001b[1;32m    705\u001b[0m \u001b[38;5;66;03m# Total elapsed time of the request (approximately)\u001b[39;00m\n\u001b[1;32m    706\u001b[0m elapsed \u001b[38;5;241m=\u001b[39m preferred_clock() \u001b[38;5;241m-\u001b[39m start\n",
      "File \u001b[0;32m~/.pyenv/versions/3.10.6/envs/lewagon/lib/python3.10/site-packages/requests/adapters.py:486\u001b[0m, in \u001b[0;36mHTTPAdapter.send\u001b[0;34m(self, request, stream, timeout, verify, cert, proxies)\u001b[0m\n\u001b[1;32m    483\u001b[0m     timeout \u001b[38;5;241m=\u001b[39m TimeoutSauce(connect\u001b[38;5;241m=\u001b[39mtimeout, read\u001b[38;5;241m=\u001b[39mtimeout)\n\u001b[1;32m    485\u001b[0m \u001b[38;5;28;01mtry\u001b[39;00m:\n\u001b[0;32m--> 486\u001b[0m     resp \u001b[38;5;241m=\u001b[39m \u001b[43mconn\u001b[49m\u001b[38;5;241;43m.\u001b[39;49m\u001b[43murlopen\u001b[49m\u001b[43m(\u001b[49m\n\u001b[1;32m    487\u001b[0m \u001b[43m        \u001b[49m\u001b[43mmethod\u001b[49m\u001b[38;5;241;43m=\u001b[39;49m\u001b[43mrequest\u001b[49m\u001b[38;5;241;43m.\u001b[39;49m\u001b[43mmethod\u001b[49m\u001b[43m,\u001b[49m\n\u001b[1;32m    488\u001b[0m \u001b[43m        \u001b[49m\u001b[43murl\u001b[49m\u001b[38;5;241;43m=\u001b[39;49m\u001b[43murl\u001b[49m\u001b[43m,\u001b[49m\n\u001b[1;32m    489\u001b[0m \u001b[43m        \u001b[49m\u001b[43mbody\u001b[49m\u001b[38;5;241;43m=\u001b[39;49m\u001b[43mrequest\u001b[49m\u001b[38;5;241;43m.\u001b[39;49m\u001b[43mbody\u001b[49m\u001b[43m,\u001b[49m\n\u001b[1;32m    490\u001b[0m \u001b[43m        \u001b[49m\u001b[43mheaders\u001b[49m\u001b[38;5;241;43m=\u001b[39;49m\u001b[43mrequest\u001b[49m\u001b[38;5;241;43m.\u001b[39;49m\u001b[43mheaders\u001b[49m\u001b[43m,\u001b[49m\n\u001b[1;32m    491\u001b[0m \u001b[43m        \u001b[49m\u001b[43mredirect\u001b[49m\u001b[38;5;241;43m=\u001b[39;49m\u001b[38;5;28;43;01mFalse\u001b[39;49;00m\u001b[43m,\u001b[49m\n\u001b[1;32m    492\u001b[0m \u001b[43m        \u001b[49m\u001b[43massert_same_host\u001b[49m\u001b[38;5;241;43m=\u001b[39;49m\u001b[38;5;28;43;01mFalse\u001b[39;49;00m\u001b[43m,\u001b[49m\n\u001b[1;32m    493\u001b[0m \u001b[43m        \u001b[49m\u001b[43mpreload_content\u001b[49m\u001b[38;5;241;43m=\u001b[39;49m\u001b[38;5;28;43;01mFalse\u001b[39;49;00m\u001b[43m,\u001b[49m\n\u001b[1;32m    494\u001b[0m \u001b[43m        \u001b[49m\u001b[43mdecode_content\u001b[49m\u001b[38;5;241;43m=\u001b[39;49m\u001b[38;5;28;43;01mFalse\u001b[39;49;00m\u001b[43m,\u001b[49m\n\u001b[1;32m    495\u001b[0m \u001b[43m        \u001b[49m\u001b[43mretries\u001b[49m\u001b[38;5;241;43m=\u001b[39;49m\u001b[38;5;28;43mself\u001b[39;49m\u001b[38;5;241;43m.\u001b[39;49m\u001b[43mmax_retries\u001b[49m\u001b[43m,\u001b[49m\n\u001b[1;32m    496\u001b[0m \u001b[43m        \u001b[49m\u001b[43mtimeout\u001b[49m\u001b[38;5;241;43m=\u001b[39;49m\u001b[43mtimeout\u001b[49m\u001b[43m,\u001b[49m\n\u001b[1;32m    497\u001b[0m \u001b[43m        \u001b[49m\u001b[43mchunked\u001b[49m\u001b[38;5;241;43m=\u001b[39;49m\u001b[43mchunked\u001b[49m\u001b[43m,\u001b[49m\n\u001b[1;32m    498\u001b[0m \u001b[43m    \u001b[49m\u001b[43m)\u001b[49m\n\u001b[1;32m    500\u001b[0m \u001b[38;5;28;01mexcept\u001b[39;00m (ProtocolError, \u001b[38;5;167;01mOSError\u001b[39;00m) \u001b[38;5;28;01mas\u001b[39;00m err:\n\u001b[1;32m    501\u001b[0m     \u001b[38;5;28;01mraise\u001b[39;00m \u001b[38;5;167;01mConnectionError\u001b[39;00m(err, request\u001b[38;5;241m=\u001b[39mrequest)\n",
      "File \u001b[0;32m~/.pyenv/versions/3.10.6/envs/lewagon/lib/python3.10/site-packages/urllib3/connectionpool.py:944\u001b[0m, in \u001b[0;36mHTTPConnectionPool.urlopen\u001b[0;34m(self, method, url, body, headers, retries, redirect, assert_same_host, timeout, pool_timeout, release_conn, chunked, body_pos, preload_content, decode_content, **response_kw)\u001b[0m\n\u001b[1;32m    941\u001b[0m     \u001b[38;5;28;01mreturn\u001b[39;00m response\n\u001b[1;32m    943\u001b[0m response\u001b[38;5;241m.\u001b[39mdrain_conn()\n\u001b[0;32m--> 944\u001b[0m \u001b[43mretries\u001b[49m\u001b[38;5;241;43m.\u001b[39;49m\u001b[43msleep\u001b[49m\u001b[43m(\u001b[49m\u001b[43mresponse\u001b[49m\u001b[43m)\u001b[49m\n\u001b[1;32m    945\u001b[0m log\u001b[38;5;241m.\u001b[39mdebug(\u001b[38;5;124m\"\u001b[39m\u001b[38;5;124mRetry: \u001b[39m\u001b[38;5;132;01m%s\u001b[39;00m\u001b[38;5;124m\"\u001b[39m, url)\n\u001b[1;32m    946\u001b[0m \u001b[38;5;28;01mreturn\u001b[39;00m \u001b[38;5;28mself\u001b[39m\u001b[38;5;241m.\u001b[39murlopen(\n\u001b[1;32m    947\u001b[0m     method,\n\u001b[1;32m    948\u001b[0m     url,\n\u001b[0;32m   (...)\u001b[0m\n\u001b[1;32m    961\u001b[0m     \u001b[38;5;241m*\u001b[39m\u001b[38;5;241m*\u001b[39mresponse_kw,\n\u001b[1;32m    962\u001b[0m )\n",
      "File \u001b[0;32m~/.pyenv/versions/3.10.6/envs/lewagon/lib/python3.10/site-packages/urllib3/util/retry.py:355\u001b[0m, in \u001b[0;36mRetry.sleep\u001b[0;34m(self, response)\u001b[0m\n\u001b[1;32m    346\u001b[0m \u001b[38;5;124;03m\"\"\"Sleep between retry attempts.\u001b[39;00m\n\u001b[1;32m    347\u001b[0m \n\u001b[1;32m    348\u001b[0m \u001b[38;5;124;03mThis method will respect a server's ``Retry-After`` response header\u001b[39;00m\n\u001b[0;32m   (...)\u001b[0m\n\u001b[1;32m    351\u001b[0m \u001b[38;5;124;03mthis method will return immediately.\u001b[39;00m\n\u001b[1;32m    352\u001b[0m \u001b[38;5;124;03m\"\"\"\u001b[39;00m\n\u001b[1;32m    354\u001b[0m \u001b[38;5;28;01mif\u001b[39;00m \u001b[38;5;28mself\u001b[39m\u001b[38;5;241m.\u001b[39mrespect_retry_after_header \u001b[38;5;129;01mand\u001b[39;00m response:\n\u001b[0;32m--> 355\u001b[0m     slept \u001b[38;5;241m=\u001b[39m \u001b[38;5;28;43mself\u001b[39;49m\u001b[38;5;241;43m.\u001b[39;49m\u001b[43msleep_for_retry\u001b[49m\u001b[43m(\u001b[49m\u001b[43mresponse\u001b[49m\u001b[43m)\u001b[49m\n\u001b[1;32m    356\u001b[0m     \u001b[38;5;28;01mif\u001b[39;00m slept:\n\u001b[1;32m    357\u001b[0m         \u001b[38;5;28;01mreturn\u001b[39;00m\n",
      "File \u001b[0;32m~/.pyenv/versions/3.10.6/envs/lewagon/lib/python3.10/site-packages/urllib3/util/retry.py:334\u001b[0m, in \u001b[0;36mRetry.sleep_for_retry\u001b[0;34m(self, response)\u001b[0m\n\u001b[1;32m    332\u001b[0m retry_after \u001b[38;5;241m=\u001b[39m \u001b[38;5;28mself\u001b[39m\u001b[38;5;241m.\u001b[39mget_retry_after(response)\n\u001b[1;32m    333\u001b[0m \u001b[38;5;28;01mif\u001b[39;00m retry_after:\n\u001b[0;32m--> 334\u001b[0m     \u001b[43mtime\u001b[49m\u001b[38;5;241;43m.\u001b[39;49m\u001b[43msleep\u001b[49m\u001b[43m(\u001b[49m\u001b[43mretry_after\u001b[49m\u001b[43m)\u001b[49m\n\u001b[1;32m    335\u001b[0m     \u001b[38;5;28;01mreturn\u001b[39;00m \u001b[38;5;28;01mTrue\u001b[39;00m\n\u001b[1;32m    337\u001b[0m \u001b[38;5;28;01mreturn\u001b[39;00m \u001b[38;5;28;01mFalse\u001b[39;00m\n",
      "\u001b[0;31mKeyboardInterrupt\u001b[0m: "
     ]
    }
   ],
   "source": [
    "for chunck in range(chunks):\n",
    "\n",
    "    for index in range(start,finish):\n",
    "        print('...')\n",
    "        isrc = sp.track(df.iloc[index]['track_id'])['external_ids']['isrc']\n",
    "        print(f'isrc {index} found.')\n",
    "        df_isrc.append(isrc)\n",
    "\n",
    "    start = start + chunk_size\n",
    "    finish = finish + chunk_size"
   ]
  },
  {
   "cell_type": "code",
   "execution_count": null,
   "id": "c5eb6ce0",
   "metadata": {},
   "outputs": [],
   "source": [
    "isrc = pd.Series(df_isrc)"
   ]
  },
  {
   "cell_type": "code",
   "execution_count": 32,
   "id": "c976d36c",
   "metadata": {
    "collapsed": true,
    "jupyter": {
     "outputs_hidden": true
    }
   },
   "outputs": [
    {
     "data": {
      "text/plain": [
       "['JPVI02200563',\n",
       " 'QZHN32101189',\n",
       " 'USVT34000002',\n",
       " 'USNLR1800566',\n",
       " 'USUM71615568',\n",
       " 'TCADP1800198',\n",
       " 'USSM11306713',\n",
       " 'USEE10800667',\n",
       " 'USEE10800806',\n",
       " 'TCACF1515677',\n",
       " 'PHUM72100313',\n",
       " 'USEE11100768',\n",
       " 'SE5IB1800630',\n",
       " 'QZES81884962',\n",
       " 'USUM71704507',\n",
       " 'USRC10900386',\n",
       " 'QM24S2006594',\n",
       " 'QM24S2011689',\n",
       " 'USEE10800806',\n",
       " 'USM951500007',\n",
       " 'USEE10800667',\n",
       " 'USM951400001',\n",
       " 'USSM11306713',\n",
       " 'USEE11200150',\n",
       " 'USAT21802784',\n",
       " 'USEE10500841',\n",
       " 'USEE10801739',\n",
       " 'USEE10800814',\n",
       " 'USEE10801739',\n",
       " 'USEE10801739',\n",
       " 'USEE10801739',\n",
       " 'USEE10801739',\n",
       " 'USUM71615938',\n",
       " 'USAT21811525',\n",
       " 'USAT21811525',\n",
       " 'USAT21811525',\n",
       " 'GBGLM0700092',\n",
       " 'USAT22102164',\n",
       " 'USAT22102157',\n",
       " 'GBGLM0700092',\n",
       " 'USUG12104377',\n",
       " 'USAT22102161',\n",
       " 'USAT22102156',\n",
       " 'USAT22102156',\n",
       " 'USAT22102767',\n",
       " 'USAT22102156',\n",
       " 'USAT22102156',\n",
       " 'USAT22102156',\n",
       " 'USAT22102156',\n",
       " 'USAT22102156',\n",
       " 'SE5IB1901528',\n",
       " 'JPBV01021331',\n",
       " 'US8D61300002',\n",
       " 'USTC50842502',\n",
       " 'UK42F1700157',\n",
       " 'US8D61300008',\n",
       " 'USKX21500005',\n",
       " 'QZS7J2236602',\n",
       " 'USSM10700068',\n",
       " 'CA5KR2167587',\n",
       " 'PHUM72100441',\n",
       " 'US8D61200007',\n",
       " 'USUM71514609',\n",
       " 'USM951300017',\n",
       " 'UK6KW1700334',\n",
       " 'TCACQ1664668',\n",
       " 'QM2PV1545778',\n",
       " 'USSM11507244',\n",
       " 'US-8D6-10-00002',\n",
       " 'GBDMT1600303',\n",
       " 'TCAAW1127302',\n",
       " 'USSM10102739',\n",
       " 'TCADC1739039',\n",
       " 'UK6KW1800107',\n",
       " 'USVT31500001',\n",
       " 'USEE11200150',\n",
       " 'USSM11508393',\n",
       " 'USSM10203733',\n",
       " 'QMP2J1300009',\n",
       " 'USAT21801510',\n",
       " 'GBAYE1500581',\n",
       " 'GBAYE1500621',\n",
       " 'USJY51700107',\n",
       " 'GBAYE1201982',\n",
       " 'GBAYE1201982',\n",
       " 'USJY51700110',\n",
       " 'USSM11301638',\n",
       " 'GBGLM0700092',\n",
       " 'GBGLM0700092',\n",
       " 'USWU31300080',\n",
       " 'USHC41200296',\n",
       " 'USHC41200296',\n",
       " 'GBGLM0700090',\n",
       " 'USHC41200296',\n",
       " 'USHC41200296',\n",
       " 'USHC41200296',\n",
       " 'USHC41200296',\n",
       " 'USHC41200296',\n",
       " 'GBGLM0700045',\n",
       " 'GBGLM0400069',\n",
       " 'JPBV01320502',\n",
       " 'UK42F2000098',\n",
       " 'US8D61400011',\n",
       " 'USM951300011',\n",
       " 'USM952100002',\n",
       " 'GB23W1900032',\n",
       " 'JPPC01601811',\n",
       " 'UK42F1800316',\n",
       " 'JPCO02117110',\n",
       " 'SE5VF1900268',\n",
       " 'USM951900014',\n",
       " 'TCADW1811799',\n",
       " 'TCADZ1885161',\n",
       " 'USSM10501403',\n",
       " 'TCACL1614930',\n",
       " 'USM951700013',\n",
       " 'QM24S2004756',\n",
       " 'QZCE61897997',\n",
       " 'USEE11100768',\n",
       " 'QZQXU2100014',\n",
       " 'GBMNA2003628',\n",
       " 'GBMPS0600002',\n",
       " 'CAN111200089',\n",
       " 'TCAAX1193405',\n",
       " 'QMAHL2000015',\n",
       " 'TCACX1766768',\n",
       " 'USSM10413799',\n",
       " 'QZCPW1800039',\n",
       " 'USVG20701509',\n",
       " 'KRB461800253',\n",
       " 'USUM71100714',\n",
       " 'USC4R1500963',\n",
       " 'USEE10240654',\n",
       " 'USEE10240652',\n",
       " 'USEE10240647',\n",
       " 'USJY51700104',\n",
       " 'GBAYE1201982',\n",
       " 'GBGLM0400069',\n",
       " 'USEE10240650',\n",
       " 'USEE10240656',\n",
       " 'USEE10240648',\n",
       " 'TCADU1835257',\n",
       " 'USEE10240649',\n",
       " 'USEE10240653',\n",
       " 'USEE10240657',\n",
       " 'USEE10240655',\n",
       " 'USEE10240651',\n",
       " 'USEE10300059',\n",
       " 'USEE10240658',\n",
       " 'USJY51700106',\n",
       " 'USQY51471517',\n",
       " 'GBDMT1300926',\n",
       " 'USSM10310894',\n",
       " 'FRR642200748',\n",
       " 'JPCO02117120',\n",
       " 'USM952200022',\n",
       " 'QM24S2003449',\n",
       " 'USSM10312427',\n",
       " 'TCAFQ2135960',\n",
       " 'KRA491900352',\n",
       " 'US8AK0900006',\n",
       " 'SE5IB2263105',\n",
       " 'USEE10800667',\n",
       " 'US8LZ2200007',\n",
       " 'USSM11306713',\n",
       " 'QZFCW1800003',\n",
       " 'PHUM72200238',\n",
       " 'SE5IB2000111',\n",
       " 'SE5IB2237665',\n",
       " 'USSM10700066',\n",
       " 'QM24S2102511',\n",
       " 'GBDVX0300140',\n",
       " 'GBDMT2000340',\n",
       " 'AUMEV2277388',\n",
       " 'USB9D1600001',\n",
       " 'USM951900009',\n",
       " 'USSM10607485',\n",
       " 'TCADQ1841984',\n",
       " 'GBDMT1700143',\n",
       " 'SE5IB1600544',\n",
       " 'PHV031610089',\n",
       " 'USM951500008',\n",
       " 'USAT21802782',\n",
       " 'KRB461800255',\n",
       " 'USUM71103591',\n",
       " 'JPI801400101',\n",
       " 'USUM71704562',\n",
       " 'QMAHL2100029',\n",
       " 'CAN111800080',\n",
       " 'USCGH1582144',\n",
       " 'usx9p1176887',\n",
       " 'CAN111400315',\n",
       " 'PHU011815683',\n",
       " 'TCACK1580376',\n",
       " 'USSM11304828',\n",
       " 'USJY51700103',\n",
       " 'CAN110501047',\n",
       " 'USAT20107974',\n",
       " 'USRY20514770',\n",
       " 'USC4R1907066',\n",
       " 'JPU901400745',\n",
       " 'SE5IB1900927',\n",
       " 'JPPO09612050',\n",
       " 'GBDMT1700172',\n",
       " 'QZNJW2125266',\n",
       " 'JPTF01318201',\n",
       " 'GBCRL1900002',\n",
       " 'PHUM72100068',\n",
       " 'USKX21500008',\n",
       " 'USM951500002',\n",
       " 'TCADB1798972',\n",
       " 'USW5Q1100005',\n",
       " 'USSM10310894',\n",
       " 'USHM80865849',\n",
       " 'PHUM72200013',\n",
       " 'USRC10700891',\n",
       " 'USSM10412997',\n",
       " 'PHUM72100295',\n",
       " 'QZ22B1821663',\n",
       " 'QZDA71890396',\n",
       " 'TCAFQ2136758',\n",
       " 'QZ22B1960962',\n",
       " 'PHUM72000034',\n",
       " 'USUM71505454',\n",
       " 'QM24S2101957',\n",
       " 'GBDMT1900207',\n",
       " 'USSM11304828',\n",
       " 'PHUM72100305',\n",
       " 'CAX1M1910007',\n",
       " 'USRC10600336',\n",
       " 'QM4DW1505881',\n",
       " 'UK6KW1800075',\n",
       " 'TCACI1505011',\n",
       " 'TCADP1817529',\n",
       " 'USRC10401021',\n",
       " 'GBKPL1674630',\n",
       " 'USM951200010',\n",
       " 'CAN111600060',\n",
       " 'QMP2J1500031',\n",
       " 'USRC11800249',\n",
       " 'USBN20400573',\n",
       " 'USM951900011',\n",
       " 'USAT21802783',\n",
       " 'USFW41912901',\n",
       " 'USSM11302726',\n",
       " 'USZXY1001323',\n",
       " 'USRZR1011606',\n",
       " 'TCABH1285230',\n",
       " 'USFI88200021',\n",
       " 'USFI88200021',\n",
       " 'UK42F2100120',\n",
       " 'UK42F1900281',\n",
       " 'UK42F1900051',\n",
       " 'JPBV01320504',\n",
       " 'JPVI01818611',\n",
       " 'QZ22B2027505',\n",
       " 'JPTF01218801',\n",
       " 'USM951900010',\n",
       " 'PHUM72200102',\n",
       " 'USM951300009',\n",
       " 'SE5IB2105248',\n",
       " 'USEE11400514',\n",
       " 'UK42F2100200',\n",
       " 'CAN112000248',\n",
       " 'USVI20700644',\n",
       " 'SE5IB1901440',\n",
       " 'QZFCW1800002',\n",
       " 'QZFZ61967518',\n",
       " 'SE5IB2105734',\n",
       " 'QZHN31914325',\n",
       " 'QM24S2100594',\n",
       " 'USM952000002',\n",
       " 'QM24S2101539',\n",
       " 'TCADG1751119',\n",
       " 'SE5IB1702351',\n",
       " 'QMYAG1200004',\n",
       " 'CAN111900355',\n",
       " 'USUM71025719',\n",
       " 'USDMG1677713',\n",
       " 'GBDMT1700105',\n",
       " 'USRZR1566301',\n",
       " 'QM24S1926468',\n",
       " 'UK42F1900062',\n",
       " 'QZFYY2065401',\n",
       " 'QM24S2010457',\n",
       " 'CAN111700344',\n",
       " 'USUM70964234',\n",
       " 'TCADN1834279',\n",
       " 'PHUM71100205',\n",
       " 'JPVI02001227',\n",
       " 'QMFMF1341601',\n",
       " 'QMEMQ1500031',\n",
       " 'CAN110501046',\n",
       " 'QMEMQ1500041',\n",
       " 'DELJ82085378',\n",
       " 'USRC10401027',\n",
       " 'USJY51700101',\n",
       " 'QZED31800002',\n",
       " 'USDHM1401011',\n",
       " 'USRC10600338',\n",
       " 'UK42F2000241',\n",
       " 'KRA491900423',\n",
       " 'UK42F2000256',\n",
       " 'UK42F1700168',\n",
       " 'USM951600020',\n",
       " 'SE5IB1702190',\n",
       " 'USKX21800007',\n",
       " 'SEMBA0300209',\n",
       " 'GBDMT1800332',\n",
       " 'UK42F2000398',\n",
       " 'UK42F1700166',\n",
       " 'JPCO02117110',\n",
       " 'TCAEG1994982',\n",
       " 'QZDA51823731',\n",
       " 'USVG20802037',\n",
       " 'QM24S2107028',\n",
       " 'QZES61980699',\n",
       " 'TCADB1798969',\n",
       " 'USUM71017930',\n",
       " 'USM951800021',\n",
       " 'PHUM72100308',\n",
       " 'JPPO01086270',\n",
       " 'PHUM72100197',\n",
       " 'GBLZQ1400001',\n",
       " 'USWB10003083',\n",
       " 'USUM71703463',\n",
       " 'USQX91301052',\n",
       " 'JPBV01021875',\n",
       " 'PHUM72200135',\n",
       " 'PHUM72100068',\n",
       " 'SE5IB1700945',\n",
       " 'USSM11304828',\n",
       " 'USKFE1620006',\n",
       " 'IEACJ0400170',\n",
       " 'US8D60900010',\n",
       " 'USBN20800047',\n",
       " 'QMAHL1800016',\n",
       " 'JPI801400111',\n",
       " 'CAN111700342',\n",
       " 'TCACY1762117',\n",
       " 'JPVI01901499',\n",
       " 'GBWWP1400211',\n",
       " 'USDMG0624001',\n",
       " 'CAAMC1600001',\n",
       " 'USWU31300038',\n",
       " 'ushm21799517',\n",
       " 'GBUM71300331',\n",
       " 'USUM71115667',\n",
       " 'USUM71115667',\n",
       " 'USUM71115667',\n",
       " 'UK42F2100614',\n",
       " 'GB5KW1401239',\n",
       " 'QM24S2105068',\n",
       " 'JPVI01625630',\n",
       " 'QZNWU2060023',\n",
       " 'USC4R1100576',\n",
       " 'TCADI1771919',\n",
       " 'QMRSZ2000746',\n",
       " 'SE5IB1701825',\n",
       " 'SE5IB1801129',\n",
       " 'KRA491900396',\n",
       " 'USUM71516771',\n",
       " 'UK42F1800256',\n",
       " 'US43C0900004',\n",
       " 'AUMEV2166187',\n",
       " 'JPSR09603660',\n",
       " 'UK42F2000095',\n",
       " 'USVG20802035',\n",
       " 'JPPO00946420',\n",
       " 'UK42F1700120',\n",
       " 'QZB4J1895890',\n",
       " 'TCABC1173267',\n",
       " 'USUM70748303',\n",
       " 'USM951900020',\n",
       " 'CAN111400140',\n",
       " 'JPPO00849450',\n",
       " 'USM951500004',\n",
       " 'TCAED1905600',\n",
       " 'TCACA1490904',\n",
       " 'JPBV09800358',\n",
       " 'QMAHL1800019',\n",
       " 'USCGH0941497',\n",
       " 'PHU012015926',\n",
       " 'USHM80865845',\n",
       " 'USM951100010',\n",
       " 'USM951100003',\n",
       " 'US8D60900001',\n",
       " 'JPBV09500056',\n",
       " 'JPVI01306080',\n",
       " 'USSM11307643',\n",
       " 'JPTO00201742',\n",
       " 'JPBV01021881',\n",
       " 'JPMV00304470',\n",
       " 'USSM11306711',\n",
       " 'QZES72047440',\n",
       " 'USWD12096038',\n",
       " 'US2B21510062',\n",
       " 'GBUM71902448',\n",
       " 'USFW42012510',\n",
       " 'USFW42012504',\n",
       " 'UK42F2100110',\n",
       " 'GBNHB0600010',\n",
       " 'TCJPN2174507',\n",
       " 'SE5IB1701452',\n",
       " 'USM951300012',\n",
       " 'UK42F2100074',\n",
       " 'JPVI01820201',\n",
       " 'GBKPL1669307',\n",
       " 'QZMEM2077882',\n",
       " 'USM952100006',\n",
       " 'UK42F1800374',\n",
       " 'QZK6P1933300',\n",
       " 'USM951600014',\n",
       " 'UK42F1800329',\n",
       " 'UK42F2200115',\n",
       " 'CAN112000294',\n",
       " 'CA5KR2150148',\n",
       " 'SE5IB2107957',\n",
       " 'JPWP81800369',\n",
       " 'KRA351101632',\n",
       " 'US4DG2200345',\n",
       " 'USUM71405855',\n",
       " 'QMEMQ1300005',\n",
       " 'USUM70964177',\n",
       " 'US88B1000257',\n",
       " 'CAN111900144',\n",
       " 'USM952100007',\n",
       " 'GBAYE1202438',\n",
       " 'CA07W1500009',\n",
       " 'JPBV09311110',\n",
       " 'USE831539671',\n",
       " 'QMRSZ1902674',\n",
       " 'USWB10303073',\n",
       " 'USTC50840222',\n",
       " 'FRX201814126',\n",
       " 'JPBV09501523',\n",
       " 'UK42F1500096',\n",
       " 'SE5IB1800677',\n",
       " 'TCACK1580387',\n",
       " 'USJY51700111',\n",
       " 'USFI86201315',\n",
       " 'USRC20400082',\n",
       " 'USFW42013708',\n",
       " 'QZED31800005',\n",
       " 'USRC10800485',\n",
       " 'QMDA61525900',\n",
       " 'USDHM1709883',\n",
       " 'QZHN62127248',\n",
       " 'USUM70840422',\n",
       " 'TCABH1285229',\n",
       " 'SE5IB1901681',\n",
       " 'TCJPK1920107',\n",
       " 'JPVI01901348',\n",
       " 'QZDA42160291',\n",
       " 'QZFCW1800006',\n",
       " 'USUR10300539',\n",
       " 'US7SF1556093',\n",
       " 'SE5IB1701561',\n",
       " 'USWB10806000',\n",
       " 'QZDA82113301',\n",
       " 'SE5IB2101933',\n",
       " 'GBAYE1202443',\n",
       " 'PHUM72100313',\n",
       " 'SE5IB2163901',\n",
       " 'GB83E2020002',\n",
       " 'CAN111600477',\n",
       " 'TCADA1786973',\n",
       " 'QM24S2101190',\n",
       " 'USUM71514597',\n",
       " 'QZ2Q81600010',\n",
       " 'JPVI01116330',\n",
       " 'GB23W2200017',\n",
       " 'TCACB1456435',\n",
       " 'GB23W1800023',\n",
       " 'USUM71405833',\n",
       " 'TCAFT2113390',\n",
       " 'USC4R1500967',\n",
       " 'USM951600026',\n",
       " 'USDW10300215',\n",
       " 'TCACY1786441',\n",
       " 'USW5Q1100014',\n",
       " 'USJY51700113',\n",
       " 'PHU011615459',\n",
       " 'PHU011615455',\n",
       " 'USMC15646854',\n",
       " 'TCACK1580381',\n",
       " 'USSV10300091',\n",
       " 'USAP30953717',\n",
       " 'GBAAP0000838',\n",
       " 'USDHM1413358',\n",
       " 'PHP172000079',\n",
       " 'USFW42013707',\n",
       " 'usdy41923093',\n",
       " 'USFW42013709',\n",
       " 'QZHN62127249',\n",
       " 'TCAFY2169947',\n",
       " 'GBUM72105809',\n",
       " 'QZHN42195367',\n",
       " 'USAT22102156',\n",
       " 'USFW42012505',\n",
       " 'UK42F2000083',\n",
       " 'QZ5FN2288930',\n",
       " 'QZNWZ2291211',\n",
       " 'SE5IB1801130',\n",
       " 'USKX21900005',\n",
       " 'SE5IB1900151',\n",
       " 'PHUM72200230',\n",
       " 'QZHNB2136999',\n",
       " 'USVG20802041',\n",
       " 'UKHAU1900011',\n",
       " 'USM951200027',\n",
       " 'PHUM72100295',\n",
       " 'GB23W1900042',\n",
       " 'TCACA1492581',\n",
       " 'TCADT1800026',\n",
       " 'JPPO00707090',\n",
       " 'JPPO00633780',\n",
       " 'SE5IB2276865',\n",
       " 'TCACQ1664663',\n",
       " 'UK42F2200131',\n",
       " 'USUM71514619',\n",
       " 'JPPO00946440',\n",
       " 'QZHNB2050778',\n",
       " 'SE5IB1701956',\n",
       " 'GBAYE1202437',\n",
       " 'CAN112000514',\n",
       " 'JPPO01333172',\n",
       " 'ushm91751556',\n",
       " 'USEE10240649',\n",
       " 'QMAAK1814205',\n",
       " 'PHV032111419',\n",
       " 'USRC20400018',\n",
       " 'QZNWZ2159178',\n",
       " 'GBDMT1600290',\n",
       " 'QZE991900003',\n",
       " 'USMC16312115',\n",
       " 'GBMNA2100375',\n",
       " 'USRC10800268',\n",
       " 'PHU011212328',\n",
       " 'USM951200001',\n",
       " 'PHU011615466',\n",
       " 'TCADA1773389',\n",
       " 'JPVI01814010',\n",
       " 'USDHM1401004',\n",
       " 'USA6G1454509',\n",
       " 'NLRD51953679',\n",
       " 'USSM11200697',\n",
       " 'QZHN62127250',\n",
       " 'QMPKX1764648',\n",
       " 'USFW42012502',\n",
       " 'UK42F2100632',\n",
       " 'USSM11803373',\n",
       " 'TCAFQ2135679',\n",
       " 'GBCTA0900188',\n",
       " 'SE5IB2000508',\n",
       " 'TCADO1810109',\n",
       " 'JPPO09612051',\n",
       " 'SE5IB2001789',\n",
       " 'GB23W2100073',\n",
       " 'QM24S1919278',\n",
       " 'SEMBA0300205',\n",
       " 'QZ22S1700052',\n",
       " 'SE5IB1800632',\n",
       " 'JPPO01503863',\n",
       " 'USM951700005',\n",
       " 'USUM71514612',\n",
       " 'QMFMF1433475',\n",
       " 'SE5IB1600542',\n",
       " 'QM24S2006593',\n",
       " 'USUM71110029',\n",
       " 'USSM10601285',\n",
       " 'JPVI02001129',\n",
       " 'QMAHL2000001',\n",
       " 'JPPO01704683',\n",
       " 'TCACQ1664665',\n",
       " 'USRC11802205',\n",
       " 'USE831549557',\n",
       " 'GB23W2200022',\n",
       " 'GB23W2200011',\n",
       " 'PHU011615458',\n",
       " 'USM952200021',\n",
       " 'USCA21201517',\n",
       " 'USVG20701519',\n",
       " 'CAN111900409',\n",
       " 'JPBV09311100',\n",
       " 'JPPO00754490',\n",
       " 'JPPO01086260',\n",
       " 'PHP171800039',\n",
       " 'USVG21403575',\n",
       " 'PHS112200122',\n",
       " 'CAN110701902',\n",
       " 'JPVI01306150',\n",
       " 'USFW41912902',\n",
       " 'USWB10800445',\n",
       " 'QM4DW1601640',\n",
       " 'FR6V82352728',\n",
       " 'ushm21799520',\n",
       " 'USFW41912911',\n",
       " 'USDHM1709891',\n",
       " 'USFW42012508',\n",
       " 'QM24S2106624',\n",
       " 'FRR642200703',\n",
       " 'UK42F1900260',\n",
       " 'UK42F1800181',\n",
       " 'SE5IB2000507',\n",
       " 'QZ5FN2069659',\n",
       " 'USVG21403526',\n",
       " 'QM24S2106717',\n",
       " 'UK42F1900222',\n",
       " 'usdy41749323',\n",
       " 'CAN111400284',\n",
       " 'SE5IB1701050',\n",
       " 'SE5IB1800519',\n",
       " 'PHUM72100310',\n",
       " 'USARL7871304',\n",
       " 'USRZR1568504',\n",
       " 'GBKPL1950838',\n",
       " 'JPMV00002170',\n",
       " 'USAT21801510',\n",
       " 'SEMBA0300206',\n",
       " 'USUM70614376',\n",
       " 'USSM11001702',\n",
       " 'USRC10401029',\n",
       " 'USM951900023',\n",
       " 'USUM70849636',\n",
       " 'PHW011900105',\n",
       " 'QZ22B1946400',\n",
       " 'JPPO01803669',\n",
       " 'USUM70957061',\n",
       " 'UK42F2200002',\n",
       " 'JPTO00301833',\n",
       " 'QMAHL2100040',\n",
       " 'TCADU1835256',\n",
       " 'QMEMQ1300010',\n",
       " 'QMAHL2200073',\n",
       " 'JPVI01640630',\n",
       " 'JPTO00201714',\n",
       " 'USAT21704692',\n",
       " 'USJY51700105',\n",
       " 'NLRD51953732',\n",
       " 'TCAEJ1940240',\n",
       " 'TCAGJ2254833',\n",
       " 'USC4R1901031',\n",
       " 'CAN110501052',\n",
       " 'DEZ651302929',\n",
       " 'USDHM1401009',\n",
       " 'NLRD51953681',\n",
       " 'ushm21799522',\n",
       " 'USDHM1822497',\n",
       " 'GBUM71503202',\n",
       " 'JPVI01323170',\n",
       " 'USM952000023',\n",
       " 'USKX21700007',\n",
       " 'uscgh1919192',\n",
       " 'SE5VF1801592',\n",
       " 'USSM10903627',\n",
       " 'QM24S2105528',\n",
       " 'TCABM1330239',\n",
       " 'SE5IB2281601',\n",
       " 'QMSCA1100018',\n",
       " 'JPPO02004009',\n",
       " 'USRWW0800006',\n",
       " 'TCACO1651454',\n",
       " 'JPVI02201484',\n",
       " 'JPBV01021873',\n",
       " 'USVT33000001',\n",
       " 'USAT21802786',\n",
       " 'USM952100026',\n",
       " 'USJY51100057',\n",
       " 'ushm91654559',\n",
       " 'USM952200023',\n",
       " 'USQX91301054',\n",
       " 'GB72R2100015',\n",
       " 'USVT31400002',\n",
       " 'USEE11200152',\n",
       " 'AUQC30800008',\n",
       " 'JPPO00608010',\n",
       " 'PHU011615461',\n",
       " 'JPPO02101787',\n",
       " 'GBGLM0400102',\n",
       " 'QMHPC1600067',\n",
       " 'QMP2J2100053',\n",
       " 'USSH49500020',\n",
       " 'QMAHL2200080',\n",
       " 'QZCPW1800028',\n",
       " 'USDHM1413354',\n",
       " 'GBHAH1100026',\n",
       " 'GBGLM0400066',\n",
       " 'USJY51700100',\n",
       " 'GBHAH1100016',\n",
       " 'USDHM1401010',\n",
       " 'USIR20400517',\n",
       " 'ushm21799518',\n",
       " 'ushm21799519',\n",
       " 'GBUM72105815',\n",
       " 'usdy42042463',\n",
       " 'USDHM1709882',\n",
       " 'USVG20701889',\n",
       " 'USVG20701889',\n",
       " 'USVG20388183',\n",
       " 'TCADQ1818024',\n",
       " 'QZNWU2122099',\n",
       " 'UK42F2000584',\n",
       " 'TCABI1258499',\n",
       " 'USC4R1503312',\n",
       " 'JPU900602422',\n",
       " 'USM951300018',\n",
       " 'CAN112100659',\n",
       " 'DELJ82095587',\n",
       " 'USSM11505897',\n",
       " 'JPVI01608930',\n",
       " 'USRC12001314',\n",
       " 'JPWP02000283',\n",
       " 'TCAEM1996027',\n",
       " 'SE5BU1705286',\n",
       " 'USAT21802784',\n",
       " 'USM951500006',\n",
       " 'JPVI02001938',\n",
       " 'NLRD52017519',\n",
       " 'GB23W1900010',\n",
       " 'SE5IB1600649',\n",
       " 'UK95S1600006',\n",
       " 'USSM11809231',\n",
       " 'PHU011615464',\n",
       " 'USQX91301063',\n",
       " 'FR6V82139288',\n",
       " 'USE831543067',\n",
       " 'JPVI01531170',\n",
       " 'USBP10372202',\n",
       " 'JPN001200075',\n",
       " 'USEE10240647',\n",
       " 'USRC20400098',\n",
       " 'PHS112200129',\n",
       " 'TCACY1762118',\n",
       " 'QZE992100003',\n",
       " 'USDHM1705834',\n",
       " 'USSTT1400245',\n",
       " 'PHU010910882',\n",
       " 'QZFZ42022227',\n",
       " 'USDHM1800048',\n",
       " 'USDHM1401006',\n",
       " 'USMC15546857',\n",
       " 'USA6G1454512',\n",
       " 'QZFZ42022537',\n",
       " 'usx9p2070058',\n",
       " 'GBUM72105826',\n",
       " 'GBUM72102412',\n",
       " 'NLRD51967449',\n",
       " 'USDHM1413362',\n",
       " 'GBUM71503201',\n",
       " 'JPWP01770243',\n",
       " 'JPVI02100911',\n",
       " 'USMO10110306',\n",
       " 'PHW011900184',\n",
       " 'GB23W1600006',\n",
       " 'US8D61300001',\n",
       " 'JPVI01801800',\n",
       " 'QZGWX2175379',\n",
       " 'USQE91000008',\n",
       " 'UK42F2100134',\n",
       " 'USA560936395',\n",
       " 'UK42F1700064',\n",
       " 'USUM71514617',\n",
       " 'SE5IB1701670',\n",
       " 'USAP38930505',\n",
       " 'USCGH0941509',\n",
       " 'US8LZ2000003',\n",
       " 'USUM71411182',\n",
       " 'TCAEL1940639',\n",
       " 'TCADC1737702',\n",
       " 'QMJ9S1300183',\n",
       " 'USEE11100768',\n",
       " 'TCADK1745123',\n",
       " 'NLRD51953721',\n",
       " 'FR6V82139285',\n",
       " 'JPPO02101796',\n",
       " 'GBAYE1202354',\n",
       " 'USBN20400567',\n",
       " 'CAX1M2010006',\n",
       " 'USSM11001130',\n",
       " 'NLRD52017634',\n",
       " 'GBCRL0400023',\n",
       " 'USE9B1900309',\n",
       " 'TCABF1291494',\n",
       " 'USJY51700115',\n",
       " 'UK4MC1900230',\n",
       " 'QMHPC1300031',\n",
       " 'USJY51700109',\n",
       " 'TCABM1385731',\n",
       " 'GBUM72105810',\n",
       " 'TCAGK2223085',\n",
       " 'TCADI1714857',\n",
       " 'GBENL1501493',\n",
       " 'TCADI1714834',\n",
       " 'US4KC0618910',\n",
       " 'NLRD52017515',\n",
       " 'USDHM1905495',\n",
       " 'GBUM72102412',\n",
       " 'USAT22102157',\n",
       " 'QMDA61525907',\n",
       " 'JPVI01513950',\n",
       " 'SE5IB1801019',\n",
       " 'SE5IB1701366',\n",
       " 'GB23W1900039',\n",
       " 'QMF921450124',\n",
       " 'JPKT09700902',\n",
       " 'TCAEW2004878',\n",
       " 'QZHN32229809',\n",
       " 'UK42F2000434',\n",
       " 'QZB4J1864254',\n",
       " 'UK42F1800206',\n",
       " 'TCAEH1904119',\n",
       " 'JPPO01904093',\n",
       " 'USUM71607335',\n",
       " 'GBDMT1600114',\n",
       " 'SE4RG1927303',\n",
       " 'JPWP01270654',\n",
       " 'GBLMM0600010',\n",
       " 'TCADM1852715',\n",
       " 'USM951700026',\n",
       " 'UK42F1800371',\n",
       " 'JPWP02201172',\n",
       " 'JPWP01771557',\n",
       " 'USM951400016',\n",
       " 'USTCB0969792',\n",
       " 'QMAHL1500002',\n",
       " 'FR10S1978207',\n",
       " 'GBKPL2082422',\n",
       " 'JPVI00912540',\n",
       " 'PHI011506004',\n",
       " 'TCADU1837684',\n",
       " 'USMC15507777',\n",
       " 'USLZJ1786576',\n",
       " 'US8340800198',\n",
       " 'NLRD52017624',\n",
       " 'UK42F2200058',\n",
       " 'PHI011506010',\n",
       " 'USEE11200151',\n",
       " 'GBGLM0400066',\n",
       " 'USDHM2206698',\n",
       " 'FR6V82352730',\n",
       " 'USJY51700102',\n",
       " 'GB-SMU-32-69889',\n",
       " 'USA6G1662207',\n",
       " 'GBUM72105817',\n",
       " 'GBHAH1100197',\n",
       " 'USRZR1008203',\n",
       " 'USDHM1401012',\n",
       " 'QZHN71941838',\n",
       " 'USFW41391303',\n",
       " 'JPVI01820191',\n",
       " 'USFXA2100001',\n",
       " 'SE5IB1801132',\n",
       " 'GB23W1600005',\n",
       " 'SE5IB1901083',\n",
       " 'SE5IB1800245',\n",
       " 'QM4TX1571137',\n",
       " 'SE5IB1701962',\n",
       " 'PHI012007528',\n",
       " 'SE5IB1700943',\n",
       " 'SE5IB1900835',\n",
       " 'TCAGB2202480',\n",
       " 'QZPJ32105278',\n",
       " 'SE5IB1701091',\n",
       " 'SEVJH1803001',\n",
       " 'USRWW1100011',\n",
       " 'NLRD51953764',\n",
       " 'JPSR09603658',\n",
       " 'USAT21811525',\n",
       " 'JPPO01402755',\n",
       " 'USUM71405843',\n",
       " 'JPVI01640590',\n",
       " 'JPVI02001555',\n",
       " 'USM951100032',\n",
       " 'TCACY1762120',\n",
       " 'TCAFA2005880',\n",
       " 'GBCRL1300002',\n",
       " 'USUG12106435',\n",
       " 'usdy41533405',\n",
       " 'US8LZ1800002',\n",
       " 'USJY51700112',\n",
       " 'USMC16051851',\n",
       " 'QMHPC1300039',\n",
       " 'QZHN71987253',\n",
       " 'USDHM1800049',\n",
       " 'QMHPC1300077',\n",
       " 'NLRD52083282',\n",
       " 'GBAYE1202354',\n",
       " 'GBMJG1503542',\n",
       " 'USTN10800248',\n",
       " 'QZE991900004',\n",
       " 'QZFZ42022536',\n",
       " 'CAAMC1600012',\n",
       " 'US3R42144805',\n",
       " 'QZTAT2180973',\n",
       " 'QMPKX1764647',\n",
       " 'uscgj2238400',\n",
       " 'USSV10800002',\n",
       " 'GBUM71300336',\n",
       " 'UKQ7M1806011',\n",
       " 'SE5IB1600513',\n",
       " 'UK42F2000263',\n",
       " 'UK42F1700100',\n",
       " 'PHUM72200187',\n",
       " 'SE5IB1800994',\n",
       " 'SE5IB1901164',\n",
       " 'SE5IB2295223',\n",
       " 'TCACQ1664669',\n",
       " 'USW5Q1100004',\n",
       " 'SE5IB1700861',\n",
       " 'JPSR00200281',\n",
       " 'QZFZ22155651',\n",
       " 'QZNWY2108450',\n",
       " 'USM951800012',\n",
       " 'CA07W1500004',\n",
       " 'USM951200003',\n",
       " 'USA2B1604138',\n",
       " 'PHU011815717',\n",
       " 'USVT31400013',\n",
       " 'USVT31600001',\n",
       " 'QZPJ32166292',\n",
       " 'USMC15646859',\n",
       " 'JPPO00933170',\n",
       " 'US3DF1413720',\n",
       " 'JPPO02101790',\n",
       " 'USRC12001301',\n",
       " 'QZHN81959407',\n",
       " 'QM24S2102701',\n",
       " 'usdy41917582',\n",
       " 'TCAAR1079736',\n",
       " 'JPVI00843250',\n",
       " 'USRO28630978',\n",
       " 'USSM11306709',\n",
       " 'ZZOPM2223342',\n",
       " 'NLRD52041728',\n",
       " 'TCAEJ1940226',\n",
       " 'TCADI1714846',\n",
       " 'USFW40466511',\n",
       " 'USA6G1454510',\n",
       " 'CAI7P1300047',\n",
       " 'NLRD52017516',\n",
       " 'USFW41912908',\n",
       " 'USA560555666',\n",
       " 'GBHAH1100019',\n",
       " 'NLRD51953693',\n",
       " 'USDHM1822491',\n",
       " 'GBAAP0000849',\n",
       " 'QM4MA1600110',\n",
       " 'NLRD52017625',\n",
       " 'USFW41695806',\n",
       " 'UK42F2000566',\n",
       " 'USEE11400516',\n",
       " 'TCADF1714992',\n",
       " 'QZMEN2037671',\n",
       " 'USUM71615568',\n",
       " 'SEWDL6141708',\n",
       " 'SE5IB1800521',\n",
       " 'QM4TX1571139',\n",
       " 'USM952000016',\n",
       " 'CA5KR1948121',\n",
       " 'GBKPL1963403',\n",
       " 'USM951100040',\n",
       " 'SE5IB1800271',\n",
       " 'JPN300901221',\n",
       " 'TCADM1803501',\n",
       " 'JPPO00849900',\n",
       " 'SEMBA0300204',\n",
       " 'JPBV09004410',\n",
       " 'TCACL1683857',\n",
       " 'QZGWW2005460',\n",
       " 'QMKAD1200004',\n",
       " 'JPBV08900440',\n",
       " 'USM951900001',\n",
       " 'NLRD51953747',\n",
       " 'JPTO00401971',\n",
       " 'JPFL01810040',\n",
       " 'JPVI01702010',\n",
       " 'USTC80996030',\n",
       " 'CAS432146805',\n",
       " 'GBAAP0000835',\n",
       " 'JPTO00401968',\n",
       " 'SE5IB2001635',\n",
       " 'TCACY1762126',\n",
       " 'USA2B2203872',\n",
       " 'JPPO01803665',\n",
       " 'NLRD51967449',\n",
       " 'FR6V82352737',\n",
       " 'uscgj2238399',\n",
       " 'GBSMU1916662',\n",
       " 'GBUM72105817',\n",
       " 'US4ZV1200014',\n",
       " 'GBUM72105828',\n",
       " 'GBAAP0000842',\n",
       " 'USDHM2206702',\n",
       " 'USFW41912909',\n",
       " 'uscgj1053681',\n",
       " 'USSM10004119',\n",
       " 'QMPKX1764649',\n",
       " 'USA6G1145803',\n",
       " 'GBUM71300320',\n",
       " ...]"
      ]
     },
     "execution_count": 32,
     "metadata": {},
     "output_type": "execute_result"
    }
   ],
   "source": [
    "df_isrc"
   ]
  }
 ],
 "metadata": {
  "kernelspec": {
   "display_name": "HarmonIQ",
   "language": "python",
   "name": "python3"
  },
  "language_info": {
   "codemirror_mode": {
    "name": "ipython",
    "version": 3
   },
   "file_extension": ".py",
   "mimetype": "text/x-python",
   "name": "python",
   "nbconvert_exporter": "python",
   "pygments_lexer": "ipython3",
   "version": "3.10.6"
  },
  "toc": {
   "base_numbering": 1,
   "nav_menu": {},
   "number_sections": true,
   "sideBar": true,
   "skip_h1_title": false,
   "title_cell": "Table of Contents",
   "title_sidebar": "Contents",
   "toc_cell": false,
   "toc_position": {},
   "toc_section_display": true,
   "toc_window_display": false
  },
  "varInspector": {
   "cols": {
    "lenName": 16,
    "lenType": 16,
    "lenVar": 40
   },
   "kernels_config": {
    "python": {
     "delete_cmd_postfix": "",
     "delete_cmd_prefix": "del ",
     "library": "var_list.py",
     "varRefreshCmd": "print(var_dic_list())"
    },
    "r": {
     "delete_cmd_postfix": ") ",
     "delete_cmd_prefix": "rm(",
     "library": "var_list.r",
     "varRefreshCmd": "cat(var_dic_list()) "
    }
   },
   "types_to_exclude": [
    "module",
    "function",
    "builtin_function_or_method",
    "instance",
    "_Feature"
   ],
   "window_display": false
  }
 },
 "nbformat": 4,
 "nbformat_minor": 5
}
